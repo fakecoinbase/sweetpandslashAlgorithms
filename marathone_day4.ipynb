{
  "nbformat": 4,
  "nbformat_minor": 0,
  "metadata": {
    "colab": {
      "name": "marathone_day4.ipynb",
      "provenance": [],
      "authorship_tag": "ABX9TyOgZnD71dQoDzEp3QU9Kjp9",
      "include_colab_link": true
    },
    "kernelspec": {
      "name": "python3",
      "display_name": "Python 3"
    }
  },
  "cells": [
    {
      "cell_type": "markdown",
      "metadata": {
        "id": "view-in-github",
        "colab_type": "text"
      },
      "source": [
        "<a href=\"https://colab.research.google.com/github/sweetpand/Algorithms/blob/master/marathone_day4.ipynb\" target=\"_parent\"><img src=\"https://colab.research.google.com/assets/colab-badge.svg\" alt=\"Open In Colab\"/></a>"
      ]
    },
    {
      "cell_type": "markdown",
      "metadata": {
        "id": "8rZrbj5TloAC",
        "colab_type": "text"
      },
      "source": [
        "1. В диапазоне натуральных чисел от 2 до 99 определить, сколько из них кратны любому из чисел в диапазоне от 2 до 9.\n"
      ]
    },
    {
      "cell_type": "code",
      "metadata": {
        "id": "1BWTRfX_lbi3",
        "colab_type": "code",
        "colab": {
          "base_uri": "https://localhost:8080/",
          "height": 170
        },
        "outputId": "c0a3323c-b9b2-4dd1-a1e4-38e23cf7ca0d"
      },
      "source": [
        "multiple_count = {}\n",
        "\n",
        "for i in range(2,100):\n",
        "    for j in range(2,10):\n",
        "        if(i % j == 0):\n",
        "            if j not in multiple_count:\n",
        "                multiple_count[j] = 1\n",
        "            else:\n",
        "                multiple_count[j] += 1\n",
        "\n",
        "print(multiple_count)\n",
        "                \n",
        "for i in multiple_count:  \n",
        "    print(f'Чисел кратных {i} - {multiple_count[i]} шт')"
      ],
      "execution_count": 1,
      "outputs": [
        {
          "output_type": "stream",
          "text": [
            "{2: 49, 3: 33, 4: 24, 5: 19, 6: 16, 7: 14, 8: 12, 9: 11}\n",
            "Чисел кратных 2 - 49 шт\n",
            "Чисел кратных 3 - 33 шт\n",
            "Чисел кратных 4 - 24 шт\n",
            "Чисел кратных 5 - 19 шт\n",
            "Чисел кратных 6 - 16 шт\n",
            "Чисел кратных 7 - 14 шт\n",
            "Чисел кратных 8 - 12 шт\n",
            "Чисел кратных 9 - 11 шт\n"
          ],
          "name": "stdout"
        }
      ]
    },
    {
      "cell_type": "markdown",
      "metadata": {
        "id": "5zSlyUvWl3Vp",
        "colab_type": "text"
      },
      "source": [
        "2. Во втором массиве сохранить индексы четных элементов первого массива. Например, если дан массив со значениями 8, 3, 15, 6, 4, 2, то во второй массив надо заполнить значениями 1, 4, 5, 6 (или 0, 3, 4, 5 – если индексация начинается с нуля), т.к. именно в этих позициях первого массива стоят четные числа."
      ]
    },
    {
      "cell_type": "code",
      "metadata": {
        "id": "rIT7JyqClt_7",
        "colab_type": "code",
        "colab": {
          "base_uri": "https://localhost:8080/",
          "height": 34
        },
        "outputId": "da656252-6c81-4e53-f68f-36b3072c144d"
      },
      "source": [
        "first_list = [8, 3, 15, 6, 4, 2]\n",
        "second_list = []\n",
        "for k, v in enumerate(first_list):\n",
        "    if(v % 2 == 0):\n",
        "        second_list.append(k)\n",
        "\n",
        "print(second_list)"
      ],
      "execution_count": 2,
      "outputs": [
        {
          "output_type": "stream",
          "text": [
            "[0, 3, 4, 5]\n"
          ],
          "name": "stdout"
        }
      ]
    },
    {
      "cell_type": "markdown",
      "metadata": {
        "id": "UbFBSxk2mCtR",
        "colab_type": "text"
      },
      "source": [
        "3. В массиве случайных целых чисел поменять местами минимальный и максимальный элементы."
      ]
    },
    {
      "cell_type": "code",
      "metadata": {
        "id": "h5jRJG0RmDso",
        "colab_type": "code",
        "colab": {
          "base_uri": "https://localhost:8080/",
          "height": 51
        },
        "outputId": "18117186-8689-4c68-df39-e43d03ba3c3b"
      },
      "source": [
        "import random\n",
        "random_list = random.sample(range(0,100), 10)\n",
        "\n",
        "# Минимальное и максимальное значение по дефолту - первый элемент списка\n",
        "k_min = k_max = 0\n",
        "v_min = random_list[0]\n",
        "v_max = random_list[0]\n",
        "\n",
        "print(f'{\"random list\":17} {random_list}')\n",
        "\n",
        "for k, v in enumerate(random_list): # определение минимального и максимального числа\n",
        "    if(v > v_max):\n",
        "        v_max = v\n",
        "        k_max = k\n",
        "    if(v < v_min):\n",
        "        v_min = v\n",
        "        k_min = k\n",
        "\n",
        "random_list[k_min], random_list[k_max] = random_list[k_max], random_list[k_min]\n",
        "\n",
        "print(f'{\"reverse max & min\":17} {random_list}')"
      ],
      "execution_count": 3,
      "outputs": [
        {
          "output_type": "stream",
          "text": [
            "random list       [33, 18, 51, 42, 17, 70, 89, 13, 10, 29]\n",
            "reverse max & min [33, 18, 51, 42, 17, 70, 10, 13, 89, 29]\n"
          ],
          "name": "stdout"
        }
      ]
    },
    {
      "cell_type": "markdown",
      "metadata": {
        "id": "jQ0NGHRmmRrD",
        "colab_type": "text"
      },
      "source": [
        "4. Определить, какое число в массиве встречается чаще всего."
      ]
    },
    {
      "cell_type": "code",
      "metadata": {
        "id": "znHltv_dmWFG",
        "colab_type": "code",
        "colab": {
          "base_uri": "https://localhost:8080/",
          "height": 51
        },
        "outputId": "7196b1ca-db25-48ff-9b9f-32da22d43ea9"
      },
      "source": [
        "import random\n",
        "random_list = random.sample([i for i in range(0,10)] * 10, 20) #генерация случайного массива с повторяющимися числами\n",
        "print(f'Случайный массив {random_list}')\n",
        "\n",
        "count = {}\n",
        "max_nuber = max_count = 0\n",
        "\n",
        "for i in random_list:\n",
        "    if i in count:\n",
        "        count[i] +=1\n",
        "    else:\n",
        "        count[i] = 1\n",
        "        \n",
        "    if count[i] > max_count:\n",
        "        max_count = count[i]\n",
        "        max_nuber = i\n",
        "    \n",
        "print(f'Больше всех, встречается число: {max_nuber}, вхождений: {max_count}')"
      ],
      "execution_count": 4,
      "outputs": [
        {
          "output_type": "stream",
          "text": [
            "Случайный массив [3, 6, 2, 3, 5, 7, 5, 1, 7, 8, 2, 2, 3, 1, 8, 7, 6, 8, 8, 7]\n",
            "Больше всех, встречается число: 8, вхождений: 4\n"
          ],
          "name": "stdout"
        }
      ]
    },
    {
      "cell_type": "markdown",
      "metadata": {
        "id": "PUD6fJePmfjU",
        "colab_type": "text"
      },
      "source": [
        "\n",
        "5. В массиве найти максимальный отрицательный элемент. Вывести на экран его значение и позицию в массиве."
      ]
    },
    {
      "cell_type": "code",
      "metadata": {
        "id": "FK527SOimk75",
        "colab_type": "code",
        "colab": {
          "base_uri": "https://localhost:8080/",
          "height": 51
        },
        "outputId": "8264fc4a-8f39-4c3e-8623-1053e6a8a025"
      },
      "source": [
        "import random\n",
        "random_list = random.sample(range(-100,100), 10)\n",
        "max_num = {}\n",
        "print(random_list)\n",
        "\n",
        "for k,v in enumerate(random_list):\n",
        "    if v < 0:\n",
        "        if 'value' not in max_num:\n",
        "            max_num['key'] = k\n",
        "            max_num['value'] = v\n",
        "        elif v > max_num['value']:\n",
        "            max_num['key'] = k\n",
        "            max_num['value'] = v\n",
        "\n",
        "if not('value' in max_num):\n",
        "    print('Массив не имеет отрицательных значений')\n",
        "else:\n",
        "    print(f'Максимальное отрицательное число {max_num[\"value\"]} с индексом {max_num[\"key\"]}') "
      ],
      "execution_count": 5,
      "outputs": [
        {
          "output_type": "stream",
          "text": [
            "[98, 36, 2, -43, 48, -86, -1, -21, 80, 20]\n",
            "Максимальное отрицательное число -1 с индексом 6\n"
          ],
          "name": "stdout"
        }
      ]
    },
    {
      "cell_type": "markdown",
      "metadata": {
        "id": "AoOV3ET2mwEK",
        "colab_type": "text"
      },
      "source": [
        "6. В одномерном массиве найти сумму элементов, находящихся между минимальным и максимальным элементами. Сами минимальный и максимальный элементы в сумму не включать."
      ]
    },
    {
      "cell_type": "code",
      "metadata": {
        "id": "NucREy8sm4sm",
        "colab_type": "code",
        "colab": {
          "base_uri": "https://localhost:8080/",
          "height": 68
        },
        "outputId": "d1d46fe2-1b43-4217-d293-e81899d1c090"
      },
      "source": [
        "import random\n",
        "random_list = random.sample(range(0,100), 10)\n",
        "\n",
        "numers = {\n",
        "    'max_value': random_list[0],\n",
        "    'min_value': random_list[0],\n",
        "    'min_key': 0,\n",
        "    'max_key': 0,\n",
        "    'sum': 0\n",
        "}\n",
        "\n",
        "print(random_list)\n",
        "\n",
        "for k,v in enumerate(random_list):\n",
        "    if v > numers['max_value']:\n",
        "        numers['max_key'] = k\n",
        "        numers['max_value'] = v\n",
        "    elif v < numers['min_value']:\n",
        "        numers['min_key'] = k\n",
        "        numers['min_value'] = v\n",
        "\n",
        "if numers['min_key']+1 < numers['max_key']:\n",
        "    for i in random_list[numers['min_key']+1:numers['max_key']]:\n",
        "        numers['sum'] += i\n",
        "elif numers['min_key'] > numers['max_key']+1:\n",
        "    for i in random_list[numers['max_key']+1:numers['min_key']]:\n",
        "        numers['sum'] += i\n",
        "else:\n",
        "    print('Между минимальным и максимальным элементом нет чисел')\n",
        "\n",
        "print(f'Сумма {numers[\"sum\"]}')\n",
        "print(numers)"
      ],
      "execution_count": 6,
      "outputs": [
        {
          "output_type": "stream",
          "text": [
            "[53, 60, 27, 63, 85, 78, 19, 69, 83, 48]\n",
            "Сумма 78\n",
            "{'max_value': 85, 'min_value': 19, 'min_key': 6, 'max_key': 4, 'sum': 78}\n"
          ],
          "name": "stdout"
        }
      ]
    },
    {
      "cell_type": "markdown",
      "metadata": {
        "id": "zU-5JQM9nCoC",
        "colab_type": "text"
      },
      "source": [
        "7. В одномерном массиве целых чисел определить два наименьших элемента. Они могут быть как равны между собой (оба являться минимальными), так и различаться."
      ]
    },
    {
      "cell_type": "code",
      "metadata": {
        "id": "fk6z0Jvem-Me",
        "colab_type": "code",
        "colab": {
          "base_uri": "https://localhost:8080/",
          "height": 51
        },
        "outputId": "6925ea54-48aa-4b08-c699-9882f7d38b03"
      },
      "source": [
        "import random\n",
        "random_list = random.sample([i for i in range(0,100)] * 10, 20) #генерация случайного массива с повторяющимися числами\n",
        "\n",
        "print(random_list)\n",
        "\n",
        "numers = {}\n",
        "\n",
        "for k,v in enumerate(random_list):\n",
        "    if 'min_first_value' not in numers:\n",
        "        numers['min_first_value'] = v\n",
        "    elif v < numers['min_first_value']:\n",
        "        numers['min_second_value'] = numers['min_first_value']\n",
        "        numers['min_first_value'] = v\n",
        "    elif 'min_second_value' not in numers:\n",
        "        numers['min_second_value'] = v\n",
        "    elif v < numers['min_second_value']:\n",
        "        numers['min_second_value'] = v\n",
        "        \n",
        "print(f\"Два наименьших числа {numers['min_first_value']} и {numers['min_second_value']}\")"
      ],
      "execution_count": 7,
      "outputs": [
        {
          "output_type": "stream",
          "text": [
            "[58, 78, 70, 12, 6, 40, 60, 32, 49, 45, 46, 69, 14, 52, 34, 79, 18, 88, 2, 54]\n",
            "Два наименьших числа 2 и 6\n"
          ],
          "name": "stdout"
        }
      ]
    },
    {
      "cell_type": "markdown",
      "metadata": {
        "id": "ZqXuAZpFnJdD",
        "colab_type": "text"
      },
      "source": [
        "8. Матрица 5x4 заполняется вводом с клавиатуры, кроме последних элементов строк. Программа должна вычислять сумму введенных элементов каждой строки и записывать ее в ее последнюю ячейку. В конце следует вывести полученную матрицу."
      ]
    },
    {
      "cell_type": "code",
      "metadata": {
        "id": "MUmr17swnJNk",
        "colab_type": "code",
        "colab": {
          "base_uri": "https://localhost:8080/",
          "height": 391
        },
        "outputId": "1be642f3-3236-4177-d214-763109aca394"
      },
      "source": [
        "res_matrix = []\n",
        "print('Заполните матрицу 5х4, последовательным вводом чисел, последний 5ый элемент строки рассчитается как сумма')\n",
        "\n",
        "for i in range(4):\n",
        "    res_matrix.append([])\n",
        "    row_sum = 0\n",
        "    for j in range(4):\n",
        "        inp = int(input(f'Число для строки {i+1}, ячейки {j+1}: '))\n",
        "        res_matrix[i].append(inp)\n",
        "        row_sum += inp\n",
        "    res_matrix[i].append(row_sum)\n",
        "\n",
        "\n",
        "print('Итоговая матрица: ')\n",
        "for i in res_matrix:\n",
        "    print(i)"
      ],
      "execution_count": 8,
      "outputs": [
        {
          "output_type": "stream",
          "text": [
            "Заполните матрицу 5х4, последовательным вводом чисел, последний 5ый элемент строки рассчитается как сумма\n",
            "Число для строки 1, ячейки 1: 1\n",
            "Число для строки 1, ячейки 2: 4\n",
            "Число для строки 1, ячейки 3: 6\n",
            "Число для строки 1, ячейки 4: 7\n",
            "Число для строки 2, ячейки 1: 8\n",
            "Число для строки 2, ячейки 2: 65\n",
            "Число для строки 2, ячейки 3: 465\n",
            "Число для строки 2, ячейки 4: 4566\n",
            "Число для строки 3, ячейки 1: 465\n",
            "Число для строки 3, ячейки 2: 5646\n",
            "Число для строки 3, ячейки 3: 767\n",
            "Число для строки 3, ячейки 4: 67\n",
            "Число для строки 4, ячейки 1: 3656\n",
            "Число для строки 4, ячейки 2: 567\n",
            "Число для строки 4, ячейки 3: 657\n",
            "Число для строки 4, ячейки 4: 567\n",
            "Итоговая матрица: \n",
            "[1, 4, 6, 7, 18]\n",
            "[8, 65, 465, 4566, 5104]\n",
            "[465, 5646, 767, 67, 6945]\n",
            "[3656, 567, 657, 567, 5447]\n"
          ],
          "name": "stdout"
        }
      ]
    },
    {
      "cell_type": "markdown",
      "metadata": {
        "id": "jlbkT4ILnh3z",
        "colab_type": "text"
      },
      "source": [
        "9. Найти максимальный элемент среди минимальных элементов столбцов матрицы.\n"
      ]
    },
    {
      "cell_type": "code",
      "metadata": {
        "id": "SOi4qdsnnm9B",
        "colab_type": "code",
        "colab": {
          "base_uri": "https://localhost:8080/",
          "height": 85
        },
        "outputId": "6d3bcc10-b0bb-4a7b-deb9-ebf68248a25c"
      },
      "source": [
        "matrix = [\n",
        "    [1,4,5,8],\n",
        "    [3,2,4,5],\n",
        "    [5,6,3,8],\n",
        "    [9,6,5,4],\n",
        "]\n",
        "\n",
        "dictnumbers = {}\n",
        "\n",
        "for j in range(0, len(matrix[0])):\n",
        "    for i in range(0, len(matrix)):\n",
        "        if not(j in dictnumbers):\n",
        "            dictnumbers[j] = {\n",
        "                'min_value': matrix[i][j],\n",
        "                'min_row_index': i\n",
        "            }\n",
        "        elif matrix[i][j] < dictnumbers[j]['min_value']:\n",
        "            dictnumbers[j] = {\n",
        "                'min_value': matrix[i][j],\n",
        "                'min_row_index': i\n",
        "            }\n",
        "    if not('max' in dictnumbers):\n",
        "        dictnumbers['max'] = {\n",
        "            'value': dictnumbers[j]['min_value'],\n",
        "            'row': dictnumbers[j]['min_row_index'],\n",
        "            'col': j\n",
        "        }\n",
        "    elif dictnumbers[j]['min_value'] > dictnumbers['max']['value']:\n",
        "        dictnumbers['max'] = {\n",
        "            'value': dictnumbers[j]['min_value'],\n",
        "            'row': dictnumbers[j]['min_row_index'],\n",
        "            'col': j\n",
        "        }\n",
        "        \n",
        "print(f\"Максимальный элемент среди минимальных элементов столбцов матрицы \\n\\\n",
        "      число: {dictnumbers['max']['value']} \\n\\\n",
        "      строка {dictnumbers['max']['row']+1}, \\n\\\n",
        "      столбец {dictnumbers['max']['col']+1}\")"
      ],
      "execution_count": 9,
      "outputs": [
        {
          "output_type": "stream",
          "text": [
            "Максимальный элемент среди минимальных элементов столбцов матрицы \n",
            "      число: 4 \n",
            "      строка 4, \n",
            "      столбец 4\n"
          ],
          "name": "stdout"
        }
      ]
    }
  ]
}