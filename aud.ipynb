{
  "nbformat": 4,
  "nbformat_minor": 0,
  "metadata": {
    "colab": {
      "name": "audatic.ipynb",
      "provenance": [],
      "authorship_tag": "ABX9TyOS1eBVUwEg6xzrwAp91rDe",
      "include_colab_link": true
    },
    "kernelspec": {
      "name": "python3",
      "display_name": "Python 3"
    }
  },
  "cells": [
    {
      "cell_type": "markdown",
      "metadata": {
        "id": "view-in-github",
        "colab_type": "text"
      },
      "source": [
        "<a href=\"https://colab.research.google.com/github/sweetpand/Algorithms/blob/master/aud.ipynb\" target=\"_parent\"><img src=\"https://colab.research.google.com/assets/colab-badge.svg\" alt=\"Open In Colab\"/></a>"
      ]
    },
    {
      "cell_type": "code",
      "metadata": {
        "id": "PAOM1tmOVYFl",
        "colab_type": "code",
        "colab": {}
      },
      "source": [
        "s = '--a1=[1,2,3]--a2=4.0'\n",
        "s1 = '--a1=[1,0,0]'\n",
        "s2 = '--a1=[[1,2,3],[]]--a2=4'"
      ],
      "execution_count": 0,
      "outputs": []
    },
    {
      "cell_type": "code",
      "metadata": {
        "id": "h31zdPuGVdWY",
        "colab_type": "code",
        "colab": {}
      },
      "source": [
        "s = ''.join([i for i in s if i.isdigit()])\n",
        "s1 = ''.join([i for i in s1 if i.isdigit()])\n",
        "s2 = ''.join([i for i in s2 if i.isdigit()])"
      ],
      "execution_count": 0,
      "outputs": []
    },
    {
      "cell_type": "code",
      "metadata": {
        "id": "wLcs46AZVeeF",
        "colab_type": "code",
        "colab": {
          "base_uri": "https://localhost:8080/",
          "height": 68
        },
        "outputId": "012a5759-0ea1-4606-fad4-3358dc24eb04"
      },
      "source": [
        "print(s)\n",
        "print(s1)\n",
        "print(s2)"
      ],
      "execution_count": 30,
      "outputs": [
        {
          "output_type": "stream",
          "text": [
            "1123240\n",
            "1100\n",
            "112324\n"
          ],
          "name": "stdout"
        }
      ]
    },
    {
      "cell_type": "code",
      "metadata": {
        "id": "pQROhUDlc5dC",
        "colab_type": "code",
        "colab": {}
      },
      "source": [
        "s = ''.join([i for i in s]).replace('a1','')"
      ],
      "execution_count": 0,
      "outputs": []
    },
    {
      "cell_type": "code",
      "metadata": {
        "id": "WFxnrowceh43",
        "colab_type": "code",
        "colab": {}
      },
      "source": [
        "s = ''.join([i for i in s]).replace('a2','')"
      ],
      "execution_count": 0,
      "outputs": []
    },
    {
      "cell_type": "code",
      "metadata": {
        "id": "PGXq8DaCdrpp",
        "colab_type": "code",
        "colab": {
          "base_uri": "https://localhost:8080/",
          "height": 34
        },
        "outputId": "dedfadcc-9285-45cb-8176-940dbd4dd205"
      },
      "source": [
        "print(s)"
      ],
      "execution_count": 67,
      "outputs": [
        {
          "output_type": "stream",
          "text": [
            "--=[1,2,3]--=4.0\n"
          ],
          "name": "stdout"
        }
      ]
    },
    {
      "cell_type": "code",
      "metadata": {
        "id": "8IZFgo0VepK5",
        "colab_type": "code",
        "colab": {}
      },
      "source": [
        "s = ''.join([i for i in s if i.isdigit()])"
      ],
      "execution_count": 0,
      "outputs": []
    },
    {
      "cell_type": "code",
      "metadata": {
        "id": "l7GL0Fw1erkj",
        "colab_type": "code",
        "colab": {
          "base_uri": "https://localhost:8080/",
          "height": 34
        },
        "outputId": "5e4114d0-2d85-4699-8b82-18f4c52009c3"
      },
      "source": [
        "print(s)"
      ],
      "execution_count": 74,
      "outputs": [
        {
          "output_type": "stream",
          "text": [
            "12340\n"
          ],
          "name": "stdout"
        }
      ]
    },
    {
      "cell_type": "code",
      "metadata": {
        "id": "ysU97TihiEg-",
        "colab_type": "code",
        "colab": {
          "base_uri": "https://localhost:8080/",
          "height": 34
        },
        "outputId": "396a1547-9135-4b22-fa2e-2b366dc18dba"
      },
      "source": [
        "import re\n",
        "p = re.compile('(?:a1=)(.*)')\n",
        "print(p.findall(s))"
      ],
      "execution_count": 89,
      "outputs": [
        {
          "output_type": "stream",
          "text": [
            "['[1,2,3]--a2=4.0']\n"
          ],
          "name": "stdout"
        }
      ]
    },
    {
      "cell_type": "code",
      "metadata": {
        "id": "t7mR785GiqA3",
        "colab_type": "code",
        "colab": {}
      },
      "source": [
        "import re \n",
        "\n",
        "def normalize(s):\n",
        "  result = 0 \n",
        "\n",
        "  if 'a1' in s:\n",
        "    p = re.compile('(?:a1=)(.*)')\n",
        "    l = (p.findall(s))\n",
        "    print(l)\n",
        "  if 'a2' in s:\n",
        "    p = re.compile('(?:a2=)(.*)')\n",
        "    print(p.findall(s))\n"
      ],
      "execution_count": 0,
      "outputs": []
    },
    {
      "cell_type": "code",
      "metadata": {
        "id": "oAxOOJVjjbP0",
        "colab_type": "code",
        "colab": {
          "base_uri": "https://localhost:8080/",
          "height": 34
        },
        "outputId": "43fac80a-9258-452e-8dd7-0bdacc6b7db9"
      },
      "source": [
        "normalize(s)"
      ],
      "execution_count": 101,
      "outputs": [
        {
          "output_type": "stream",
          "text": [
            "['[1,2,3]--a2=4.0']\n"
          ],
          "name": "stdout"
        }
      ]
    },
    {
      "cell_type": "code",
      "metadata": {
        "id": "HOs4u2-vltLh",
        "colab_type": "code",
        "colab": {}
      },
      "source": [
        "import re \n",
        "\n",
        "def normalize_1(s1):\n",
        "  result = 0 \n",
        "\n",
        "  if 'a1' in s1:\n",
        "    p = re.compile('(?:a1=)(.*)')\n",
        "    l = (p.findall(s1))\n",
        "    \n",
        "    #print(l)\n",
        "    print(sum(l) / float(len(l)))\n"
      ],
      "execution_count": 0,
      "outputs": []
    },
    {
      "cell_type": "code",
      "metadata": {
        "id": "DzEEttQdl-J-",
        "colab_type": "code",
        "colab": {
          "base_uri": "https://localhost:8080/",
          "height": 249
        },
        "outputId": "50bb4ebf-a08e-4847-beea-0baae438b239"
      },
      "source": [
        "normalize_1(s1)"
      ],
      "execution_count": 126,
      "outputs": [
        {
          "output_type": "error",
          "ename": "TypeError",
          "evalue": "ignored",
          "traceback": [
            "\u001b[0;31m---------------------------------------------------------------------------\u001b[0m",
            "\u001b[0;31mTypeError\u001b[0m                                 Traceback (most recent call last)",
            "\u001b[0;32m<ipython-input-126-dab745e37c16>\u001b[0m in \u001b[0;36m<module>\u001b[0;34m()\u001b[0m\n\u001b[0;32m----> 1\u001b[0;31m \u001b[0mnormalize_1\u001b[0m\u001b[0;34m(\u001b[0m\u001b[0ms1\u001b[0m\u001b[0;34m)\u001b[0m\u001b[0;34m\u001b[0m\u001b[0;34m\u001b[0m\u001b[0m\n\u001b[0m",
            "\u001b[0;32m<ipython-input-125-f2c62a887095>\u001b[0m in \u001b[0;36mnormalize_1\u001b[0;34m(s1)\u001b[0m\n\u001b[1;32m      9\u001b[0m \u001b[0;34m\u001b[0m\u001b[0m\n\u001b[1;32m     10\u001b[0m     \u001b[0;31m#print(l)\u001b[0m\u001b[0;34m\u001b[0m\u001b[0;34m\u001b[0m\u001b[0;34m\u001b[0m\u001b[0m\n\u001b[0;32m---> 11\u001b[0;31m     \u001b[0mprint\u001b[0m\u001b[0;34m(\u001b[0m\u001b[0msum\u001b[0m\u001b[0;34m(\u001b[0m\u001b[0ml\u001b[0m\u001b[0;34m)\u001b[0m \u001b[0;34m/\u001b[0m \u001b[0mfloat\u001b[0m\u001b[0;34m(\u001b[0m\u001b[0mlen\u001b[0m\u001b[0;34m(\u001b[0m\u001b[0ml\u001b[0m\u001b[0;34m)\u001b[0m\u001b[0;34m)\u001b[0m\u001b[0;34m)\u001b[0m\u001b[0;34m\u001b[0m\u001b[0;34m\u001b[0m\u001b[0m\n\u001b[0m",
            "\u001b[0;31mTypeError\u001b[0m: unsupported operand type(s) for +: 'int' and 'str'"
          ]
        }
      ]
    }
  ]
}