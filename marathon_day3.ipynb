{
  "nbformat": 4,
  "nbformat_minor": 0,
  "metadata": {
    "colab": {
      "name": "marathon_day3.ipynb",
      "provenance": [],
      "authorship_tag": "ABX9TyO6vC4mrRz+qI7UvwJZv4fY",
      "include_colab_link": true
    },
    "kernelspec": {
      "name": "python3",
      "display_name": "Python 3"
    }
  },
  "cells": [
    {
      "cell_type": "markdown",
      "metadata": {
        "id": "view-in-github",
        "colab_type": "text"
      },
      "source": [
        "<a href=\"https://colab.research.google.com/github/sweetpand/Algorithms/blob/master/marathon_day3.ipynb\" target=\"_parent\"><img src=\"https://colab.research.google.com/assets/colab-badge.svg\" alt=\"Open In Colab\"/></a>"
      ]
    },
    {
      "cell_type": "markdown",
      "metadata": {
        "id": "XQxSNJb-DSNm",
        "colab_type": "text"
      },
      "source": [
        "\n",
        "Task 1. Write a Python program to get a single string from two given strings, separated by a space and swap the first two characters of each string. \n",
        "Sample String : 'abc', 'xyz'\n",
        "Expected Result : 'xyc abz'"
      ]
    },
    {
      "cell_type": "code",
      "metadata": {
        "id": "aHvJhffJDQFc",
        "colab_type": "code",
        "colab": {
          "base_uri": "https://localhost:8080/",
          "height": 34
        },
        "outputId": "a037d3c9-c555-4afe-de02-7898979338ee"
      },
      "source": [
        "def chars_mix_up(a, b):\n",
        "  new_a = b[:2] + a[2:]\n",
        "  new_b = a[:2] + b[2:]\n",
        "\n",
        "  return new_a + ' ' + new_b\n",
        "print(chars_mix_up('abc', 'xyz'))"
      ],
      "execution_count": 41,
      "outputs": [
        {
          "output_type": "stream",
          "text": [
            "xyc abz\n"
          ],
          "name": "stdout"
        }
      ]
    },
    {
      "cell_type": "markdown",
      "metadata": {
        "id": "UoVjPLimD-kx",
        "colab_type": "text"
      },
      "source": [
        "Task 2. Write a Python program to remove the nth index character from a nonempty string."
      ]
    },
    {
      "cell_type": "code",
      "metadata": {
        "id": "MCqGKBQMD_Ad",
        "colab_type": "code",
        "colab": {
          "base_uri": "https://localhost:8080/",
          "height": 68
        },
        "outputId": "62934b92-77d6-4d79-aa46-a8122b349f7e"
      },
      "source": [
        "def remove_char(str, n):\n",
        "      first_part = str[:n] \n",
        "      last_part = str[n+1:]\n",
        "      return first_part + last_part\n",
        "print(remove_char('LinkedIn', 0))\n",
        "print(remove_char('LinkedIn', 3))\n",
        "print(remove_char('LinkedIn', 5))"
      ],
      "execution_count": 42,
      "outputs": [
        {
          "output_type": "stream",
          "text": [
            "inkedIn\n",
            "LinedIn\n",
            "LinkeIn\n"
          ],
          "name": "stdout"
        }
      ]
    },
    {
      "cell_type": "markdown",
      "metadata": {
        "id": "q22itRFAEP0O",
        "colab_type": "text"
      },
      "source": [
        "# GeekBrains"
      ]
    },
    {
      "cell_type": "markdown",
      "metadata": {
        "id": "mtmaTY984yqr",
        "colab_type": "text"
      },
      "source": [
        "\n",
        "1. Написать программу, которая будет складывать, вычитать, умножать или делить два числа. Числа и знак операции вводятся пользователем. После выполнения вычисления программа не должна завершаться, а должна запрашивать новые данные для вычислений. Завершение программы должно выполняться при вводе символа '0' в качестве знака операции. Если пользователь вводит неверный знак (не '0', '+', '-', '*', '/'), то программа должна сообщать ему об ошибке и снова запрашивать знак операции. Также сообщать пользователю о невозможности деления на ноль, если он ввел 0 в качестве делителя."
      ]
    },
    {
      "cell_type": "code",
      "metadata": {
        "id": "TiTwdd6D4Dje",
        "colab_type": "code",
        "colab": {
          "base_uri": "https://localhost:8080/",
          "height": 170
        },
        "outputId": "3f9536e0-c998-43a8-b9d8-08153882c690"
      },
      "source": [
        "while True:\n",
        "    a = int(input('Enter first number:'))\n",
        "    operand = input('Operand (0 for exit):')\n",
        "    b = int(input('Enter second number:'))\n",
        "    if operand == '0':\n",
        "        print('Bye')\n",
        "        break\n",
        "    elif operand == '+':\n",
        "        print(f'Ans: {a+b}\\n')\n",
        "    elif operand == '-': \n",
        "        print(f'Ans: {a-b}\\n')\n",
        "    elif operand == '*':\n",
        "        print(f'Ans: {a*b}\\n')\n",
        "    elif operand == '/':\n",
        "        if b == 0:\n",
        "            print('Cant divite to 0!\\n')\n",
        "        else:\n",
        "            print(f'Ans: {a/b}\\n')\n",
        "    else:\n",
        "        print('Wrong sign of the operand\\n')"
      ],
      "execution_count": 5,
      "outputs": [
        {
          "output_type": "stream",
          "text": [
            "Enter first number:1348732542\n",
            "Operand (0 for exit):-\n",
            "Enter second number:38472834\n",
            "Ans: 1310259708\n",
            "\n",
            "Enter first number:0\n",
            "Operand (0 for exit):0\n",
            "Enter second number:0\n",
            "Bye\n"
          ],
          "name": "stdout"
        }
      ]
    },
    {
      "cell_type": "markdown",
      "metadata": {
        "id": "A5nH1N9Y6QzU",
        "colab_type": "text"
      },
      "source": [
        "\n",
        "2. Посчитать четные и нечетные цифры введенного натурального числа. Например, если введено число 34560, то у него 3 четные цифры (4, 6 и 0) и 2 нечетные (3 и 5).\n"
      ]
    },
    {
      "cell_type": "code",
      "metadata": {
        "id": "4GWKKpDM6UQp",
        "colab_type": "code",
        "colab": {
          "base_uri": "https://localhost:8080/",
          "height": 51
        },
        "outputId": "6fc917a8-f5e8-4689-f616-221a1caa8fd8"
      },
      "source": [
        "def recursion(n, chet=0, nechet=0):\n",
        "    if n % 2 == 0:\n",
        "        chet +=1\n",
        "    else:\n",
        "        nechet +=1\n",
        "    if (n < 10): #base case\n",
        "        return f'chet={chet}, nechet={nechet}'\n",
        "    else: #step recursion\n",
        "        return recursion(n // 10, chet, nechet)\n",
        "\n",
        "val = input('Enter the number:')\n",
        "print(recursion(int(val)))"
      ],
      "execution_count": 14,
      "outputs": [
        {
          "output_type": "stream",
          "text": [
            "Enter the number:123456789\n",
            "chet=4, nechet=5\n"
          ],
          "name": "stdout"
        }
      ]
    },
    {
      "cell_type": "markdown",
      "metadata": {
        "id": "vL6N79Zg7-ve",
        "colab_type": "text"
      },
      "source": [
        "3. Сформировать из введенного числа обратное по порядку входящих в него цифр и вывести на экран. Например, если введено число 3486, то надо вывести число 6843.\n"
      ]
    },
    {
      "cell_type": "code",
      "metadata": {
        "id": "oFAn86rh8K9a",
        "colab_type": "code",
        "colab": {
          "base_uri": "https://localhost:8080/",
          "height": 51
        },
        "outputId": "6c41218d-b40b-45b2-e851-317ff7178770"
      },
      "source": [
        "\n",
        "def recursion(n, z=f''):\n",
        "    if (n < 10): #base case\n",
        "        z += str(n)\n",
        "        return int(z)\n",
        "    else: #recursion\n",
        "        z += str(n % 10)\n",
        "        return recursion(n // 10, z)\n",
        "\n",
        "val = input('Enter the number:')\n",
        "recursion(int(val))"
      ],
      "execution_count": 16,
      "outputs": [
        {
          "output_type": "stream",
          "text": [
            "Enter the number:3486\n"
          ],
          "name": "stdout"
        },
        {
          "output_type": "execute_result",
          "data": {
            "text/plain": [
              "6843"
            ]
          },
          "metadata": {
            "tags": []
          },
          "execution_count": 16
        }
      ]
    },
    {
      "cell_type": "markdown",
      "metadata": {
        "id": "fJIddW1w8sZP",
        "colab_type": "text"
      },
      "source": [
        "4. Найти сумму n элементов следующего ряда чисел: 1 -0.5 0.25 -0.125 ...Количество элементов (n) вводится с клавиатуры.\n"
      ]
    },
    {
      "cell_type": "code",
      "metadata": {
        "id": "8lfK8ZDW8u7G",
        "colab_type": "code",
        "colab": {
          "base_uri": "https://localhost:8080/",
          "height": 68
        },
        "outputId": "c91eb41c-1083-4e15-9c54-ea1f2c05177f"
      },
      "source": [
        "summa = 1\n",
        "print('Counting the sum of numbers in a row  1 -0.5 0.25 -0.125 ...')\n",
        "n = int(input('Number n: '))\n",
        "\n",
        "x = 1\n",
        "for i in range(0, n-1):\n",
        "    x = x / -2\n",
        "    summa += x\n",
        "    \n",
        "print(f'Summa: {summa}')"
      ],
      "execution_count": 24,
      "outputs": [
        {
          "output_type": "stream",
          "text": [
            "Counting the sum of numbers in a row  1 -0.5 0.25 -0.125 ...\n",
            "Number n: 7\n",
            "Summa: 0.671875\n"
          ],
          "name": "stdout"
        }
      ]
    },
    {
      "cell_type": "markdown",
      "metadata": {
        "id": "eLZUXZsK9uTz",
        "colab_type": "text"
      },
      "source": [
        "\n",
        "5. Вывести на экран коды и символы таблицы ASCII, начиная с символа под номером 32 и заканчивая 127-м включительно. Вывод выполнить в табличной форме: по десять пар «код-символ» в каждой строке.\n"
      ]
    },
    {
      "cell_type": "code",
      "metadata": {
        "id": "JaZ0YjTW9t0u",
        "colab_type": "code",
        "colab": {
          "base_uri": "https://localhost:8080/",
          "height": 187
        },
        "outputId": "b7b98faa-4511-43d7-c6a9-129918c9f792"
      },
      "source": [
        "def row_construct(t, r):\n",
        "    pattern = '| {:<3}: {:<2} ' * r + '|'\n",
        "    return  pattern.format(*t)\n",
        "\n",
        "\n",
        "def rowchar(s, e, r):\n",
        "    row = []\n",
        "    result = ''\n",
        "    \n",
        "    for i in range(s, e+1):\n",
        "        row.append(i)\n",
        "        row.append(chr(i))\n",
        "        if len(row) >= r*2:\n",
        "            result += row_construct(tuple(row), r) + '\\n'\n",
        "            row = []\n",
        "            \n",
        "    if len(row) > 0:\n",
        "        result += row_construct(tuple(row), len(row) // 2) \n",
        "        \n",
        "    return result\n",
        "\n",
        "print(rowchar(32, 127, 10))"
      ],
      "execution_count": 28,
      "outputs": [
        {
          "output_type": "stream",
          "text": [
            "| 32 :    | 33 : !  | 34 : \"  | 35 : #  | 36 : $  | 37 : %  | 38 : &  | 39 : '  | 40 : (  | 41 : )  |\n",
            "| 42 : *  | 43 : +  | 44 : ,  | 45 : -  | 46 : .  | 47 : /  | 48 : 0  | 49 : 1  | 50 : 2  | 51 : 3  |\n",
            "| 52 : 4  | 53 : 5  | 54 : 6  | 55 : 7  | 56 : 8  | 57 : 9  | 58 : :  | 59 : ;  | 60 : <  | 61 : =  |\n",
            "| 62 : >  | 63 : ?  | 64 : @  | 65 : A  | 66 : B  | 67 : C  | 68 : D  | 69 : E  | 70 : F  | 71 : G  |\n",
            "| 72 : H  | 73 : I  | 74 : J  | 75 : K  | 76 : L  | 77 : M  | 78 : N  | 79 : O  | 80 : P  | 81 : Q  |\n",
            "| 82 : R  | 83 : S  | 84 : T  | 85 : U  | 86 : V  | 87 : W  | 88 : X  | 89 : Y  | 90 : Z  | 91 : [  |\n",
            "| 92 : \\  | 93 : ]  | 94 : ^  | 95 : _  | 96 : `  | 97 : a  | 98 : b  | 99 : c  | 100: d  | 101: e  |\n",
            "| 102: f  | 103: g  | 104: h  | 105: i  | 106: j  | 107: k  | 108: l  | 109: m  | 110: n  | 111: o  |\n",
            "| 112: p  | 113: q  | 114: r  | 115: s  | 116: t  | 117: u  | 118: v  | 119: w  | 120: x  | 121: y  |\n",
            "| 122: z  | 123: {  | 124: |  | 125: }  | 126: ~  | 127:   |\n"
          ],
          "name": "stdout"
        }
      ]
    },
    {
      "cell_type": "markdown",
      "metadata": {
        "id": "mDUJf5y8-V-9",
        "colab_type": "text"
      },
      "source": [
        "6. В программе генерируется случайное целое число от 0 до 100. Пользователь должен его отгадать не более чем за 10 попыток. После каждой неудачной попытки должно сообщаться, больше или меньше загаданного введенное пользователем число. Если за 10 попыток число не отгадано, то вывести его.\n"
      ]
    },
    {
      "cell_type": "code",
      "metadata": {
        "id": "1AHOwS0R-VoW",
        "colab_type": "code",
        "colab": {
          "base_uri": "https://localhost:8080/",
          "height": 272
        },
        "outputId": "2d6ad772-8205-48d5-c88d-ca4a5a196ecd"
      },
      "source": [
        "import random\n",
        "rand_number = random.randint(1, 100)\n",
        "print('The computer has a number between 1 and 100, guess it, you have got 10 tries!')\n",
        "count = 10\n",
        "#print(rand_number)\n",
        "while True:\n",
        "    if count == 0:\n",
        "        print(f'no more attempts, mysterious number is {rand_number}')\n",
        "        break\n",
        "    a = int(input('Number: '))\n",
        "    if a == rand_number:\n",
        "        print('You win! :(')\n",
        "        break\n",
        "    elif a > rand_number:\n",
        "        count -=1\n",
        "        print('The required number is less than yours.')\n",
        "    elif a < rand_number:\n",
        "        count -=1\n",
        "        print('The required number is more than yours.')"
      ],
      "execution_count": 32,
      "outputs": [
        {
          "output_type": "stream",
          "text": [
            "The computer has a number between 1 and 100, guess it, you have got 10 tries!\n",
            "Number: 13\n",
            "The required number is more than yours.\n",
            "Number: 74\n",
            "The required number is less than yours.\n",
            "Number: 67\n",
            "The required number is less than yours.\n",
            "Number: 54\n",
            "The required number is less than yours.\n",
            "Number: 44\n",
            "The required number is less than yours.\n",
            "Number: 39\n",
            "The required number is less than yours.\n",
            "Number: 25\n",
            "You win! :(\n"
          ],
          "name": "stdout"
        }
      ]
    },
    {
      "cell_type": "markdown",
      "metadata": {
        "id": "JvGo8YF8_5Ee",
        "colab_type": "text"
      },
      "source": [
        "7. Написать программу, доказывающую или проверяющую, что для множества натуральных чисел выполняется равенство: 1+2+...+n = n(n+1)/2, где n – любое натуральное число."
      ]
    },
    {
      "cell_type": "code",
      "metadata": {
        "id": "NogDDweF_6Cz",
        "colab_type": "code",
        "colab": {
          "base_uri": "https://localhost:8080/",
          "height": 51
        },
        "outputId": "fcfe61f2-e8a4-4d68-d110-5ea55c565568"
      },
      "source": [
        "n = int(input('Enter the number: '))\n",
        "suma = 0\n",
        "\n",
        "for i in range(n):\n",
        "    suma += i+1\n",
        "check = n * (n +1) /2\n",
        "\n",
        "if(suma == check):\n",
        "    print('Number matching')\n",
        "else:\n",
        "    print('Number is not matching')"
      ],
      "execution_count": 33,
      "outputs": [
        {
          "output_type": "stream",
          "text": [
            "Enter the number: 56\n",
            "Number matching\n"
          ],
          "name": "stdout"
        }
      ]
    },
    {
      "cell_type": "markdown",
      "metadata": {
        "id": "ofR66eCJAUEK",
        "colab_type": "text"
      },
      "source": [
        "8. Посчитать, сколько раз встречается определенная цифра в введенной последовательности чисел. Количество вводимых чисел и цифра, которую необходимо посчитать, задаются вводом с клавиатуры."
      ]
    },
    {
      "cell_type": "code",
      "metadata": {
        "id": "jIC8HfZVAWdM",
        "colab_type": "code",
        "colab": {
          "base_uri": "https://localhost:8080/",
          "height": 170
        },
        "outputId": "a48ea596-fa08-4965-8cb9-5fdf80bc967f"
      },
      "source": [
        "def find_number(n, f, z=0):\n",
        "    if n < 10: #base case\n",
        "        if n == f:\n",
        "            z += 1\n",
        "        return int(z)\n",
        "    else: #recursion\n",
        "        if int(n % 10) == f:\n",
        "            z += 1\n",
        "        return find_number(n // 10, f, z)\n",
        "\n",
        "    \n",
        "find = int(input('req num: '))\n",
        "print('Input a sequence of numbers, to complete, enter \"0\"')\n",
        "count = 0\n",
        "\n",
        "\n",
        "while True:\n",
        "    a = int(input('Number Sequence: '))\n",
        "    if a == 0:\n",
        "        break\n",
        "    count += find_number(a, find)\n",
        "    print(f'found {count} times')"
      ],
      "execution_count": 37,
      "outputs": [
        {
          "output_type": "stream",
          "text": [
            "req num: 13\n",
            "Input a sequence of numbers, to complete, enter \"0\"\n",
            "Number Sequence: 1313131\n",
            "found 0 times\n",
            "Number Sequence: 4263472\n",
            "found 0 times\n",
            "Number Sequence: 42\n",
            "found 0 times\n",
            "Number Sequence: 0\n"
          ],
          "name": "stdout"
        }
      ]
    },
    {
      "cell_type": "markdown",
      "metadata": {
        "id": "pov8izYzCT3l",
        "colab_type": "text"
      },
      "source": [
        "9. Среди натуральных чисел, которые были введены, найти наибольшее по сумме цифр. Вывести на экран это число и сумму его цифр."
      ]
    },
    {
      "cell_type": "code",
      "metadata": {
        "id": "4feTiAAuCTUj",
        "colab_type": "code",
        "colab": {
          "base_uri": "https://localhost:8080/",
          "height": 119
        },
        "outputId": "d8ad3278-5ddb-4252-e7ed-e98ed36710dc"
      },
      "source": [
        "def recsum(n, z=0):\n",
        "    if (n < 10): #base case\n",
        "        z += n\n",
        "        return int(z)\n",
        "    else: #recursion\n",
        "        z += int(n % 10)\n",
        "        return recsum(n // 10, z)\n",
        "\n",
        "max_sum = 0\n",
        "max_int = 0\n",
        "print('Calculate the sum of the digits of the number and find a larger number, to complete enter 0')\n",
        "while True:\n",
        "    a = int(input('Num: '))\n",
        "    if a == 0:\n",
        "        break\n",
        "    sum_a = recsum(a)\n",
        "    if(max_sum < sum_a):\n",
        "        max_sum = sum_a\n",
        "        max_int = a\n",
        "    print(f'Max sum {max_sum}, max num {max_int}')"
      ],
      "execution_count": 39,
      "outputs": [
        {
          "output_type": "stream",
          "text": [
            "Calculate the sum of the digits of the number and find a larger number, to complete enter 0\n",
            "Num: 123\n",
            "Max sum 6, max num 123\n",
            "Num: 37432645\n",
            "Max sum 34, max num 37432645\n",
            "Num: 0\n"
          ],
          "name": "stdout"
        }
      ]
    }
  ]
}