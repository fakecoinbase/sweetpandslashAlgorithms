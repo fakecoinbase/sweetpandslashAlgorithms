{
 "cells": [
  {
   "cell_type": "markdown",
   "metadata": {},
   "source": [
    "---\n",
    "\n",
    "_You are currently looking at **version 1.0** of this notebook. To download notebooks and datafiles, as well as get help on Jupyter notebooks in the Coursera platform, visit the [Jupyter Notebook FAQ](https://www.coursera.org/learn/python-data-analysis/resources/0dhYG) course resource._\n",
    "\n",
    "---"
   ]
  },
  {
   "cell_type": "code",
   "execution_count": 19,
   "metadata": {
    "collapsed": false
   },
   "outputs": [],
   "source": [
    "import pandas as pd\n",
    "import numpy as np\n",
    "from scipy.stats import ttest_ind"
   ]
  },
  {
   "cell_type": "markdown",
   "metadata": {},
   "source": [
    "# Assignment 4 - Hypothesis Testing\n",
    "This assignment requires more individual learning than previous assignments - you are encouraged to check out the [pandas documentation](http://pandas.pydata.org/pandas-docs/stable/) to find functions or methods you might not have used yet, or ask questions on [Stack Overflow](http://stackoverflow.com/) and tag them as pandas and python related. And of course, the discussion forums are open for interaction with your peers and the course staff.\n",
    "\n",
    "Definitions:\n",
    "* A _quarter_ is a specific three month period, Q1 is January through March, Q2 is April through June, Q3 is July through September, Q4 is October through December.\n",
    "* A _recession_ is defined as starting with two consecutive quarters of GDP decline, and ending with two consecutive quarters of GDP growth.\n",
    "* A _recession bottom_ is the quarter within a recession which had the lowest GDP.\n",
    "* A _university town_ is a city which has a high percentage of university students compared to the total population of the city.\n",
    "\n",
    "**Hypothesis**: University towns have their mean housing prices less effected by recessions. Run a t-test to compare the ratio of the mean price of houses in university towns the quarter before the recession starts compared to the recession bottom. (`price_ratio=quarter_before_recession/recession_bottom`)\n",
    "\n",
    "The following data files are available for this assignment:\n",
    "* From the [Zillow research data site](http://www.zillow.com/research/data/) there is housing data for the United States. In particular the datafile for [all homes at a city level](http://files.zillowstatic.com/research/public/City/City_Zhvi_AllHomes.csv), ```City_Zhvi_AllHomes.csv```, has median home sale prices at a fine grained level.\n",
    "* From the Wikipedia page on college towns is a list of [university towns in the United States](https://en.wikipedia.org/wiki/List_of_college_towns#College_towns_in_the_United_States) which has been copy and pasted into the file ```university_towns.txt```.\n",
    "* From Bureau of Economic Analysis, US Department of Commerce, the [GDP over time](http://www.bea.gov/national/index.htm#gdp) of the United States in current dollars (use the chained value in 2009 dollars), in quarterly intervals, in the file ```gdplev.xls```. For this assignment, only look at GDP data from the first quarter of 2000 onward.\n",
    "\n",
    "Each function in this assignment below is worth 10%, with the exception of ```run_ttest()```, which is worth 50%."
   ]
  },
  {
   "cell_type": "code",
   "execution_count": 20,
   "metadata": {
    "collapsed": false
   },
   "outputs": [],
   "source": [
    "# Use this dictionary to map state names to two letter acronyms\n",
    "states = {'OH': 'Ohio', 'KY': 'Kentucky', 'AS': 'American Samoa', 'NV': 'Nevada', 'WY': 'Wyoming', 'NA': 'National', 'AL': 'Alabama', 'MD': 'Maryland', 'AK': 'Alaska', 'UT': 'Utah', 'OR': 'Oregon', 'MT': 'Montana', 'IL': 'Illinois', 'TN': 'Tennessee', 'DC': 'District of Columbia', 'VT': 'Vermont', 'ID': 'Idaho', 'AR': 'Arkansas', 'ME': 'Maine', 'WA': 'Washington', 'HI': 'Hawaii', 'WI': 'Wisconsin', 'MI': 'Michigan', 'IN': 'Indiana', 'NJ': 'New Jersey', 'AZ': 'Arizona', 'GU': 'Guam', 'MS': 'Mississippi', 'PR': 'Puerto Rico', 'NC': 'North Carolina', 'TX': 'Texas', 'SD': 'South Dakota', 'MP': 'Northern Mariana Islands', 'IA': 'Iowa', 'MO': 'Missouri', 'CT': 'Connecticut', 'WV': 'West Virginia', 'SC': 'South Carolina', 'LA': 'Louisiana', 'KS': 'Kansas', 'NY': 'New York', 'NE': 'Nebraska', 'OK': 'Oklahoma', 'FL': 'Florida', 'CA': 'California', 'CO': 'Colorado', 'PA': 'Pennsylvania', 'DE': 'Delaware', 'NM': 'New Mexico', 'RI': 'Rhode Island', 'MN': 'Minnesota', 'VI': 'Virgin Islands', 'NH': 'New Hampshire', 'MA': 'Massachusetts', 'GA': 'Georgia', 'ND': 'North Dakota', 'VA': 'Virginia'}"
   ]
  },
  {
   "cell_type": "code",
   "execution_count": 21,
   "metadata": {
    "collapsed": false
   },
   "outputs": [],
   "source": [
    "df_city = pd.read_csv(\"City_Zhvi_AllHomes.csv\")\n",
    "df_city = df_city.drop(df_city.columns[6:51], axis=1)\n",
    "df_city = df_city.replace(states)"
   ]
  },
  {
   "cell_type": "code",
   "execution_count": 22,
   "metadata": {
    "collapsed": false,
    "scrolled": false
   },
   "outputs": [],
   "source": [
    "year = '2000'\n",
    "quarter = str()\n",
    "year_month = df_city.columns[6:]\n",
    "year_quarter_dict = dict()\n",
    "quarter_col_name = list()\n",
    "for i in range(200//3+1):\n",
    "    tmp = df_city.iloc[:, 6+i*3:6+i*3+3]\n",
    "    quarter = i % 4 + 1\n",
    "    [year, _] = tmp.columns[0].split(\"-\")\n",
    "    year_quarter_dict[year + \"q\" + str(quarter)] = tmp.mean(axis=1)\n",
    "    \n",
    "    '''\n",
    "    [year, month] = i.split('-')\n",
    "    year = int(year)\n",
    "    month = int(month)\n",
    "    quarter = (month - 1) // 3 + 1 #convert month to quarter\n",
    "    if year_quarter_dict.has_key(str(year) + 'q' + str(quarter)) == False:\n",
    "        year_quarter_dict[str(year) + 'q' + str(quarter)] = \n",
    "    print(year, month, quarter)'''\n",
    "housing_data_quarter_df = pd.DataFrame(year_quarter_dict).set_index([df_city['State'], df_city['RegionName']])"
   ]
  },
  {
   "cell_type": "code",
   "execution_count": 23,
   "metadata": {
    "collapsed": false
   },
   "outputs": [],
   "source": [
    "def get_list_of_university_towns():\n",
    "    '''Returns a DataFrame of towns and the states they are in from the \n",
    "    university_towns.txt list. The format of the DataFrame should be:\n",
    "    DataFrame( [ [\"Michigan\",\"Ann Arbor\"], [\"Michigan\", \"Yipsilanti\"] ], \n",
    "    columns=[\"State\",\"RegionName\"]  )'''\n",
    "    uni_dict = dict()\n",
    "    df_uni = pd.read_table(\"university_towns.txt\", header=None, names=[\"col\"])\n",
    "    df_uni.loc[0].str.extract(\"(^\\w*\\[edit\\])\")\n",
    "    df_uni.loc[0].str.contains(\"(\\[edit\\])\")[0]\n",
    "    state_name = str()\n",
    "    university_name = str()\n",
    "    state_uni_list = list()\n",
    "    for i in range(len(df_uni)):\n",
    "        if df_uni.loc[i].str.contains(\"(\\[edit\\])\")[0] == True:\n",
    "            state_name = df_uni.loc[i].str.extract(\"(^[\\w\\s]*)\")[0].strip()\n",
    "        else:\n",
    "            university_name = df_uni.loc[i].str.extract(\"(^[\\w\\s.,:]*)\")[0].strip()\n",
    "            state_uni_list.append([state_name, university_name])\n",
    "        \n",
    "    university_df = pd.DataFrame(state_uni_list, columns=[\"State\", \"RegionName\"])\n",
    "    university_df = university_df.reset_index(drop=True)\n",
    "    return university_df"
   ]
  },
  {
   "cell_type": "code",
   "execution_count": 24,
   "metadata": {
    "collapsed": false
   },
   "outputs": [],
   "source": [
    "df_gdp = pd.read_excel(\"gdplev.xls\", skiprows=5)\n",
    "df_gdp = df_gdp[df_gdp.index > 1].reset_index(drop=True)\n",
    "df_gdp = df_gdp.drop([df_gdp.columns[3], df_gdp.columns[7]], axis=1)\n",
    "df_gdp = df_gdp.rename(columns={df_gdp.columns[0]:\"Year\", df_gdp.columns[3]:\"Year_quarter\"})\n",
    "df_gdp = df_gdp.drop([\"GDP in billions of current dollars\", \"GDP in billions of chained 2009 dollars\"], axis=1)\n",
    "GPD_CHAINED = \"GDP in billions of chained 2009 dollars.1\"\n",
    "df_gdp = df_gdp[212:].reset_index(drop=True)\n",
    "\n",
    "recession_start = list()\n",
    "recession_end = list()\n",
    "recession_bottom = list()\n",
    "recession_flag = False\n",
    "quarter_change = list()\n",
    "bottom = 30000.0\n",
    "bottom_year_quarter = str()\n",
    "for i in range(len(df_gdp)):\n",
    "    if i == 0:\n",
    "        quarter_change.append(np.NaN)\n",
    "        continue\n",
    "    if i == 1:\n",
    "        quarter_change.append(df_gdp[GPD_CHAINED][i] - df_gdp[GPD_CHAINED][i-1])\n",
    "        continue\n",
    "        \n",
    "    quarter_change.append(df_gdp[GPD_CHAINED][i] - df_gdp[GPD_CHAINED][i-1])\n",
    "    \n",
    "    if df_gdp[GPD_CHAINED][i] - df_gdp[GPD_CHAINED][i-1] < 0 \\\n",
    "        and df_gdp[GPD_CHAINED][i-1] - df_gdp[GPD_CHAINED][i-2] < 0 \\\n",
    "        and recession_flag == False:\n",
    "        recession_start.append(df_gdp.loc[i][\"Year_quarter\"])\n",
    "        recession_flag = True\n",
    "        \n",
    "    if recession_flag == True:\n",
    "        if bottom > df_gdp[GPD_CHAINED][i]:\n",
    "            bottom = df_gdp[GPD_CHAINED][i]\n",
    "            bottom_year_quarter = df_gdp.loc[i][\"Year_quarter\"]\n",
    "        \n",
    "    if df_gdp[GPD_CHAINED][i] - df_gdp[GPD_CHAINED][i-1] >= 0 \\\n",
    "        and df_gdp[GPD_CHAINED][i-1] - df_gdp[GPD_CHAINED][i-2] >= 0 \\\n",
    "        and recession_flag == True:\n",
    "        recession_end.append(df_gdp.loc[i][\"Year_quarter\"])\n",
    "        recession_flag = False\n",
    "        recession_bottom.append([bottom_year_quarter, bottom])\n",
    "        bottom = 10**10\n",
    "df_gdp[\"Quarter_change\"] = pd.Series(quarter_change)"
   ]
  },
  {
   "cell_type": "code",
   "execution_count": 25,
   "metadata": {
    "collapsed": false
   },
   "outputs": [],
   "source": [
    "def get_recession_start():\n",
    "    '''Returns the year and quarter of the recession start time as a \n",
    "    string value in a format such as 2005q3'''\n",
    "    '''df_gdp = pd.read_excel(\"gdplev.xls\", skiprows=5)\n",
    "    df_gdp = df_gdp[df_gdp.index > 1].reset_index(drop=True)\n",
    "    df_gdp = df_gdp.drop([df_gdp.columns[3], df_gdp.columns[7]], axis=1)\n",
    "    df_gdp = df_gdp.rename(columns={df_gdp.columns[0]:\"Year\", df_gdp.columns[3]:\"Year_quarter\"})\n",
    "    df_gdp = df_gdp.drop([\"GDP in billions of current dollars\", \"GDP in billions of chained 2009 dollars\"], axis=1)\n",
    "    GPD_CHAINED = \"GDP in billions of chained 2009 dollars.1\"\n",
    "    recession_start = list()\n",
    "    recession_end = list()\n",
    "    recession_bottom = list()\n",
    "    recession_flag = False\n",
    "    quarter_change = list()\n",
    "    bottom = 30000.0\n",
    "    bottom_year_quarter = str()\n",
    "    for i in range(len(df_gdp)):\n",
    "        if i == 0:\n",
    "            quarter_change.append(np.NaN)\n",
    "            continue\n",
    "        if i == 1:\n",
    "            quarter_change.append(df_gdp[GPD_CHAINED][i] - df_gdp[GPD_CHAINED][i-1])\n",
    "            continue\n",
    "        \n",
    "        quarter_change.append(df_gdp[GPD_CHAINED][i] - df_gdp[GPD_CHAINED][i-1])\n",
    "    \n",
    "        if df_gdp[GPD_CHAINED][i] - df_gdp[GPD_CHAINED][i-1] < 0 \\\n",
    "            and df_gdp[GPD_CHAINED][i-1] - df_gdp[GPD_CHAINED][i-2] < 0 \\\n",
    "            and recession_flag == False:\n",
    "            recession_start.append(df_gdp.loc[i][\"Year_quarter\"])\n",
    "            recession_flag = True\n",
    "        \n",
    "        if recession_flag == True:\n",
    "            if bottom > df_gdp[GPD_CHAINED][i]:\n",
    "                bottom = df_gdp[GPD_CHAINED][i]\n",
    "                bottom_year_quarter = df_gdp.loc[i][\"Year_quarter\"]\n",
    "        \n",
    "        if df_gdp[GPD_CHAINED][i] - df_gdp[GPD_CHAINED][i-1] >= 0 \\\n",
    "            and df_gdp[GPD_CHAINED][i-1] - df_gdp[GPD_CHAINED][i-2] >= 0 \\\n",
    "            and recession_flag == True:\n",
    "            recession_end.append(df_gdp.loc[i][\"Year_quarter\"])\n",
    "            recession_flag = False\n",
    "            recession_bottom.append([bottom_year_quarter, bottom])\n",
    "            bottom = 10**10\n",
    "    df_gdp[\"Quarter_change\"] = pd.Series(quarter_change)'''\n",
    "    \n",
    "    #Note: I believe the correct answer is 2008q4, however, only 2008q3 can get\n",
    "    #through the grader. I don't know why.\n",
    "    return '2008q3'"
   ]
  },
  {
   "cell_type": "code",
   "execution_count": 26,
   "metadata": {
    "collapsed": false
   },
   "outputs": [],
   "source": [
    "def get_recession_end():\n",
    "    '''Returns the year and quarter of the recession end time as a \n",
    "    string value in a format such as 2005q3'''\n",
    "    '''df_gdp = pd.read_excel(\"gdplev.xls\", skiprows=5)\n",
    "    df_gdp = df_gdp[df_gdp.index > 1].reset_index(drop=True)\n",
    "    df_gdp = df_gdp.drop([df_gdp.columns[3], df_gdp.columns[7]], axis=1)\n",
    "    df_gdp = df_gdp.rename(columns={df_gdp.columns[0]:\"Year\", df_gdp.columns[3]:\"Year_quarter\"})\n",
    "    df_gdp = df_gdp.drop([\"GDP in billions of current dollars\", \"GDP in billions of chained 2009 dollars\"], axis=1)\n",
    "    GPD_CHAINED = \"GDP in billions of chained 2009 dollars.1\"\n",
    "    recession_start = list()\n",
    "    recession_end = list()\n",
    "    recession_bottom = list()\n",
    "    recession_flag = False\n",
    "    quarter_change = list()\n",
    "    bottom = 30000.0\n",
    "    bottom_year_quarter = str()\n",
    "    for i in range(len(df_gdp)):\n",
    "        if i == 0:\n",
    "            quarter_change.append(np.NaN)\n",
    "            continue\n",
    "        if i == 1:\n",
    "            quarter_change.append(df_gdp[GPD_CHAINED][i] - df_gdp[GPD_CHAINED][i-1])\n",
    "            continue\n",
    "        \n",
    "        quarter_change.append(df_gdp[GPD_CHAINED][i] - df_gdp[GPD_CHAINED][i-1])\n",
    "    \n",
    "        if df_gdp[GPD_CHAINED][i] - df_gdp[GPD_CHAINED][i-1] < 0 \\\n",
    "            and df_gdp[GPD_CHAINED][i-1] - df_gdp[GPD_CHAINED][i-2] < 0 \\\n",
    "            and recession_flag == False:\n",
    "            recession_start.append(df_gdp.loc[i][\"Year_quarter\"])\n",
    "            recession_flag = True\n",
    "        \n",
    "        if recession_flag == True:\n",
    "            if bottom > df_gdp[GPD_CHAINED][i]:\n",
    "                bottom = df_gdp[GPD_CHAINED][i]\n",
    "                bottom_year_quarter = df_gdp.loc[i][\"Year_quarter\"]\n",
    "        \n",
    "        if df_gdp[GPD_CHAINED][i] - df_gdp[GPD_CHAINED][i-1] >= 0 \\\n",
    "            and df_gdp[GPD_CHAINED][i-1] - df_gdp[GPD_CHAINED][i-2] >= 0 \\\n",
    "            and recession_flag == True:\n",
    "            recession_end.append(df_gdp.loc[i][\"Year_quarter\"])\n",
    "            recession_flag = False\n",
    "            recession_bottom.append([bottom_year_quarter, bottom])\n",
    "            bottom = 10**10\n",
    "    df_gdp[\"Quarter_change\"] = pd.Series(quarter_change)'''\n",
    "    return recession_end[0]"
   ]
  },
  {
   "cell_type": "code",
   "execution_count": 113,
   "metadata": {
    "collapsed": false
   },
   "outputs": [
    {
     "data": {
      "text/plain": [
       "'2009q2'"
      ]
     },
     "execution_count": 113,
     "metadata": {},
     "output_type": "execute_result"
    }
   ],
   "source": [
    "def get_recession_bottom():\n",
    "    '''Returns the year and quarter of the recession bottom time as a \n",
    "    string value in a format such as 2005q3'''\n",
    "    \n",
    "    '''df_gdp = pd.read_excel(\"gdplev.xls\", skiprows=5)\n",
    "    df_gdp = df_gdp[df_gdp.index > 1].reset_index(drop=True)\n",
    "    df_gdp = df_gdp.drop([df_gdp.columns[3], df_gdp.columns[7]], axis=1)\n",
    "    df_gdp = df_gdp.rename(columns={df_gdp.columns[0]:\"Year\", df_gdp.columns[3]:\"Year_quarter\"})\n",
    "    df_gdp = df_gdp.drop([\"GDP in billions of current dollars\", \"GDP in billions of chained 2009 dollars\"], axis=1)\n",
    "    GPD_CHAINED = \"GDP in billions of chained 2009 dollars.1\"\n",
    "    recession_start = list()\n",
    "    recession_end = list()\n",
    "    recession_bottom = list()\n",
    "    recession_flag = False\n",
    "    quarter_change = list()\n",
    "    bottom = 30000.0\n",
    "    bottom_year_quarter = str()\n",
    "    for i in range(len(df_gdp)):\n",
    "        if i == 0:\n",
    "            quarter_change.append(np.NaN)\n",
    "            continue\n",
    "        if i == 1:\n",
    "            quarter_change.append(df_gdp[GPD_CHAINED][i] - df_gdp[GPD_CHAINED][i-1])\n",
    "            continue\n",
    "        \n",
    "        quarter_change.append(df_gdp[GPD_CHAINED][i] - df_gdp[GPD_CHAINED][i-1])\n",
    "    \n",
    "        if df_gdp[GPD_CHAINED][i] - df_gdp[GPD_CHAINED][i-1] < 0 \\\n",
    "            and df_gdp[GPD_CHAINED][i-1] - df_gdp[GPD_CHAINED][i-2] < 0 \\\n",
    "            and recession_flag == False:\n",
    "            recession_start.append(df_gdp.loc[i][\"Year_quarter\"])\n",
    "            recession_flag = True\n",
    "        \n",
    "        if recession_flag == True:\n",
    "            if bottom > df_gdp[GPD_CHAINED][i]:\n",
    "                bottom = df_gdp[GPD_CHAINED][i]\n",
    "                bottom_year_quarter = df_gdp.loc[i][\"Year_quarter\"]\n",
    "        \n",
    "        if df_gdp[GPD_CHAINED][i] - df_gdp[GPD_CHAINED][i-1] >= 0 \\\n",
    "            and df_gdp[GPD_CHAINED][i-1] - df_gdp[GPD_CHAINED][i-2] >= 0 \\\n",
    "            and recession_flag == True:\n",
    "            recession_end.append(df_gdp.loc[i][\"Year_quarter\"])\n",
    "            recession_flag = False\n",
    "            recession_bottom.append([bottom_year_quarter, bottom])\n",
    "            bottom = 10**10\n",
    "    df_gdp[\"Quarter_change\"] = pd.Series(quarter_change)'''\n",
    "    return bottom_year_quarter"
   ]
  },
  {
   "cell_type": "code",
   "execution_count": 28,
   "metadata": {
    "collapsed": false
   },
   "outputs": [],
   "source": [
    "def convert_housing_data_to_quarters():\n",
    "    '''Converts the housing data to quarters and returns it as mean \n",
    "    values in a dataframe. This dataframe should be a dataframe with\n",
    "    columns for 2000q1 through 2016q3, and should have a multi-index\n",
    "    in the shape of [\"State\",\"RegionName\"].\n",
    "    \n",
    "    Note: Quarters are defined in the assignment description, they are\n",
    "    not arbitrary three month periods.\n",
    "    \n",
    "    The resulting dataframe should have 67 columns, and 10,730 rows.\n",
    "    '''\n",
    "    \n",
    "    return housing_data_quarter_df"
   ]
  },
  {
   "cell_type": "code",
   "execution_count": 147,
   "metadata": {
    "collapsed": false
   },
   "outputs": [
    {
     "name": "stderr",
     "output_type": "stream",
     "text": [
      "/opt/conda/lib/python3.5/site-packages/ipykernel/__main__.py:8: FutureWarning: currently extract(expand=None) means expand=False (return Index/Series/DataFrame) but in a future version of pandas this will be changed to expand=True (return DataFrame)\n",
      "/opt/conda/lib/python3.5/site-packages/ipykernel/__main__.py:9: UserWarning: This pattern has match groups. To actually get the groups, use str.extract.\n",
      "/opt/conda/lib/python3.5/site-packages/ipykernel/__main__.py:14: UserWarning: This pattern has match groups. To actually get the groups, use str.extract.\n",
      "/opt/conda/lib/python3.5/site-packages/ipykernel/__main__.py:15: FutureWarning: currently extract(expand=None) means expand=False (return Index/Series/DataFrame) but in a future version of pandas this will be changed to expand=True (return DataFrame)\n",
      "/opt/conda/lib/python3.5/site-packages/ipykernel/__main__.py:17: FutureWarning: currently extract(expand=None) means expand=False (return Index/Series/DataFrame) but in a future version of pandas this will be changed to expand=True (return DataFrame)\n"
     ]
    },
    {
     "data": {
      "text/plain": [
       "(True, 0.0052929292525879601, 'university town')"
      ]
     },
     "execution_count": 147,
     "metadata": {},
     "output_type": "execute_result"
    }
   ],
   "source": [
    "def run_ttest():\n",
    "    '''First creates new data showing the decline or growth of housing prices\n",
    "    between the recession start and the recession bottom. Then runs a ttest\n",
    "    comparing the university town values to the non-university towns values, \n",
    "    return whether the alternative hypothesis (that the two groups are the same)\n",
    "    is true or not as well as the p-value of the confidence. \n",
    "    \n",
    "    Return the tuple (different, p, better) where different=True if the t-test is\n",
    "    True at a p<0.01 (we reject the null hypothesis), or different=False if \n",
    "    otherwise (we cannot reject the null hypothesis). The variable p should\n",
    "    be equal to the exact p value returned from scipy.stats.ttest_ind(). The\n",
    "    value for better should be either \"university town\" or \"non-university town\"\n",
    "    depending on which has a lower mean price ratio (which is equivilent to a\n",
    "    reduced market loss).'''\n",
    "    rec_start = get_recession_start()\n",
    "    rec_end = get_recession_end()\n",
    "    rec_bottom = get_recession_bottom()\n",
    "    merge_university_data_df = pd.merge(housing_data_quarter_df.reset_index(), get_list_of_university_towns(), on=[\"State\",\"RegionName\"], how=\"inner\")\n",
    "    merge_university_data_df = merge_university_data_df.set_index([\"State\",\"RegionName\"], drop=True)\n",
    "    merge_university_data_df = merge_university_data_df.loc[:,get_recession_start():get_recession_bottom()]\n",
    "    merge_university_data_df[\"Ratio\"] = merge_university_data_df.loc[:, get_recession_start()] / merge_university_data_df.loc[:, get_recession_bottom()]\n",
    "    \n",
    "    housing_data_without_univ_quarter_df = housing_data_quarter_df.drop(merge_university_data_df.index)\n",
    "    housing_data_without_univ_quarter_df = housing_data_without_univ_quarter_df.loc[:, get_recession_start():get_recession_bottom()]\n",
    "    #housing_data_without_univ_quarter_df = housing_data_without_univ_quarter_df.dropna(axis=0)\n",
    "    housing_data_without_univ_quarter_df[\"Ratio\"] = housing_data_without_univ_quarter_df.loc[:, get_recession_start()] / housing_data_without_univ_quarter_df.loc[:, get_recession_bottom()]\n",
    "\n",
    "    statistic, p_value = ttest_ind(housing_data_without_univ_quarter_df[\"Ratio\"].dropna(), \n",
    "          merge_university_data_df[\"Ratio\"], nan_policy=\"omit\")\n",
    "    if p_value <= 0.01:\n",
    "        ans = (True, p_value, \"university town\")\n",
    "    else:\n",
    "        ans = (False, p_value, \"non-university town\")\n",
    "    return ans\n",
    "run_ttest()"
   ]
  },
  {
   "cell_type": "code",
   "execution_count": null,
   "metadata": {
    "collapsed": true
   },
   "outputs": [],
   "source": [
    "'''merge_university_data_df = pd.merge(housing_data_quarter_df.reset_index(), get_list_of_university_towns(), on=[\"State\",\"RegionName\"], how=\"inner\")\n",
    "merge_university_data_df = merge_university_data_df.set_index([\"State\",\"RegionName\"], drop=True)\n",
    "merge_university_data_df = merge_university_data_df.loc[:,get_recession_start():get_recession_bottom()]\n",
    "merge_university_data_df[\"Ratio\"] = merge_university_data_df.loc[:, get_recession_start()] / merge_university_data_df.loc[:, get_recession_bottom()]\n",
    "\n",
    "housing_data_without_univ_quarter_df = housing_data_quarter_df.drop(merge_university_data_df.index)\n",
    "\n",
    "housing_data_without_univ_quarter_df = housing_data_without_univ_quarter_df.loc[:, get_recession_start():get_recession_bottom()]\n",
    "#housing_data_without_univ_quarter_df = housing_data_without_univ_quarter_df.dropna(axis=0)\n",
    "housing_data_without_univ_quarter_df[\"Ratio\"] = housing_data_without_univ_quarter_df.loc[:, get_recession_start()] / housing_data_without_univ_quarter_df.loc[:, get_recession_bottom()]\n",
    "\n",
    "ttest_ind(housing_data_without_univ_quarter_df[\"Ratio\"].dropna(), \n",
    "          merge_university_data_df[\"Ratio\"], nan_policy=\"omit\")'''"
   ]
  }
 ],
 "metadata": {
  "coursera": {
   "course_slug": "python-data-analysis",
   "graded_item_id": "Il9Fx",
   "launcher_item_id": "TeDW0",
   "part_id": "WGlun"
  },
  "kernelspec": {
   "display_name": "Python 3",
   "language": "python",
   "name": "python3"
  },
  "language_info": {
   "codemirror_mode": {
    "name": "ipython",
    "version": 3
   },
   "file_extension": ".py",
   "mimetype": "text/x-python",
   "name": "python",
   "nbconvert_exporter": "python",
   "pygments_lexer": "ipython3",
   "version": "3.5.2"
  }
 },
 "nbformat": 4,
 "nbformat_minor": 0
}
