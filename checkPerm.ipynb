{
  "nbformat": 4,
  "nbformat_minor": 0,
  "metadata": {
    "colab": {
      "name": "checkPerm.ipynb",
      "provenance": [],
      "authorship_tag": "ABX9TyNIWBYoHPnsb57jwHgNJunI",
      "include_colab_link": true
    },
    "kernelspec": {
      "name": "python3",
      "display_name": "Python 3"
    }
  },
  "cells": [
    {
      "cell_type": "markdown",
      "metadata": {
        "id": "view-in-github",
        "colab_type": "text"
      },
      "source": [
        "<a href=\"https://colab.research.google.com/github/sweetpand/Algorithms/blob/master/checkPerm.ipynb\" target=\"_parent\"><img src=\"https://colab.research.google.com/assets/colab-badge.svg\" alt=\"Open In Colab\"/></a>"
      ]
    },
    {
      "cell_type": "code",
      "metadata": {
        "id": "O51zkbSrq_fJ",
        "colab_type": "code",
        "colab": {}
      },
      "source": [
        "#TC: O(n log n)\n",
        "#SC: O(1)\n",
        "def is_perm_1(str_1, str_2):\n",
        "  str_1 = str_1.lower()\n",
        "  str_2 = str_2.lower()\n",
        "\n",
        "  if len(str_1) != len(str_2):\n",
        "    return False\n",
        "\n",
        "  str_1 = ''.join(sorted(str_1))\n",
        "  str_2 = ''.join(sorted(str_2))\n",
        "\n",
        "  n = len(str_1)\n",
        "  for i in range(n):\n",
        "    if str_1[i] != str_2[i]:\n",
        "      return False\n",
        "  return True"
      ],
      "execution_count": 0,
      "outputs": []
    },
    {
      "cell_type": "code",
      "metadata": {
        "id": "aQ4hnvZL4PRR",
        "colab_type": "code",
        "colab": {}
      },
      "source": [
        "is_permutation_1 = 'God'\n",
        "is_permutation_2 = 'god'\n",
        "\n",
        "not_permutation_1 = 'Not'\n",
        "not_permutation_2 = 'top'"
      ],
      "execution_count": 0,
      "outputs": []
    },
    {
      "cell_type": "markdown",
      "metadata": {
        "id": "FXvqk5QN4k4E",
        "colab_type": "text"
      },
      "source": [
        ""
      ]
    },
    {
      "cell_type": "code",
      "metadata": {
        "id": "5JwDs0IW4PN1",
        "colab_type": "code",
        "colab": {
          "base_uri": "https://localhost:8080/",
          "height": 34
        },
        "outputId": "b0baa17a-c4ed-42b3-ef3c-58c334553765"
      },
      "source": [
        "print(is_perm_1(is_permutation_1, is_permutation_2))"
      ],
      "execution_count": 3,
      "outputs": [
        {
          "output_type": "stream",
          "text": [
            "True\n"
          ],
          "name": "stdout"
        }
      ]
    },
    {
      "cell_type": "code",
      "metadata": {
        "id": "PD3XFW7L4izr",
        "colab_type": "code",
        "colab": {
          "base_uri": "https://localhost:8080/",
          "height": 34
        },
        "outputId": "9b017ec8-e926-4992-f33f-7826cdb3d46c"
      },
      "source": [
        "print(is_perm_1(not_permutation_1, not_permutation_2))"
      ],
      "execution_count": 4,
      "outputs": [
        {
          "output_type": "stream",
          "text": [
            "False\n"
          ],
          "name": "stdout"
        }
      ]
    },
    {
      "cell_type": "code",
      "metadata": {
        "id": "759aJpvR4v0F",
        "colab_type": "code",
        "colab": {}
      },
      "source": [
        "def is_perm_2(str_1, str_2):\n",
        "\n",
        "  str_1 = str_1.lower()\n",
        "  str_2 = str_2.lower()\n",
        "\n",
        "  if len(str_1) != len(str_2):\n",
        "    return False\n",
        "\n",
        "  d = dict()\n",
        "\n",
        "  for i in str_1:\n",
        "    if i in d:\n",
        "      d[i] -= 1\n",
        "    else:\n",
        "      d[i] = 1\n",
        "  for i in str_2:\n",
        "    if i in d:\n",
        "      d[i] -= 1\n",
        "    else:\n",
        "      d[i] = 1\n",
        "\n",
        "  return all(value == 0 for value in d.values())"
      ],
      "execution_count": 0,
      "outputs": []
    },
    {
      "cell_type": "code",
      "metadata": {
        "id": "r-uzUroJ6CBR",
        "colab_type": "code",
        "colab": {
          "base_uri": "https://localhost:8080/",
          "height": 34
        },
        "outputId": "16de4656-e73d-42b1-ee64-69392f29ca40"
      },
      "source": [
        "print(is_perm_2(is_permutation_1, is_permutation_2))"
      ],
      "execution_count": 6,
      "outputs": [
        {
          "output_type": "stream",
          "text": [
            "True\n"
          ],
          "name": "stdout"
        }
      ]
    },
    {
      "cell_type": "code",
      "metadata": {
        "id": "OHZKKr_56G82",
        "colab_type": "code",
        "colab": {
          "base_uri": "https://localhost:8080/",
          "height": 34
        },
        "outputId": "8b5053a0-2bc8-48f6-add9-b7f12a26acd3"
      },
      "source": [
        "print(is_perm_2(not_permutation_1, not_permutation_2))"
      ],
      "execution_count": 7,
      "outputs": [
        {
          "output_type": "stream",
          "text": [
            "False\n"
          ],
          "name": "stdout"
        }
      ]
    }
  ]
}