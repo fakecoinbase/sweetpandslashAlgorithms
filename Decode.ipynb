{
  "nbformat": 4,
  "nbformat_minor": 0,
  "metadata": {
    "colab": {
      "name": "Decode.ipynb",
      "provenance": [],
      "authorship_tag": "ABX9TyO12W1pSkWuksCtjf0Mc0wW",
      "include_colab_link": true
    },
    "kernelspec": {
      "name": "python3",
      "display_name": "Python 3"
    }
  },
  "cells": [
    {
      "cell_type": "markdown",
      "metadata": {
        "id": "view-in-github",
        "colab_type": "text"
      },
      "source": [
        "<a href=\"https://colab.research.google.com/github/sweetpand/Algorithms/blob/master/Decode.ipynb\" target=\"_parent\"><img src=\"https://colab.research.google.com/assets/colab-badge.svg\" alt=\"Open In Colab\"/></a>"
      ]
    },
    {
      "cell_type": "code",
      "metadata": {
        "id": "lJkfI1xNKXnx",
        "colab_type": "code",
        "colab": {}
      },
      "source": [
        "def spreadshit_decode_column(col):\n",
        "  col_str = \"\"\n",
        "  while col > 0:\n",
        "    col, remainder = divmod(col - 1, 26)\n",
        "    col_str += chr(ord('A') + remainder)\n",
        "  return col_str"
      ],
      "execution_count": 0,
      "outputs": []
    },
    {
      "cell_type": "code",
      "metadata": {
        "id": "Bq7bOF6cK8aN",
        "colab_type": "code",
        "colab": {
          "base_uri": "https://localhost:8080/",
          "height": 34
        },
        "outputId": "efa367fa-dede-4b74-84af-6589fa4ac0ee"
      },
      "source": [
        "print(spreadshit_decode_column(1))"
      ],
      "execution_count": 2,
      "outputs": [
        {
          "output_type": "stream",
          "text": [
            "A\n"
          ],
          "name": "stdout"
        }
      ]
    },
    {
      "cell_type": "code",
      "metadata": {
        "id": "H0paWSx8LBH9",
        "colab_type": "code",
        "colab": {
          "base_uri": "https://localhost:8080/",
          "height": 34
        },
        "outputId": "6afe5bd7-7158-499f-d9c8-ba590f5512d2"
      },
      "source": [
        "print(spreadshit_decode_column(702))"
      ],
      "execution_count": 3,
      "outputs": [
        {
          "output_type": "stream",
          "text": [
            "ZZ\n"
          ],
          "name": "stdout"
        }
      ]
    }
  ]
}