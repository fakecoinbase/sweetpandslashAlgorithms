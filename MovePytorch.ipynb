{
  "nbformat": 4,
  "nbformat_minor": 0,
  "metadata": {
    "colab": {
      "name": "MovePytorch.ipynb",
      "provenance": [],
      "authorship_tag": "ABX9TyNotuOliO2eOjanT6WfpGqj",
      "include_colab_link": true
    },
    "kernelspec": {
      "name": "python3",
      "display_name": "Python 3"
    }
  },
  "cells": [
    {
      "cell_type": "markdown",
      "metadata": {
        "id": "view-in-github",
        "colab_type": "text"
      },
      "source": [
        "<a href=\"https://colab.research.google.com/github/sweetpand/Algorithms/blob/master/MovePytorch.ipynb\" target=\"_parent\"><img src=\"https://colab.research.google.com/assets/colab-badge.svg\" alt=\"Open In Colab\"/></a>"
      ]
    },
    {
      "cell_type": "code",
      "metadata": {
        "id": "dohZEBgyABl7",
        "colab_type": "code",
        "colab": {}
      },
      "source": [
        "import torch\n",
        "import torch.nn as nn\n",
        "import torch.nn.functional as F\n",
        "\n",
        "import numpy as np\n",
        "from torch.autograd import Variable\n",
        "\n",
        "import pandas as pd\n",
        "from sklearn.model_selection import train_test_split\n",
        "\n",
        "from PIL import Image\n",
        "\n",
        "import sys, os, shutil, random"
      ],
      "execution_count": 0,
      "outputs": []
    },
    {
      "cell_type": "code",
      "metadata": {
        "id": "1sbyi8a9Ad6e",
        "colab_type": "code",
        "colab": {}
      },
      "source": [
        "train_info = pd.read_csv(\"processed_train_info.csv\")\n",
        "\n",
        "processed_train_info = train_info.drop(['title', 'style', 'genre', 'date', 'Unnamed: 6', 'Unnamed: 0'], axis=1)\n",
        "\n",
        "filenames = processed_train_info['filename'].tolist()\n",
        "artists = processed_train_info['artist'].tolist()\n",
        "\n",
        "artist_dict = {}\n",
        "for i in range(len(artists)):\n",
        "    if artists[i] not in artist_dict:\n",
        "        artist_dict[artists[i]] = [filenames[i]]\n",
        "    else:\n",
        "        artist_dict[artists[i]].append(filenames[i])"
      ],
      "execution_count": 0,
      "outputs": []
    },
    {
      "cell_type": "code",
      "metadata": {
        "id": "5D5mKzMHAiF4",
        "colab_type": "code",
        "colab": {}
      },
      "source": [
        "def pick_positive_pair(artists, artist_dict):\n",
        "\tartist = np.random.choice(artists)\n",
        "\treturn np.random.choice(artist_dict[artist], 2), artist"
      ],
      "execution_count": 0,
      "outputs": []
    },
    {
      "cell_type": "code",
      "metadata": {
        "id": "KsWnAmBOAi-_",
        "colab_type": "code",
        "colab": {}
      },
      "source": [
        "def pick_negative_pair(artists, artist_dict):\n",
        "    artist_pair = np.random.choice(artists, 2)\n",
        "    return [np.random.choice(artist_dict[artist_pair[0]]), np.random.choice(artist_dict[artist_pair[1]])]"
      ],
      "execution_count": 0,
      "outputs": []
    },
    {
      "cell_type": "code",
      "metadata": {
        "id": "cBqHC6sPAmJR",
        "colab_type": "code",
        "colab": {}
      },
      "source": [
        "pick_positive_pair(artists, artist_dict)"
      ],
      "execution_count": 0,
      "outputs": []
    },
    {
      "cell_type": "code",
      "metadata": {
        "id": "_IiY5JW6AoDf",
        "colab_type": "code",
        "colab": {}
      },
      "source": [
        "pick_negative_pair(artists, artist_dict)"
      ],
      "execution_count": 0,
      "outputs": []
    },
    {
      "cell_type": "code",
      "metadata": {
        "id": "u3uIuCoYCKCU",
        "colab_type": "code",
        "colab": {}
      },
      "source": [
        "class shallowCNN(nn.Module):\n",
        "    def __init__(self):\n",
        "        #self.config = config\n",
        "        super(shallowCNN, self).__init__()\n",
        "        # [in, out, kernel_size, stride, padding]\n",
        "        self.bn0 = nn.BatchNorm2d(3)\n",
        "        self.max_pool0 = nn.MaxPool2d(2, 2)\n",
        "\n",
        "        self.conv1 = nn.Conv2d(3, 16, 3, 1, 1)\n",
        "        self.bn1 = nn.BatchNorm2d(16)\n",
        "        self.max_pool1 = nn.MaxPool2d(2, 2)\n",
        "\n",
        "        self.conv2 = nn.Conv2d(16, 32, 3, 1, 1)\n",
        "        self.bn2 = nn.BatchNorm2d(32)\n",
        "        self.max_pool2 = nn.MaxPool2d(2, 2)\n",
        "\n",
        "        self.conv3 = nn.Conv2d(32, 64, 3, 1, 1)\n",
        "        self.bn3 = nn.BatchNorm2d(64)\n",
        "        self.max_pool3 = nn.MaxPool2d(2, 2)\n",
        "        \n",
        "        self.conv4 = nn.Conv2d(64, 128, 3, 1, 1)\n",
        "        self.bn4 = nn.BatchNorm2d(128)\n",
        "        self.max_pool4 = nn.MaxPool2d(2, 2)\n",
        "\n",
        "        self.conv5 = nn.Conv2d(128, 256, 3, 1, 1)\n",
        "        self.bn5 = nn.BatchNorm2d(256)\n",
        "        self.max_pool5 = nn.MaxPool2d(2, 2)\n",
        "        self.linear1 = nn.Linear(256 * 4 * 4 * 2, 2048)\n",
        "\n",
        "        self.linear2 = nn.Linear(2048, 346)\n",
        "    def forward(self, x, xx):\n",
        "        x = self.max_pool0(self.bn0(x))\n",
        "        x = self.max_pool1(F.leaky_relu(self.bn1(self.conv1(x))))\n",
        "        x = self.max_pool2(F.leaky_relu(self.bn2(self.conv2(x))))\n",
        "        x = self.max_pool3(F.leaky_relu(self.bn3(self.conv3(x))))\n",
        "        x = self.max_pool4(F.leaky_relu(self.bn4(self.conv4(x))))\n",
        "        x = self.max_pool5(F.leaky_relu(self.bn5(self.conv5(x))))\n",
        "        #print(x.size(), x.size(1) * x.size(2) * x.size(3))\n",
        "        #exit()\n",
        "        x = x.view(-1, x.size(1) * x.size(2) * x.size(3))\n",
        "       \n",
        "        xx = self.max_pool0(self.bn0(xx))\n",
        "        xx = self.max_pool1(F.leaky_relu(self.bn1(self.conv1(xx))))\n",
        "        xx = self.max_pool2(F.leaky_relu(self.bn2(self.conv2(xx))))\n",
        "        xx = self.max_pool3(F.leaky_relu(self.bn3(self.conv3(xx))))\n",
        "        xx = self.max_pool4(F.leaky_relu(self.bn4(self.conv4(xx))))\n",
        "        xx = self.max_pool5(F.leaky_relu(self.bn5(self.conv5(xx))))\n",
        "        xx = xx.view(-1, xx.size(1) * xx.size(2) * xx.size(3)) #[M, 4096]\n",
        "\n",
        "        xxx = torch.cat([x, xx], dim=1) #[M, 4096 * 2]\n",
        "        xxx = F.leaky_relu(self.linear1(xxx))\n",
        "        xxx = F.dropout(xxx, p=0.5)\n",
        "        xxx = F.sigmoid(xxx)\n",
        "        return x"
      ],
      "execution_count": 0,
      "outputs": []
    },
    {
      "cell_type": "code",
      "metadata": {
        "id": "qKj0cXbVCK_a",
        "colab_type": "code",
        "colab": {}
      },
      "source": [
        "model = shallowCNN()"
      ],
      "execution_count": 0,
      "outputs": []
    },
    {
      "cell_type": "code",
      "metadata": {
        "id": "w8eL9DPmCOBC",
        "colab_type": "code",
        "colab": {}
      },
      "source": [
        "submission_info = pd.read_csv(\"submission_info.csv\", index_col=['index'])"
      ],
      "execution_count": 0,
      "outputs": []
    },
    {
      "cell_type": "code",
      "metadata": {
        "id": "gRPQ7xVvCQUq",
        "colab_type": "code",
        "colab": {}
      },
      "source": [
        "for i in range(len(submission_info[\"img1\"])):\n",
        "    im1 = np.array(Image.open(\"resized_test/\" + submission_info[\"img1\"][i]))\n",
        "    im2 = np.array(Image.open(\"resized_test/\" + submission_info[\"img2\"][i]))"
      ],
      "execution_count": 0,
      "outputs": []
    },
    {
      "cell_type": "code",
      "metadata": {
        "id": "4Wmxcs6tCV2r",
        "colab_type": "code",
        "colab": {}
      },
      "source": [
        "d = {0:1, 1:2}"
      ],
      "execution_count": 0,
      "outputs": []
    },
    {
      "cell_type": "code",
      "metadata": {
        "id": "S3EfUBX0CWfA",
        "colab_type": "code",
        "colab": {}
      },
      "source": [
        "s = pd.Series(d)"
      ],
      "execution_count": 0,
      "outputs": []
    },
    {
      "cell_type": "code",
      "metadata": {
        "id": "OkF9YLA0CYnX",
        "colab_type": "code",
        "colab": {}
      },
      "source": [
        "s.to_csv(\"test.csv\", index_label=\"index\", header=[\"h1\"])"
      ],
      "execution_count": 0,
      "outputs": []
    }
  ]
}