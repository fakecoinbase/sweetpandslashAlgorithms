{
  "nbformat": 4,
  "nbformat_minor": 0,
  "metadata": {
    "colab": {
      "name": "MovePytorch.ipynb",
      "provenance": [],
      "authorship_tag": "ABX9TyMjbEF1WX1zTSYZXTqYhmRq",
      "include_colab_link": true
    },
    "kernelspec": {
      "name": "python3",
      "display_name": "Python 3"
    }
  },
  "cells": [
    {
      "cell_type": "markdown",
      "metadata": {
        "id": "view-in-github",
        "colab_type": "text"
      },
      "source": [
        "<a href=\"https://colab.research.google.com/github/sweetpand/Algorithms/blob/master/MovePytorch.ipynb\" target=\"_parent\"><img src=\"https://colab.research.google.com/assets/colab-badge.svg\" alt=\"Open In Colab\"/></a>"
      ]
    },
    {
      "cell_type": "code",
      "metadata": {
        "id": "dohZEBgyABl7",
        "colab_type": "code",
        "colab": {}
      },
      "source": [
        "import torch\n",
        "import torch.nn as nn\n",
        "import torch.nn.functional as F\n",
        "\n",
        "import numpy as np\n",
        "from torch.autograd import Variable\n",
        "\n",
        "import pandas as pd\n",
        "from sklearn.model_selection import train_test_split\n",
        "\n",
        "from PIL import Image\n",
        "\n",
        "import sys, os, shutil, random"
      ],
      "execution_count": 0,
      "outputs": []
    },
    {
      "cell_type": "code",
      "metadata": {
        "id": "1sbyi8a9Ad6e",
        "colab_type": "code",
        "colab": {}
      },
      "source": [
        "train_info = pd.read_csv(\"processed_train_info.csv\")\n",
        "\n",
        "processed_train_info = train_info.drop(['title', 'style', 'genre', 'date', 'Unnamed: 6', 'Unnamed: 0'], axis=1)\n",
        "\n",
        "filenames = processed_train_info['filename'].tolist()\n",
        "artists = processed_train_info['artist'].tolist()\n",
        "\n",
        "artist_dict = {}\n",
        "for i in range(len(artists)):\n",
        "    if artists[i] not in artist_dict:\n",
        "        artist_dict[artists[i]] = [filenames[i]]\n",
        "    else:\n",
        "        artist_dict[artists[i]].append(filenames[i])"
      ],
      "execution_count": 0,
      "outputs": []
    },
    {
      "cell_type": "code",
      "metadata": {
        "id": "5D5mKzMHAiF4",
        "colab_type": "code",
        "colab": {}
      },
      "source": [
        "def pick_positive_pair(artists, artist_dict):\n",
        "\tartist = np.random.choice(artists)\n",
        "\treturn np.random.choice(artist_dict[artist], 2), artist"
      ],
      "execution_count": 0,
      "outputs": []
    },
    {
      "cell_type": "code",
      "metadata": {
        "id": "KsWnAmBOAi-_",
        "colab_type": "code",
        "colab": {}
      },
      "source": [
        "def pick_negative_pair(artists, artist_dict):\n",
        "    artist_pair = np.random.choice(artists, 2)\n",
        "    return [np.random.choice(artist_dict[artist_pair[0]]), np.random.choice(artist_dict[artist_pair[1]])]"
      ],
      "execution_count": 0,
      "outputs": []
    },
    {
      "cell_type": "code",
      "metadata": {
        "id": "cBqHC6sPAmJR",
        "colab_type": "code",
        "colab": {}
      },
      "source": [
        "pick_positive_pair(artists, artist_dict)"
      ],
      "execution_count": 0,
      "outputs": []
    },
    {
      "cell_type": "code",
      "metadata": {
        "id": "_IiY5JW6AoDf",
        "colab_type": "code",
        "colab": {}
      },
      "source": [
        "pick_negative_pair(artists, artist_dict)"
      ],
      "execution_count": 0,
      "outputs": []
    }
  ]
}