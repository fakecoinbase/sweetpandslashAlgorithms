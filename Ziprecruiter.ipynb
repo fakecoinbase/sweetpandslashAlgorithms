{
  "nbformat": 4,
  "nbformat_minor": 0,
  "metadata": {
    "colab": {
      "name": "Ziprecruiter.ipynb",
      "provenance": [],
      "authorship_tag": "ABX9TyNbGV+6H2hYKEmIDMQlvDHV",
      "include_colab_link": true
    },
    "kernelspec": {
      "name": "python3",
      "display_name": "Python 3"
    }
  },
  "cells": [
    {
      "cell_type": "markdown",
      "metadata": {
        "id": "view-in-github",
        "colab_type": "text"
      },
      "source": [
        "<a href=\"https://colab.research.google.com/github/sweetpand/Algorithms/blob/master/Ziprecruiter.ipynb\" target=\"_parent\"><img src=\"https://colab.research.google.com/assets/colab-badge.svg\" alt=\"Open In Colab\"/></a>"
      ]
    },
    {
      "cell_type": "markdown",
      "metadata": {
        "id": "nXssK-XnVJWq",
        "colab_type": "text"
      },
      "source": [
        "\n",
        "\n",
        "```\n",
        "This question was asked by: Ziprecruiter\n",
        "existing_ids = [15234, 20485, 34536, 95342, 94857]\n",
        "\n",
        "names = ['Calvin', 'Jason', 'Cindy', 'Kevin']\n",
        "urls = [\n",
        "    'domain.com/resume/15234', \n",
        "    'domain.com/resume/23645', \n",
        "    'domain.com/resume/64337', \n",
        "    'domain.com/resume/34536',\n",
        "]\n",
        "We have a list of existing ids that we have already scraped. Let's say we also have two lists, one of names and another of urls that correspond to the names in another list with the id of the names in the url.\n",
        "\n",
        "Write code in Python to return the names and ids that we haven't scraped yet.\n",
        "\n",
        "output = [('Jason', 23645), ('Cindy', 64337)]\n",
        "```\n",
        "\n"
      ]
    },
    {
      "cell_type": "code",
      "metadata": {
        "id": "-sDj3jIeWyRn",
        "colab_type": "code",
        "colab": {}
      },
      "source": [
        "existing_ids = [15234, 20485, 34536, 95342, 94857]\n",
        "names = ['Calvin', 'Jason', 'Cindy', 'Kevin']\n",
        "urls = [\n",
        "    'domain.com/resume/15234', \n",
        "    'domain.com/resume/23645', \n",
        "    'domain.com/resume/64337', \n",
        "    'domain.com/resume/34536',\n",
        "]"
      ],
      "execution_count": 0,
      "outputs": []
    },
    {
      "cell_type": "code",
      "metadata": {
        "id": "jvrD_C3-VHnK",
        "colab_type": "code",
        "colab": {}
      },
      "source": [
        "def intersection(names, urls, existing_ids): \n",
        "    res = [value for value in names if value in urls if value in existing_ids] \n",
        "    return res"
      ],
      "execution_count": 0,
      "outputs": []
    },
    {
      "cell_type": "code",
      "metadata": {
        "id": "xLCllWk6Xa1d",
        "colab_type": "code",
        "colab": {
          "base_uri": "https://localhost:8080/",
          "height": 34
        },
        "outputId": "c9c2bb0b-67ec-453c-cc4f-fa1bf30a2b37"
      },
      "source": [
        "print(intersection(names, urls, existing_ids)) "
      ],
      "execution_count": 16,
      "outputs": [
        {
          "output_type": "stream",
          "text": [
            "[]\n"
          ],
          "name": "stdout"
        }
      ]
    }
  ]
}