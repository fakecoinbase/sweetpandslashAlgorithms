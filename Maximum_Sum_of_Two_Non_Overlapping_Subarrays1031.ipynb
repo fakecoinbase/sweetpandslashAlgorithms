{
  "nbformat": 4,
  "nbformat_minor": 0,
  "metadata": {
    "colab": {
      "name": "Maximum Sum of Two Non-Overlapping Subarrays1031.ipynb",
      "provenance": [],
      "authorship_tag": "ABX9TyOI6BTQc4b2/O2+TGS8NbUg",
      "include_colab_link": true
    },
    "kernelspec": {
      "name": "python3",
      "display_name": "Python 3"
    }
  },
  "cells": [
    {
      "cell_type": "markdown",
      "metadata": {
        "id": "view-in-github",
        "colab_type": "text"
      },
      "source": [
        "<a href=\"https://colab.research.google.com/github/sweetpand/Algorithms/blob/master/Maximum_Sum_of_Two_Non_Overlapping_Subarrays1031.ipynb\" target=\"_parent\"><img src=\"https://colab.research.google.com/assets/colab-badge.svg\" alt=\"Open In Colab\"/></a>"
      ]
    },
    {
      "cell_type": "markdown",
      "metadata": {
        "id": "2f8gluCWdu2E",
        "colab_type": "text"
      },
      "source": [
        "Given an array A of non-negative integers, return the maximum sum of elements in two non-overlapping (contiguous) subarrays, which have lengths L and M.  (For clarification, the L-length subarray could occur before or after the M-length subarray.)\n",
        "\n",
        "Formally, return the largest V for which V = (A[i] + A[i+1] + ... + A[i+L-1]) + (A[j] + A[j+1] + ... + A[j+M-1]) and either:\n",
        "\n",
        "0 <= i < i + L - 1 < j < j + M - 1 < A.length, or\n",
        "0 <= j < j + M - 1 < i < i + L - 1 < A.length.\n",
        "\n",
        "\n",
        "Example 1:\n",
        "\n",
        "Input: A = [0,6,5,2,2,5,1,9,4], L = 1, M = 2\n",
        "Output: 20\n",
        "Explanation: One choice of subarrays is [9] with length 1, and [6,5] with length 2.\n",
        "\n",
        "Example 2:\n",
        "\n",
        "Input: A = [3,8,1,3,2,1,8,9,0], L = 3, M = 2\n",
        "Output: 29\n",
        "Explanation: One choice of subarrays is [3,8,1] with length 3, and [8,9] with length 2.\n",
        "\n",
        "Example 3:\n",
        "\n",
        "Input: A = [2,1,5,6,0,9,5,0,3,8], L = 4, M = 3\n",
        "Output: 31\n",
        "Explanation: One choice of subarrays is [5,6,0,9] with length 4, and [3,8] with length 3.\n",
        "\n",
        "Note:\n",
        "\n",
        "1)L >= 1\n",
        "2)M >= 1\n",
        "3)L + M <= A.length <= 1000\n",
        "4)0 <= A[i] <= 1000\n"
      ]
    },
    {
      "cell_type": "markdown",
      "metadata": {
        "id": "zWwn-1sG2WOq",
        "colab_type": "text"
      },
      "source": [
        "\n",
        "Explanation of the Solutions\n",
        "\n",
        "1. L array appearing first and then M array\n",
        "or\n",
        "M array appearing first and then L array\n",
        "Therefore for a given index i in the loop:\n",
        "find maximum sum for L length before index i and add it with every M length sum right to it --------(equation 1)\n",
        "find maximum sum for M length before index i and add it with every L length sum right to it---------(equation 2)\n",
        "now in every loop do **res = max(res , max( equation 1, equation 2))**\n",
        "*italicized text*\n",
        "This way overlapping is also avoided\n",
        "**Lsum**, sum of the last L elements\n",
        "**Msum**, sum of the last M elements\n",
        "\n",
        "**Lmax**, max sum of contiguous L elements before the last M elements.\n",
        "**Mmax**, max sum of contiguous M elements before the last L elements/\n",
        "\n",
        "Complexity\n",
        "Two pass, **O(N)** time,\n",
        "**O(1)** extra space.\n",
        "\n",
        "It can be done in one pass. I just don't feel like merging them.\n",
        "If you don't like change the original input, don't have to.\n",
        "\n",
        "\n",
        "\n"
      ]
    },
    {
      "cell_type": "code",
      "metadata": {
        "id": "CYcyJI9vU3Ve",
        "colab_type": "code",
        "colab": {}
      },
      "source": [
        "def maxSumTwoNoOverlap(A, L, M):\n",
        "        for i in range(1, len(A)):\n",
        "            A[i] += A[i - 1]\n",
        "        res, Lmax, Mmax = A[L + M - 1], A[L - 1], A[M - 1]\n",
        "        for i in range(L + M, len(A)):\n",
        "            Lmax = max(Lmax, A[i - M] - A[i - L - M])\n",
        "            Mmax = max(Mmax, A[i - L] - A[i - L - M])\n",
        "            res = max(res, Lmax + A[i] - A[i - M], Mmax + A[i] - A[i - L])\n",
        "        return res"
      ],
      "execution_count": 0,
      "outputs": []
    },
    {
      "cell_type": "code",
      "metadata": {
        "id": "NLe7H10fih3W",
        "colab_type": "code",
        "colab": {
          "base_uri": "https://localhost:8080/",
          "height": 34
        },
        "outputId": "d6faaebc-b968-403c-b234-2d72ce0e9a8d"
      },
      "source": [
        "A = [0,6,5,2,2,5,1,9,4]\n",
        "L = 1\n",
        "M = 2\n",
        "maxSumTwoNoOverlap(A,L,M)"
      ],
      "execution_count": 7,
      "outputs": [
        {
          "output_type": "execute_result",
          "data": {
            "text/plain": [
              "20"
            ]
          },
          "metadata": {
            "tags": []
          },
          "execution_count": 7
        }
      ]
    },
    {
      "cell_type": "markdown",
      "metadata": {
        "id": "w4fS7J269dBJ",
        "colab_type": "text"
      },
      "source": [
        " 2. DP solution \n",
        "\n",
        "1.Scan the prefix sum array from index L + M, which is the first possible position;\n",
        "2.update the max value of the L-length subarray; then update max value of the sum of the both;\n",
        "3.we need to swap L and M to scan twice, since either subarray can occur before the other.\n",
        "4.In private method, prefix sum difference p[i - M] - p[i - M - L] is L-length subarray from index i - M - L to i - M - 1, and p[i] - p[i - M] is M-length subarray from index i - M to i - 1."
      ]
    },
    {
      "cell_type": "code",
      "metadata": {
        "id": "vPrewxMQ9cOy",
        "colab_type": "code",
        "colab": {}
      },
      "source": [
        "from typing import List\n",
        "def maxSumTwoNoOverlap(A: List[int], L: int, M: int) -> int:\n",
        "        \n",
        "        def maxSum(L:int, M:int) -> int:\n",
        "            maxL = ans = 0\n",
        "            for i in range(L + M, len(prefixSum)):\n",
        "                maxL = max(maxL, prefixSum[i - M] - prefixSum[i - L - M]) // update max of L-length subarray.\n",
        "                ans = max(ans, maxL + prefixSum[i] - prefixSum[i - M])  // update max of the sum of L-length & M-length subarrays.\n",
        "            return ans\n",
        "        \n",
        "        prefixSum = [0] * (len(A) + 1)\n",
        "        for i, a in enumerate(A):\n",
        "            prefixSum[i + 1] = prefixSum[i] + a\n",
        "        return max(maxSum(L, M), maxSum(M, L))"
      ],
      "execution_count": 0,
      "outputs": []
    },
    {
      "cell_type": "code",
      "metadata": {
        "id": "JX8eSoPK-JNn",
        "colab_type": "code",
        "colab": {
          "base_uri": "https://localhost:8080/",
          "height": 34
        },
        "outputId": "e3fb42fe-1722-43e7-f3d3-4538c625053e"
      },
      "source": [
        "A = [0,6,5,2,2,5,1,9,4]\n",
        "L = 1\n",
        "M = 2\n",
        "maxSumTwoNoOverlap(A,L,M)"
      ],
      "execution_count": 11,
      "outputs": [
        {
          "output_type": "execute_result",
          "data": {
            "text/plain": [
              "20"
            ]
          },
          "metadata": {
            "tags": []
          },
          "execution_count": 11
        }
      ]
    },
    {
      "cell_type": "markdown",
      "metadata": {
        "id": "Gs-2cIRg94Qj",
        "colab_type": "text"
      },
      "source": [
        "**Time & space: O(n), where n = A.length.**\n"
      ]
    },
    {
      "cell_type": "markdown",
      "metadata": {
        "id": "Pj-3O6YnBNt3",
        "colab_type": "text"
      },
      "source": [
        "3. Sliding window solution:\n",
        "Based on Solution 1, we can further get rid of prefix sum array to implement the following O(1) code.\n",
        "\n",
        "**Time: O(n), space: O(1), where n = A.length.**\n"
      ]
    },
    {
      "cell_type": "code",
      "metadata": {
        "id": "rIPq6Awa-YPw",
        "colab_type": "code",
        "colab": {}
      },
      "source": [
        "def maxSumTwoNoOverlap(self, A: List[int], L: int, M: int) -> int:\n",
        "        \n",
        "        def maxSum(L:int, M:int) -> int:\n",
        "            sumL = sumM = 0 \n",
        "            for i in range(0, L + M): // compute the initial values of L & M length subarrays.\n",
        "                if i < L:\n",
        "                    sumL += A[i]\n",
        "                else:\n",
        "                    sumM += A[i]    \n",
        "            maxL, ans = sumL, sumL + sumM  // sum of sumL and sumM.\n",
        "            for i in range(L + M, len(A)):\n",
        "                sumL += A[i - M] - A[i - L - M] // update sumL.\n",
        "                maxL = max(maxL, sumL) // update max value of L-length subarray.\n",
        "                sumM += A[i] - A[i - M] // update sumM.\n",
        "                ans = max(ans, maxL + sumM) // update max value of sum of L & M-length subarrays.\n",
        "            return ans\n",
        "        \n",
        "        return max(maxSum(L, M), maxSum(M, L))"
      ],
      "execution_count": 0,
      "outputs": []
    }
  ]
}