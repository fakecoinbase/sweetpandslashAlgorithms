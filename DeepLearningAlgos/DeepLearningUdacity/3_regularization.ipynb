{
 "cells": [
  {
   "cell_type": "markdown",
   "metadata": {
    "colab_type": "text",
    "id": "kR-4eNdK6lYS"
   },
   "source": [
    "Deep Learning\n",
    "=============\n",
    "\n",
    "Assignment 3\n",
    "------------\n",
    "\n",
    "Previously in `2_fullyconnected.ipynb`, you trained a logistic regression and a neural network model.\n",
    "\n",
    "The goal of this assignment is to explore regularization techniques."
   ]
  },
  {
   "cell_type": "code",
   "execution_count": 1,
   "metadata": {
    "cellView": "both",
    "colab": {
     "autoexec": {
      "startup": false,
      "wait_interval": 0
     }
    },
    "colab_type": "code",
    "collapsed": true,
    "id": "JLpLa8Jt7Vu4"
   },
   "outputs": [],
   "source": [
    "# These are all the modules we'll be using later. Make sure you can import them\n",
    "# before proceeding further.\n",
    "from __future__ import print_function\n",
    "import numpy as np\n",
    "import tensorflow as tf\n",
    "from six.moves import cPickle as pickle\n",
    "from six.moves import range\n",
    "import matplotlib.pyplot as plt\n",
    "import matplotlib.cm as cm\n",
    "\n",
    "%matplotlib inline"
   ]
  },
  {
   "cell_type": "markdown",
   "metadata": {
    "colab_type": "text",
    "id": "1HrCK6e17WzV"
   },
   "source": [
    "First reload the data we generated in _notmist.ipynb_."
   ]
  },
  {
   "cell_type": "code",
   "execution_count": 2,
   "metadata": {
    "cellView": "both",
    "colab": {
     "autoexec": {
      "startup": false,
      "wait_interval": 0
     },
     "output_extras": [
      {
       "item_id": 1
      }
     ]
    },
    "colab_type": "code",
    "collapsed": false,
    "executionInfo": {
     "elapsed": 11777,
     "status": "ok",
     "timestamp": 1449849322348,
     "user": {
      "color": "",
      "displayName": "",
      "isAnonymous": false,
      "isMe": true,
      "permissionId": "",
      "photoUrl": "",
      "sessionId": "0",
      "userId": ""
     },
     "user_tz": 480
    },
    "id": "y3-cj1bpmuxc",
    "outputId": "e03576f1-ebbe-4838-c388-f1777bcc9873"
   },
   "outputs": [
    {
     "name": "stdout",
     "output_type": "stream",
     "text": [
      "Training set (200000, 28, 28) (200000,)\n",
      "Validation set (10000, 28, 28) (10000,)\n",
      "Test set (10000, 28, 28) (10000,)\n"
     ]
    }
   ],
   "source": [
    "pickle_file = 'notMNIST.pickle'\n",
    "\n",
    "with open(pickle_file, 'rb') as f:\n",
    "  save = pickle.load(f)\n",
    "  train_dataset = save['train_dataset']\n",
    "  train_labels = save['train_labels']\n",
    "  valid_dataset = save['valid_dataset']\n",
    "  valid_labels = save['valid_labels']\n",
    "  test_dataset = save['test_dataset']\n",
    "  test_labels = save['test_labels']\n",
    "  del save  # hint to help gc free up memory\n",
    "  print('Training set', train_dataset.shape, train_labels.shape)\n",
    "  print('Validation set', valid_dataset.shape, valid_labels.shape)\n",
    "  print('Test set', test_dataset.shape, test_labels.shape)"
   ]
  },
  {
   "cell_type": "markdown",
   "metadata": {
    "colab_type": "text",
    "id": "L7aHrm6nGDMB"
   },
   "source": [
    "Reformat into a shape that's more adapted to the models we're going to train:\n",
    "- data as a flat matrix,\n",
    "- labels as float 1-hot encodings."
   ]
  },
  {
   "cell_type": "code",
   "execution_count": 3,
   "metadata": {
    "cellView": "both",
    "colab": {
     "autoexec": {
      "startup": false,
      "wait_interval": 0
     },
     "output_extras": [
      {
       "item_id": 1
      }
     ]
    },
    "colab_type": "code",
    "collapsed": false,
    "executionInfo": {
     "elapsed": 11728,
     "status": "ok",
     "timestamp": 1449849322356,
     "user": {
      "color": "",
      "displayName": "",
      "isAnonymous": false,
      "isMe": true,
      "permissionId": "",
      "photoUrl": "",
      "sessionId": "0",
      "userId": ""
     },
     "user_tz": 480
    },
    "id": "IRSyYiIIGIzS",
    "outputId": "3f8996ee-3574-4f44-c953-5c8a04636582"
   },
   "outputs": [
    {
     "name": "stdout",
     "output_type": "stream",
     "text": [
      "Training set (200000, 784) (200000, 10)\n",
      "Validation set (10000, 784) (10000, 10)\n",
      "Test set (10000, 784) (10000, 10)\n"
     ]
    }
   ],
   "source": [
    "image_size = 28\n",
    "num_labels = 10\n",
    "\n",
    "def reformat(dataset, labels):\n",
    "  dataset = dataset.reshape((-1, image_size * image_size)).astype(np.float32)\n",
    "  # Map 2 to [0.0, 1.0, 0.0 ...], 3 to [0.0, 0.0, 1.0 ...]\n",
    "  labels = (np.arange(num_labels) == labels[:,None]).astype(np.float32)\n",
    "  return dataset, labels\n",
    "train_dataset, train_labels = reformat(train_dataset, train_labels)\n",
    "valid_dataset, valid_labels = reformat(valid_dataset, valid_labels)\n",
    "test_dataset, test_labels = reformat(test_dataset, test_labels)\n",
    "print('Training set', train_dataset.shape, train_labels.shape)\n",
    "print('Validation set', valid_dataset.shape, valid_labels.shape)\n",
    "print('Test set', test_dataset.shape, test_labels.shape)"
   ]
  },
  {
   "cell_type": "code",
   "execution_count": 4,
   "metadata": {
    "cellView": "both",
    "colab": {
     "autoexec": {
      "startup": false,
      "wait_interval": 0
     }
    },
    "colab_type": "code",
    "collapsed": true,
    "id": "RajPLaL_ZW6w"
   },
   "outputs": [],
   "source": [
    "def accuracy(predictions, labels):\n",
    "  return (100.0 * np.sum(np.argmax(predictions, 1) == np.argmax(labels, 1))\n",
    "          / predictions.shape[0])"
   ]
  },
  {
   "cell_type": "markdown",
   "metadata": {
    "colab_type": "text",
    "id": "sgLbUAQ1CW-1"
   },
   "source": [
    "---\n",
    "Problem 1\n",
    "---------\n",
    "\n",
    "Introduce and tune L2 regularization for both logistic and neural network models. Remember that L2 amounts to adding a penalty on the norm of the weights to the loss. In TensorFlow, you can compute the L2 loss for a tensor `t` using `nn.l2_loss(t)`. The right amount of regularization should improve your validation / test accuracy.\n",
    "\n",
    "---"
   ]
  },
  {
   "cell_type": "markdown",
   "metadata": {
    "colab_type": "text",
    "id": "na8xX2yHZzNF"
   },
   "source": [
    "---\n",
    "Problem 2\n",
    "---------\n",
    "Let's demonstrate an extreme case of overfitting. Restrict your training data to just a few batches. What happens?\n",
    "\n",
    "---"
   ]
  },
  {
   "cell_type": "code",
   "execution_count": 5,
   "metadata": {
    "collapsed": true
   },
   "outputs": [],
   "source": [
    "# With gradient descent training, even this much data is prohibitive.\n",
    "# Subset the training data for faster turnaround.\n",
    "train_subset = 1000\n",
    "graph = tf.Graph()\n",
    "with graph.as_default():\n",
    "\n",
    "  # Input data.\n",
    "  # Load the training, validation and test data into constants that are\n",
    "  # attached to the graph.\n",
    "  tf_train_dataset = tf.constant(train_dataset[:train_subset, :])\n",
    "  tf_train_labels = tf.constant(train_labels[:train_subset])\n",
    "  tf_valid_dataset = tf.constant(valid_dataset)\n",
    "  tf_test_dataset = tf.constant(test_dataset)\n",
    "  \n",
    "  # Variables.\n",
    "  # These are the parameters that we are going to be training. The weight\n",
    "  # matrix will be initialized using random values following a (truncated)\n",
    "  # normal distribution. The biases get initialized to zero.\n",
    "  weights = tf.Variable(\n",
    "    tf.truncated_normal([image_size * image_size, num_labels]))\n",
    "  biases = tf.Variable(tf.zeros([num_labels]))\n",
    "  \n",
    "  # Training computation.\n",
    "  # We multiply the inputs with the weight matrix, and add biases. We compute\n",
    "  # the softmax and cross-entropy (it's one operation in TensorFlow, because\n",
    "  # it's very common, and it can be optimized). We take the average of this\n",
    "  # cross-entropy across all training examples: that's our loss.\n",
    "  # here we add a regularization term\n",
    "  logits = tf.matmul(tf_train_dataset, weights) + biases + 10**7*tf.nn.l2_loss(weights)\n",
    "  loss = tf.reduce_mean(\n",
    "    tf.nn.softmax_cross_entropy_with_logits(logits, tf_train_labels))\n",
    "  \n",
    "  # Optimizer.\n",
    "  # We are going to find the minimum of this loss using gradient descent.\n",
    "  optimizer = tf.train.GradientDescentOptimizer(0.5).minimize(loss)\n",
    "  \n",
    "  # Predictions for the training, validation, and test data.\n",
    "  # These are not part of training, but merely here so that we can report\n",
    "  # accuracy figures as we train.\n",
    "  train_prediction = tf.nn.softmax(logits)\n",
    "  valid_prediction = tf.nn.softmax(\n",
    "    tf.matmul(tf_valid_dataset, weights) + biases)\n",
    "  test_prediction = tf.nn.softmax(tf.matmul(tf_test_dataset, weights) + biases)"
   ]
  },
  {
   "cell_type": "code",
   "execution_count": 6,
   "metadata": {
    "collapsed": false
   },
   "outputs": [
    {
     "name": "stdout",
     "output_type": "stream",
     "text": [
      "Initialized\n",
      "Loss at step 0: 2.302585\n",
      "Training accuracy: 8.8%\n",
      "Validation accuracy: 19.3%\n",
      "Loss at step 100: 0.645339\n",
      "Training accuracy: 82.3%\n",
      "Validation accuracy: 79.7%\n",
      "Loss at step 200: 0.649495\n",
      "Training accuracy: 82.4%\n",
      "Validation accuracy: 79.4%\n",
      "Loss at step 300: 0.618520\n",
      "Training accuracy: 83.3%\n",
      "Validation accuracy: 79.5%\n",
      "Loss at step 400: 0.666209\n",
      "Training accuracy: 82.1%\n",
      "Validation accuracy: 79.2%\n",
      "Loss at step 500: 0.645943\n",
      "Training accuracy: 82.6%\n",
      "Validation accuracy: 79.5%\n",
      "Loss at step 600: 0.664865\n",
      "Training accuracy: 81.9%\n",
      "Validation accuracy: 79.1%\n",
      "Loss at step 700: 0.650100\n",
      "Training accuracy: 82.2%\n",
      "Validation accuracy: 79.4%\n",
      "Loss at step 800: 0.639792\n",
      "Training accuracy: 82.4%\n",
      "Validation accuracy: 79.4%\n",
      "Loss at step 900: 0.656371\n",
      "Training accuracy: 81.7%\n",
      "Validation accuracy: 79.5%\n",
      "Test accuracy: 86.3%\n"
     ]
    }
   ],
   "source": [
    "num_steps = 1000\n",
    "\n",
    "def accuracy(predictions, labels):\n",
    "  return (100.0 * np.sum(np.argmax(predictions, 1) == np.argmax(labels, 1))\n",
    "          / predictions.shape[0])\n",
    "\n",
    "with tf.Session(graph=graph) as session:\n",
    "  # This is a one-time operation which ensures the parameters get initialized as\n",
    "  # we described in the graph: random weights for the matrix, zeros for the\n",
    "  # biases. \n",
    "  tf.initialize_all_variables().run()\n",
    "  print('Initialized')\n",
    "  for step in range(num_steps):\n",
    "    # Run the computations. We tell .run() that we want to run the optimizer,\n",
    "    # and get the loss value and the training predictions returned as numpy\n",
    "    # arrays.\n",
    "    _, l, predictions = session.run([optimizer, loss, train_prediction])\n",
    "    if (step % 100 == 0):\n",
    "      print('Loss at step %d: %f' % (step, l))\n",
    "      print('Training accuracy: %.1f%%' % accuracy(\n",
    "        predictions, train_labels[:train_subset, :]))\n",
    "      # Calling .eval() on valid_prediction is basically like calling run(), but\n",
    "      # just to get that one numpy array. Note that it recomputes all its graph\n",
    "      # dependencies.\n",
    "      print('Validation accuracy: %.1f%%' % accuracy(\n",
    "        valid_prediction.eval(), valid_labels))\n",
    "  print('Test accuracy: %.1f%%' % accuracy(test_prediction.eval(), test_labels))"
   ]
  },
  {
   "cell_type": "code",
   "execution_count": 7,
   "metadata": {
    "collapsed": true
   },
   "outputs": [],
   "source": [
    "train_subset = 3000\n",
    "batch_size = 64\n",
    "\n",
    "graph = tf.Graph()\n",
    "with graph.as_default():\n",
    "\n",
    "  # Input data. For the training data, we use a placeholder that will be fed\n",
    "  # at run time with a training minibatch.\n",
    "  tf_train_dataset = tf.placeholder(tf.float32,\n",
    "                                    shape=(batch_size, image_size * image_size))\n",
    "  tf_train_labels = tf.placeholder(tf.float32, shape=(batch_size, num_labels))\n",
    "  tf_valid_dataset = tf.constant(valid_dataset)\n",
    "  tf_test_dataset = tf.constant(test_dataset)\n",
    "  \n",
    "  # Variables.\n",
    "  weights = tf.Variable(\n",
    "    tf.truncated_normal([image_size * image_size, num_labels]))\n",
    "  biases = tf.Variable(tf.zeros([num_labels]))\n",
    "  \n",
    "  # Training computation.\n",
    "  # here we add a regularization term\n",
    "  logits = tf.matmul(tf_train_dataset, weights) + biases + 10**5*tf.nn.l2_loss(weights)\n",
    "  loss = tf.reduce_mean(\n",
    "    tf.nn.softmax_cross_entropy_with_logits(logits, tf_train_labels))\n",
    "  \n",
    "  # Optimizer.\n",
    "  optimizer = tf.train.GradientDescentOptimizer(0.5).minimize(loss)\n",
    "  \n",
    "  # Predictions for the training, validation, and test data.\n",
    "  train_prediction = tf.nn.softmax(logits)\n",
    "  valid_prediction = tf.nn.softmax(\n",
    "    tf.matmul(tf_valid_dataset, weights) + biases)\n",
    "  test_prediction = tf.nn.softmax(tf.matmul(tf_test_dataset, weights) + biases)"
   ]
  },
  {
   "cell_type": "code",
   "execution_count": 8,
   "metadata": {
    "collapsed": false,
    "scrolled": true
   },
   "outputs": [
    {
     "name": "stdout",
     "output_type": "stream",
     "text": [
      "Initialized\n",
      "Minibatch loss at step 0: 17.505713\n",
      "Minibatch accuracy: 15.6%\n",
      "Validation accuracy: 15.2%\n",
      "Minibatch loss at step 500: 1.495437\n",
      "Minibatch accuracy: 78.1%\n",
      "Validation accuracy: 79.7%\n",
      "Minibatch loss at step 1000: 0.822082\n",
      "Minibatch accuracy: 84.4%\n",
      "Validation accuracy: 79.5%\n",
      "Minibatch loss at step 1500: 0.270778\n",
      "Minibatch accuracy: 81.2%\n",
      "Validation accuracy: 79.5%\n",
      "Minibatch loss at step 2000: 0.164297\n",
      "Minibatch accuracy: 93.8%\n",
      "Validation accuracy: 79.3%\n",
      "Minibatch loss at step 2500: 0.945974\n",
      "Minibatch accuracy: 87.5%\n",
      "Validation accuracy: 79.3%\n",
      "Minibatch loss at step 3000: 1.226625\n",
      "Minibatch accuracy: 79.7%\n",
      "Validation accuracy: 79.7%\n",
      "Minibatch loss at step 3500: 0.224784\n",
      "Minibatch accuracy: 89.1%\n",
      "Validation accuracy: 79.5%\n",
      "Minibatch loss at step 4000: 0.750958\n",
      "Minibatch accuracy: 84.4%\n",
      "Validation accuracy: 79.6%\n",
      "Minibatch loss at step 4500: 1.190453\n",
      "Minibatch accuracy: 76.6%\n",
      "Validation accuracy: 79.5%\n",
      "Minibatch loss at step 5000: 1.006905\n",
      "Minibatch accuracy: 84.4%\n",
      "Validation accuracy: 79.3%\n",
      "Test accuracy: 85.7%\n"
     ]
    }
   ],
   "source": [
    "num_steps = 5001\n",
    "train_subset = 3000\n",
    "train_subdataset = train_dataset[:train_subset]\n",
    "train_sublabels = train_labels[:train_subset]\n",
    "with tf.Session(graph=graph) as session:\n",
    "  tf.initialize_all_variables().run()\n",
    "  print(\"Initialized\")\n",
    "  for step in range(num_steps):\n",
    "    # Pick an offset within the training data, which has been randomized.\n",
    "    # Note: we could use better randomization across epochs.\n",
    "    offset = (step * batch_size) % (train_sublabels.shape[0] - batch_size)\n",
    "    # Generate a minibatch.\n",
    "    batch_data = train_subdataset[offset:(offset + batch_size), :]\n",
    "    batch_labels = train_sublabels[offset:(offset + batch_size), :]\n",
    "    # Prepare a dictionary telling the session where to feed the minibatch.\n",
    "    # The key of the dictionary is the placeholder node of the graph to be fed,\n",
    "    # and the value is the numpy array to feed to it.\n",
    "    feed_dict = {tf_train_dataset : batch_data, tf_train_labels : batch_labels}\n",
    "    _, l, predictions = session.run(\n",
    "      [optimizer, loss, train_prediction], feed_dict=feed_dict)\n",
    "    if (step % 500 == 0):\n",
    "      print(\"Minibatch loss at step %d: %f\" % (step, l))\n",
    "      print(\"Minibatch accuracy: %.1f%%\" % accuracy(predictions, batch_labels))\n",
    "      print(\"Validation accuracy: %.1f%%\" % accuracy(\n",
    "        valid_prediction.eval(), valid_labels))\n",
    "  print(\"Test accuracy: %.1f%%\" % accuracy(test_prediction.eval(), test_labels))"
   ]
  },
  {
   "cell_type": "markdown",
   "metadata": {
    "colab_type": "text",
    "id": "ww3SCBUdlkRc"
   },
   "source": [
    "---\n",
    "Problem 3\n",
    "---------\n",
    "Introduce Dropout on the hidden layer of the neural network. Remember: Dropout should only be introduced during training, not evaluation, otherwise your evaluation results would be stochastic as well. TensorFlow provides `nn.dropout()` for that, but you have to make sure it's only inserted during training.\n",
    "\n",
    "What happens to our extreme overfitting case?\n",
    "\n",
    "---"
   ]
  },
  {
   "cell_type": "code",
   "execution_count": 40,
   "metadata": {
    "collapsed": false
   },
   "outputs": [],
   "source": [
    "batch_size = 128\n",
    "HIDDEN_LAYER_SIZE = 2048\n",
    "BETA = 1\n",
    "graph = tf.Graph()\n",
    "with graph.as_default():\n",
    "    nn_train_dataset = tf.placeholder(tf.float32, shape=(None, image_size*image_size))\n",
    "    nn_train_labels = tf.placeholder(tf.float32, shape=(None, num_labels))\n",
    "    \n",
    "    #parameters 4 hidden layers\n",
    "    nn_weights = tf.Variable(tf.truncated_normal([image_size*image_size, HIDDEN_LAYER_SIZE]))\n",
    "    nn_bias = tf.Variable(tf.zeros([HIDDEN_LAYER_SIZE]))\n",
    "    \n",
    "    #hidden layer\n",
    "    nn_fc = tf.nn.relu(tf.matmul(nn_train_dataset, nn_weights) + nn_bias + BETA*tf.nn.l2_loss(nn_weights))\n",
    "    keep_prob = tf.placeholder(tf.float32)\n",
    "    fc_dropout = tf.nn.dropout(nn_fc, keep_prob)\n",
    "    \n",
    "    #softmax layer\n",
    "    s_weights = tf.Variable(tf.truncated_normal([HIDDEN_LAYER_SIZE, num_labels]))\n",
    "    s_biases = tf.Variable(tf.zeros([num_labels]))\n",
    "    \n",
    "    nn_logits = tf.matmul(fc_dropout, s_weights) + s_biases + BETA*tf.nn.l2_loss(s_weights)\n",
    "    y = tf.nn.softmax(nn_logits)\n",
    "    \n",
    "    loss = tf.reduce_mean(\n",
    "        tf.nn.softmax_cross_entropy_with_logits(nn_logits, nn_train_labels))\n",
    "    optimizer = tf.train.AdagradOptimizer(0.1).minimize(loss)\n",
    "    \n",
    "    correct_prediction = tf.equal(tf.argmax(y,1), tf.argmax(nn_train_labels,1))\n",
    "    nn_accuracy = tf.reduce_mean(tf.cast(correct_prediction, 'float'))\n",
    "    \n",
    "    predict = tf.argmax(y, 1)"
   ]
  },
  {
   "cell_type": "code",
   "execution_count": 41,
   "metadata": {
    "collapsed": false
   },
   "outputs": [
    {
     "name": "stdout",
     "output_type": "stream",
     "text": [
      "full connected neural network initialized!\n",
      "the hidden layer has 2048 neurons\n",
      "Minibatch loss at step 0 => 49871460.0000\n",
      "Minibatch accuracy =>10.9375%\n",
      "Validation accuracy => 10.0000%\n",
      "===========================================================\n",
      "Minibatch loss at step 1000 => 3.4658\n",
      "Minibatch accuracy =>78.9062%\n",
      "Validation accuracy => 78.9000%\n",
      "===========================================================\n",
      "Minibatch loss at step 2000 => 0.4708\n",
      "Minibatch accuracy =>89.8438%\n",
      "Validation accuracy => 84.6700%\n",
      "===========================================================\n",
      "Minibatch loss at step 3000 => 0.5494\n",
      "Minibatch accuracy =>89.8438%\n",
      "Validation accuracy => 85.6500%\n",
      "===========================================================\n",
      "Minibatch loss at step 4000 => 0.5719\n",
      "Minibatch accuracy =>85.1562%\n",
      "Validation accuracy => 86.5200%\n",
      "===========================================================\n",
      "Minibatch loss at step 5000 => 0.6228\n",
      "Minibatch accuracy =>89.0625%\n",
      "Validation accuracy => 86.7200%\n",
      "===========================================================\n",
      "Minibatch loss at step 6000 => 0.6156\n",
      "Minibatch accuracy =>87.5000%\n",
      "Validation accuracy => 86.9800%\n",
      "===========================================================\n",
      "Minibatch loss at step 7000 => 0.5618\n",
      "Minibatch accuracy =>89.8438%\n",
      "Validation accuracy => 87.0100%\n",
      "===========================================================\n",
      "Minibatch loss at step 8000 => 0.5080\n",
      "Minibatch accuracy =>90.6250%\n",
      "Validation accuracy => 87.1300%\n",
      "===========================================================\n",
      "Minibatch loss at step 9000 => 0.4100\n",
      "Minibatch accuracy =>90.6250%\n",
      "Validation accuracy => 87.3100%\n",
      "===========================================================\n",
      "Minibatch loss at step 10000 => 0.4908\n",
      "Minibatch accuracy =>88.2812%\n",
      "Validation accuracy => 87.7500%\n",
      "===========================================================\n",
      "=====================================================\n",
      "Accuracy on test dataset => 92.9300%\n"
     ]
    }
   ],
   "source": [
    "num_step = 10001\n",
    "loss_set = []\n",
    "train_accuracy_set = []\n",
    "valid_accuracy_set = []\n",
    "x_range = []\n",
    "with tf.Session(graph=graph) as session:\n",
    "    init = tf.initialize_all_variables()\n",
    "    session.run(init)\n",
    "    print('full connected neural network initialized!')\n",
    "    print('the hidden layer has %d neurons'%HIDDEN_LAYER_SIZE)\n",
    "    \n",
    "    for step in range(num_step):\n",
    "        offset = (step * batch_size) % (train_labels.shape[0] - batch_size)\n",
    "        batch_data = train_dataset[offset:(offset+batch_size),:]\n",
    "        batch_labels = train_labels[offset:(offset+batch_size),:]\n",
    "        feed_dict = {nn_train_dataset:batch_data, nn_train_labels:batch_labels, keep_prob:0.5}\n",
    "        _, l, predictions = session.run([optimizer, loss, predict], feed_dict = feed_dict)\n",
    "        \n",
    "        \n",
    "        if(step % 10 == 0):\n",
    "            nn_accu = nn_accuracy.eval(feed_dict = {nn_train_dataset:batch_data,\n",
    "                                                               nn_train_labels: batch_labels,\n",
    "                                                          keep_prob:1.0})\n",
    "            valid_accuracy = nn_accuracy.eval(feed_dict = {nn_train_dataset:valid_dataset,\n",
    "                                                               nn_train_labels: valid_labels,\n",
    "                                                          keep_prob:1.0})\n",
    "            train_accuracy_set.append(nn_accu)\n",
    "            valid_accuracy_set.append(valid_accuracy)\n",
    "            loss_set.append(l)\n",
    "            x_range.append(step)\n",
    "            if(step%1000 == 0):\n",
    "                print('Minibatch loss at step %d => %.4f'%(step, l))\n",
    "                print('Minibatch accuracy =>%.4f%%'%(nn_accu*100))\n",
    "                print('Validation accuracy => %.4f%%'%(valid_accuracy*100))\n",
    "                print('===========================================================')\n",
    "    print('=====================================================')\n",
    "    print('Accuracy on test dataset => %.4f%%'%(nn_accuracy.eval(feed_dict = {nn_train_dataset:test_dataset,\n",
    "                                                               nn_train_labels: test_labels,\n",
    "                                                                             keep_prob:1.0})*100))"
   ]
  },
  {
   "cell_type": "markdown",
   "metadata": {
    "colab_type": "text",
    "id": "-b1hTz3VWZjw"
   },
   "source": [
    "---\n",
    "Problem 4\n",
    "---------\n",
    "\n",
    "Try to get the best performance you can using a multi-layer model! The best reported test accuracy using a deep network is [97.1%](http://yaroslavvb.blogspot.com/2011/09/notmnist-dataset.html?showComment=1391023266211#c8758720086795711595).\n",
    "\n",
    "One avenue you can explore is to add multiple layers.\n",
    "\n",
    "Another one is to use learning rate decay:\n",
    "\n",
    "    global_step = tf.Variable(0)  # count the number of steps taken.\n",
    "    learning_rate = tf.train.exponential_decay(0.5, global_step, ...)\n",
    "    optimizer = tf.train.GradientDescentOptimizer(learning_rate).minimize(loss, global_step=global_step)\n",
    " \n",
    " ---\n"
   ]
  }
 ],
 "metadata": {
  "colab": {
   "default_view": {},
   "name": "3_regularization.ipynb",
   "provenance": [],
   "version": "0.3.2",
   "views": {}
  },
  "kernelspec": {
   "display_name": "Python 3",
   "language": "python",
   "name": "python3"
  },
  "language_info": {
   "codemirror_mode": {
    "name": "ipython",
    "version": 3
   },
   "file_extension": ".py",
   "mimetype": "text/x-python",
   "name": "python",
   "nbconvert_exporter": "python",
   "pygments_lexer": "ipython3",
   "version": "3.5.2"
  }
 },
 "nbformat": 4,
 "nbformat_minor": 0
}
