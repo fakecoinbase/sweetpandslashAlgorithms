{
 "cells": [
  {
   "cell_type": "code",
   "execution_count": 1,
   "metadata": {
    "collapsed": false,
    "scrolled": true
   },
   "outputs": [],
   "source": [
    "import pandas as pd\n",
    "import numpy as np\n",
    "\n",
    "import seaborn as sns\n",
    "import matplotlib.pyplot as plt\n",
    "\n",
    "import xgboost as xgb\n",
    "from sklearn.ensemble import RandomForestClassifier\n",
    "from sklearn.linear_model import LinearRegression\n",
    "from sklearn.metrics import log_loss, accuracy_score\n",
    "from sklearn.cross_validation import cross_val_score, train_test_split\n",
    "from sklearn import cross_validation, metrics\n",
    "from sklearn.grid_search import GridSearchCV \n",
    "\n",
    "%matplotlib inline\n",
    "%load_ext autoreload\n",
    "%autoreload 2"
   ]
  },
  {
   "cell_type": "code",
   "execution_count": 2,
   "metadata": {
    "collapsed": false
   },
   "outputs": [],
   "source": [
    "data = pd.read_csv('data.csv')"
   ]
  },
  {
   "cell_type": "code",
   "execution_count": 3,
   "metadata": {
    "collapsed": false
   },
   "outputs": [],
   "source": [
    "#to caculate the sum of different action type such as jump shot or running jump shot\n",
    "total_actions = dict(data.action_type.value_counts())\n",
    "\n",
    "threshold = 10\n",
    "data['type'] = data.apply(lambda row: row['action_type'] if total_actions[row['action_type']] >= threshold \\\n",
    "                          else row['combined_shot_type'], axis = 1)\n",
    "\n",
    "data['time_remaining'] = data.apply(lambda row: row['minutes_remaining']*60 + row['seconds_remaining'], axis = 1)\n",
    "\n",
    "# TODO: tune this parameter\n",
    "threshold = 3\n",
    "# TODO: find out why he cant hit @ 14 secs to go\n",
    "anomaly = 14\n",
    "\n",
    "data['last moment'] = data.apply(lambda row: row['time_remaining'] <= threshold or row['time_remaining'] == anomaly, \n",
    "                                 axis = 1)\n",
    "data['shot_distance'] = data.apply(lambda row: 28 if row['shot_distance']>28 else row['shot_distance'], axis=1)"
   ]
  },
  {
   "cell_type": "code",
   "execution_count": 4,
   "metadata": {
    "collapsed": false
   },
   "outputs": [],
   "source": [
    "def get_acc(data, field):\n",
    "    ct = pd.crosstab(data.shot_made_flag, data[field]).apply(lambda x: x / x.sum(), axis=0)\n",
    "    x, y = ct.columns, ct.values[1, :]\n",
    "    plt.figure(figsize=(7, 5))\n",
    "    plt.plot(x, y)\n",
    "    plt.xlabel(field)\n",
    "    plt.ylabel('% shots made')\n",
    "    plt.show()"
   ]
  },
  {
   "cell_type": "code",
   "execution_count": 5,
   "metadata": {
    "collapsed": true
   },
   "outputs": [],
   "source": [
    "def sort_encode(data, field):\n",
    "    ct = pd.crosstab(data.shot_made_flag, data[field]).apply(lambda x: x / x.sum(), axis=0)\n",
    "    temp = list(zip(ct.values[1, :], ct.columns))\n",
    "    temp.sort()\n",
    "    new_map = {}\n",
    "    for index, (acc, old_number) in enumerate(temp):\n",
    "        new_map[old_number] = index\n",
    "    new_field = field + '_sort_enumerated'\n",
    "    data[new_field] = data[field].map(new_map)\n",
    "    get_acc(data, new_field)"
   ]
  },
  {
   "cell_type": "code",
   "execution_count": 6,
   "metadata": {
    "collapsed": false
   },
   "outputs": [
    {
     "data": {
      "text/html": [
       "<div>\n",
       "<table border=\"1\" class=\"dataframe\">\n",
       "  <thead>\n",
       "    <tr style=\"text-align: right;\">\n",
       "      <th></th>\n",
       "      <th>shot_distance</th>\n",
       "      <th>shot_made_flag</th>\n",
       "      <th>shot_id</th>\n",
       "      <th>last moment</th>\n",
       "      <th>period_1</th>\n",
       "      <th>period_2</th>\n",
       "      <th>period_3</th>\n",
       "      <th>period_4</th>\n",
       "      <th>period_5</th>\n",
       "      <th>period_6</th>\n",
       "      <th>...</th>\n",
       "      <th>opponent_PHI</th>\n",
       "      <th>opponent_PHX</th>\n",
       "      <th>opponent_POR</th>\n",
       "      <th>opponent_SAC</th>\n",
       "      <th>opponent_SAS</th>\n",
       "      <th>opponent_SEA</th>\n",
       "      <th>opponent_TOR</th>\n",
       "      <th>opponent_UTA</th>\n",
       "      <th>opponent_VAN</th>\n",
       "      <th>opponent_WAS</th>\n",
       "    </tr>\n",
       "  </thead>\n",
       "  <tbody>\n",
       "    <tr>\n",
       "      <th>0</th>\n",
       "      <td>18</td>\n",
       "      <td>NaN</td>\n",
       "      <td>1</td>\n",
       "      <td>False</td>\n",
       "      <td>1.0</td>\n",
       "      <td>0.0</td>\n",
       "      <td>0.0</td>\n",
       "      <td>0.0</td>\n",
       "      <td>0.0</td>\n",
       "      <td>0.0</td>\n",
       "      <td>...</td>\n",
       "      <td>0.0</td>\n",
       "      <td>0.0</td>\n",
       "      <td>1.0</td>\n",
       "      <td>0.0</td>\n",
       "      <td>0.0</td>\n",
       "      <td>0.0</td>\n",
       "      <td>0.0</td>\n",
       "      <td>0.0</td>\n",
       "      <td>0.0</td>\n",
       "      <td>0.0</td>\n",
       "    </tr>\n",
       "    <tr>\n",
       "      <th>1</th>\n",
       "      <td>15</td>\n",
       "      <td>0.0</td>\n",
       "      <td>2</td>\n",
       "      <td>False</td>\n",
       "      <td>1.0</td>\n",
       "      <td>0.0</td>\n",
       "      <td>0.0</td>\n",
       "      <td>0.0</td>\n",
       "      <td>0.0</td>\n",
       "      <td>0.0</td>\n",
       "      <td>...</td>\n",
       "      <td>0.0</td>\n",
       "      <td>0.0</td>\n",
       "      <td>1.0</td>\n",
       "      <td>0.0</td>\n",
       "      <td>0.0</td>\n",
       "      <td>0.0</td>\n",
       "      <td>0.0</td>\n",
       "      <td>0.0</td>\n",
       "      <td>0.0</td>\n",
       "      <td>0.0</td>\n",
       "    </tr>\n",
       "    <tr>\n",
       "      <th>2</th>\n",
       "      <td>16</td>\n",
       "      <td>1.0</td>\n",
       "      <td>3</td>\n",
       "      <td>False</td>\n",
       "      <td>1.0</td>\n",
       "      <td>0.0</td>\n",
       "      <td>0.0</td>\n",
       "      <td>0.0</td>\n",
       "      <td>0.0</td>\n",
       "      <td>0.0</td>\n",
       "      <td>...</td>\n",
       "      <td>0.0</td>\n",
       "      <td>0.0</td>\n",
       "      <td>1.0</td>\n",
       "      <td>0.0</td>\n",
       "      <td>0.0</td>\n",
       "      <td>0.0</td>\n",
       "      <td>0.0</td>\n",
       "      <td>0.0</td>\n",
       "      <td>0.0</td>\n",
       "      <td>0.0</td>\n",
       "    </tr>\n",
       "    <tr>\n",
       "      <th>3</th>\n",
       "      <td>22</td>\n",
       "      <td>0.0</td>\n",
       "      <td>4</td>\n",
       "      <td>False</td>\n",
       "      <td>1.0</td>\n",
       "      <td>0.0</td>\n",
       "      <td>0.0</td>\n",
       "      <td>0.0</td>\n",
       "      <td>0.0</td>\n",
       "      <td>0.0</td>\n",
       "      <td>...</td>\n",
       "      <td>0.0</td>\n",
       "      <td>0.0</td>\n",
       "      <td>1.0</td>\n",
       "      <td>0.0</td>\n",
       "      <td>0.0</td>\n",
       "      <td>0.0</td>\n",
       "      <td>0.0</td>\n",
       "      <td>0.0</td>\n",
       "      <td>0.0</td>\n",
       "      <td>0.0</td>\n",
       "    </tr>\n",
       "    <tr>\n",
       "      <th>4</th>\n",
       "      <td>0</td>\n",
       "      <td>1.0</td>\n",
       "      <td>5</td>\n",
       "      <td>False</td>\n",
       "      <td>0.0</td>\n",
       "      <td>1.0</td>\n",
       "      <td>0.0</td>\n",
       "      <td>0.0</td>\n",
       "      <td>0.0</td>\n",
       "      <td>0.0</td>\n",
       "      <td>...</td>\n",
       "      <td>0.0</td>\n",
       "      <td>0.0</td>\n",
       "      <td>1.0</td>\n",
       "      <td>0.0</td>\n",
       "      <td>0.0</td>\n",
       "      <td>0.0</td>\n",
       "      <td>0.0</td>\n",
       "      <td>0.0</td>\n",
       "      <td>0.0</td>\n",
       "      <td>0.0</td>\n",
       "    </tr>\n",
       "  </tbody>\n",
       "</table>\n",
       "<p>5 rows × 106 columns</p>\n",
       "</div>"
      ],
      "text/plain": [
       "   shot_distance  shot_made_flag  shot_id last moment  period_1  period_2  \\\n",
       "0             18             NaN        1       False       1.0       0.0   \n",
       "1             15             0.0        2       False       1.0       0.0   \n",
       "2             16             1.0        3       False       1.0       0.0   \n",
       "3             22             0.0        4       False       1.0       0.0   \n",
       "4              0             1.0        5       False       0.0       1.0   \n",
       "\n",
       "   period_3  period_4  period_5  period_6      ...       opponent_PHI  \\\n",
       "0       0.0       0.0       0.0       0.0      ...                0.0   \n",
       "1       0.0       0.0       0.0       0.0      ...                0.0   \n",
       "2       0.0       0.0       0.0       0.0      ...                0.0   \n",
       "3       0.0       0.0       0.0       0.0      ...                0.0   \n",
       "4       0.0       0.0       0.0       0.0      ...                0.0   \n",
       "\n",
       "   opponent_PHX  opponent_POR  opponent_SAC  opponent_SAS  opponent_SEA  \\\n",
       "0           0.0           1.0           0.0           0.0           0.0   \n",
       "1           0.0           1.0           0.0           0.0           0.0   \n",
       "2           0.0           1.0           0.0           0.0           0.0   \n",
       "3           0.0           1.0           0.0           0.0           0.0   \n",
       "4           0.0           1.0           0.0           0.0           0.0   \n",
       "\n",
       "   opponent_TOR  opponent_UTA  opponent_VAN  opponent_WAS  \n",
       "0           0.0           0.0           0.0           0.0  \n",
       "1           0.0           0.0           0.0           0.0  \n",
       "2           0.0           0.0           0.0           0.0  \n",
       "3           0.0           0.0           0.0           0.0  \n",
       "4           0.0           0.0           0.0           0.0  \n",
       "\n",
       "[5 rows x 106 columns]"
      ]
     },
     "execution_count": 6,
     "metadata": {},
     "output_type": "execute_result"
    }
   ],
   "source": [
    "data.drop([\n",
    "        'action_type',\n",
    "        'combined_shot_type',\n",
    "        'game_event_id',\n",
    "        'game_id',\n",
    "        'lat',\n",
    "        'lon',\n",
    "        'minutes_remaining',\n",
    "        'seconds_remaining',\n",
    "        'time_remaining',\n",
    "        'team_id',\n",
    "        'team_name',\n",
    "        'matchup',\n",
    "        'game_date',\n",
    "        'shot_type',\n",
    "        'playoffs',\n",
    "        'season',\n",
    "        # TODO: find out whether these two features matter or not\n",
    "        'loc_x',\n",
    "        'loc_y',\n",
    "    ], axis=1, inplace=True)\n",
    "\n",
    "dummies = [\n",
    "    'period',\n",
    "    'type',\n",
    "    'shot_zone_area',\n",
    "    'shot_zone_basic',\n",
    "    'shot_zone_range',\n",
    "    'opponent', #TODO: check if it's needed\n",
    "]\n",
    "dummie_counter = {}\n",
    "for dummy in dummies:\n",
    "    dummie_counter[dummy] = len(data[dummy].unique())\n",
    "data = pd.get_dummies(data, columns=dummies)\n",
    "data.head()"
   ]
  },
  {
   "cell_type": "code",
   "execution_count": 7,
   "metadata": {
    "collapsed": false
   },
   "outputs": [
    {
     "name": "stdout",
     "output_type": "stream",
     "text": [
      "train size: 25697\n",
      "test size:  5000\n",
      "(25697, 104)\n",
      "(25697,)\n"
     ]
    }
   ],
   "source": [
    "# split into train and test\n",
    "train = data[~data['shot_made_flag'].isnull()]\n",
    "test = data[data['shot_made_flag'].isnull()]\n",
    "print('train size: ' + str(len(train)))\n",
    "print('test size:  ' + str(len(test)))\n",
    "\n",
    "# prepare data for estimators\n",
    "target = 'shot_made_flag'\n",
    "features = data.columns.tolist()\n",
    "features.remove(target)\n",
    "features.remove('shot_id')\n",
    "X_test = test[features]\n",
    "X_train = train[features]\n",
    "y_train = train[[target]]['shot_made_flag'].values\n",
    "print(X_train.shape)\n",
    "print(y_train.shape)"
   ]
  },
  {
   "cell_type": "code",
   "execution_count": 8,
   "metadata": {
    "collapsed": true
   },
   "outputs": [],
   "source": [
    "def modelfit(alg, dtrain, predictors, useTrainCV=True, cv_folds=5, early_stopping_rounds=50):    \n",
    "    if useTrainCV:\n",
    "        xgb_param = alg.get_xgb_params()\n",
    "        xgtrain = xgb.DMatrix(dtrain[predictors].values, label=dtrain[target].values)\n",
    "        cvresult = xgb.cv(xgb_param, xgtrain, num_boost_round=alg.get_params()['n_estimators'], nfold=cv_folds,\n",
    "                          early_stopping_rounds=early_stopping_rounds, metrics=['logloss'])\n",
    "        alg.set_params(n_estimators=cvresult.shape[0])\n",
    "    \n",
    "    # Test params\n",
    "    X_train, X_valid, y_train, y_valid = train_test_split(dtrain[predictors], dtrain[target], test_size=0.2)\n",
    "    alg.fit(X_train, y_train, eval_metric='logloss')\n",
    "    y_pred = alg.predict_proba(X_valid)[:,1]\n",
    "    \n",
    "    result = log_loss(y_valid, y_pred)\n",
    "    print(result)\n",
    "    \n",
    "    feat_imp = pd.Series(alg.booster().get_fscore()).sort_values(ascending=False)\n",
    "    plt.figure(figsize=(20,10))\n",
    "    feat_imp.plot(kind='bar', title='Feature Importances')\n",
    "    plt.ylabel('Feature Importance Score')\n",
    "    \n",
    "    return result"
   ]
  },
  {
   "cell_type": "code",
   "execution_count": 22,
   "metadata": {
    "collapsed": false
   },
   "outputs": [
    {
     "name": "stderr",
     "output_type": "stream",
     "text": [
      "Will train until cv error hasn't decreased in 50 rounds.\n"
     ]
    },
    {
     "name": "stdout",
     "output_type": "stream",
     "text": [
      "0.603472916094\n"
     ]
    },
    {
     "data": {
      "text/plain": [
       "0.6034729160941007"
      ]
     },
     "execution_count": 22,
     "metadata": {},
     "output_type": "execute_result"
    },
    {
     "data": {
      "image/png": "[encoded data removed]",
      "text/plain": [
       "<matplotlib.figure.Figure at 0x7f34167cdcf8>"
      ]
     },
     "metadata": {},
     "output_type": "display_data"
    }
   ],
   "source": [
    "# fit, predict and generate submission file\n",
    "params = {\n",
    "    'base_score': 0.5, \n",
    "    'colsample_bylevel': 1,\n",
    "    'colsample_bytree': 0.8,\n",
    "    'learning_rate': 0.05,\n",
    "    'max_depth': 5,\n",
    "    'min_child_weight': 3,\n",
    "    'n_estimators': 140,\n",
    "    'objective': 'binary:logistic',\n",
    "    'seed': 21,\n",
    "    'silent': 0,\n",
    "    'subsample': 0.8,\n",
    "}\n",
    "\n",
    "clf = xgb.XGBClassifier()\n",
    "clf.set_params(**params)\n",
    "\n",
    "\n",
    "predictors = [x for x in X_train.columns if x not in target]\n",
    "modelfit(clf,train,predictors,useTrainCV=True, cv_folds=5, early_stopping_rounds=50)\n"
   ]
  },
  {
   "cell_type": "code",
   "execution_count": 21,
   "metadata": {
    "collapsed": false,
    "scrolled": true
   },
   "outputs": [
    {
     "data": {
      "text/plain": [
       "([mean: -0.61111, std: 0.00602, params: {'learning_rate': 0.05, 'min_child_weight': 3, 'max_depth': 3},\n",
       "  mean: -0.61111, std: 0.00594, params: {'learning_rate': 0.05, 'min_child_weight': 4, 'max_depth': 3},\n",
       "  mean: -0.61128, std: 0.00596, params: {'learning_rate': 0.05, 'min_child_weight': 5, 'max_depth': 3},\n",
       "  mean: -0.60916, std: 0.00694, params: {'learning_rate': 0.05, 'min_child_weight': 3, 'max_depth': 5},\n",
       "  mean: -0.60929, std: 0.00688, params: {'learning_rate': 0.05, 'min_child_weight': 4, 'max_depth': 5},\n",
       "  mean: -0.60966, std: 0.00674, params: {'learning_rate': 0.05, 'min_child_weight': 5, 'max_depth': 5},\n",
       "  mean: -0.61030, std: 0.00751, params: {'learning_rate': 0.05, 'min_child_weight': 3, 'max_depth': 7},\n",
       "  mean: -0.61058, std: 0.00737, params: {'learning_rate': 0.05, 'min_child_weight': 4, 'max_depth': 7},\n",
       "  mean: -0.61084, std: 0.00718, params: {'learning_rate': 0.05, 'min_child_weight': 5, 'max_depth': 7},\n",
       "  mean: -0.61279, std: 0.00828, params: {'learning_rate': 0.05, 'min_child_weight': 3, 'max_depth': 9},\n",
       "  mean: -0.61296, std: 0.00817, params: {'learning_rate': 0.05, 'min_child_weight': 4, 'max_depth': 9},\n",
       "  mean: -0.61330, std: 0.00777, params: {'learning_rate': 0.05, 'min_child_weight': 5, 'max_depth': 9},\n",
       "  mean: -0.60972, std: 0.00713, params: {'learning_rate': 0.1, 'min_child_weight': 3, 'max_depth': 3},\n",
       "  mean: -0.60992, std: 0.00689, params: {'learning_rate': 0.1, 'min_child_weight': 4, 'max_depth': 3},\n",
       "  mean: -0.61002, std: 0.00685, params: {'learning_rate': 0.1, 'min_child_weight': 5, 'max_depth': 3},\n",
       "  mean: -0.61027, std: 0.00783, params: {'learning_rate': 0.1, 'min_child_weight': 3, 'max_depth': 5},\n",
       "  mean: -0.61070, std: 0.00810, params: {'learning_rate': 0.1, 'min_child_weight': 4, 'max_depth': 5},\n",
       "  mean: -0.61107, std: 0.00769, params: {'learning_rate': 0.1, 'min_child_weight': 5, 'max_depth': 5},\n",
       "  mean: -0.61494, std: 0.00906, params: {'learning_rate': 0.1, 'min_child_weight': 3, 'max_depth': 7},\n",
       "  mean: -0.61487, std: 0.00836, params: {'learning_rate': 0.1, 'min_child_weight': 4, 'max_depth': 7},\n",
       "  mean: -0.61525, std: 0.00814, params: {'learning_rate': 0.1, 'min_child_weight': 5, 'max_depth': 7},\n",
       "  mean: -0.62028, std: 0.00960, params: {'learning_rate': 0.1, 'min_child_weight': 3, 'max_depth': 9},\n",
       "  mean: -0.62024, std: 0.00962, params: {'learning_rate': 0.1, 'min_child_weight': 4, 'max_depth': 9},\n",
       "  mean: -0.62025, std: 0.00907, params: {'learning_rate': 0.1, 'min_child_weight': 5, 'max_depth': 9},\n",
       "  mean: -0.60969, std: 0.00757, params: {'learning_rate': 0.15, 'min_child_weight': 3, 'max_depth': 3},\n",
       "  mean: -0.60995, std: 0.00754, params: {'learning_rate': 0.15, 'min_child_weight': 4, 'max_depth': 3},\n",
       "  mean: -0.61044, std: 0.00712, params: {'learning_rate': 0.15, 'min_child_weight': 5, 'max_depth': 3},\n",
       "  mean: -0.61307, std: 0.00857, params: {'learning_rate': 0.15, 'min_child_weight': 3, 'max_depth': 5},\n",
       "  mean: -0.61371, std: 0.00845, params: {'learning_rate': 0.15, 'min_child_weight': 4, 'max_depth': 5},\n",
       "  mean: -0.61390, std: 0.00831, params: {'learning_rate': 0.15, 'min_child_weight': 5, 'max_depth': 5},\n",
       "  mean: -0.62111, std: 0.00940, params: {'learning_rate': 0.15, 'min_child_weight': 3, 'max_depth': 7},\n",
       "  mean: -0.62084, std: 0.00991, params: {'learning_rate': 0.15, 'min_child_weight': 4, 'max_depth': 7},\n",
       "  mean: -0.62055, std: 0.00865, params: {'learning_rate': 0.15, 'min_child_weight': 5, 'max_depth': 7},\n",
       "  mean: -0.62975, std: 0.01128, params: {'learning_rate': 0.15, 'min_child_weight': 3, 'max_depth': 9},\n",
       "  mean: -0.62853, std: 0.01053, params: {'learning_rate': 0.15, 'min_child_weight': 4, 'max_depth': 9},\n",
       "  mean: -0.62815, std: 0.01006, params: {'learning_rate': 0.15, 'min_child_weight': 5, 'max_depth': 9},\n",
       "  mean: -0.61065, std: 0.00792, params: {'learning_rate': 0.2, 'min_child_weight': 3, 'max_depth': 3},\n",
       "  mean: -0.61070, std: 0.00785, params: {'learning_rate': 0.2, 'min_child_weight': 4, 'max_depth': 3},\n",
       "  mean: -0.61121, std: 0.00766, params: {'learning_rate': 0.2, 'min_child_weight': 5, 'max_depth': 3},\n",
       "  mean: -0.61601, std: 0.00922, params: {'learning_rate': 0.2, 'min_child_weight': 3, 'max_depth': 5},\n",
       "  mean: -0.61701, std: 0.00983, params: {'learning_rate': 0.2, 'min_child_weight': 4, 'max_depth': 5},\n",
       "  mean: -0.61674, std: 0.00849, params: {'learning_rate': 0.2, 'min_child_weight': 5, 'max_depth': 5},\n",
       "  mean: -0.62730, std: 0.01159, params: {'learning_rate': 0.2, 'min_child_weight': 3, 'max_depth': 7},\n",
       "  mean: -0.62582, std: 0.01027, params: {'learning_rate': 0.2, 'min_child_weight': 4, 'max_depth': 7},\n",
       "  mean: -0.62570, std: 0.00933, params: {'learning_rate': 0.2, 'min_child_weight': 5, 'max_depth': 7},\n",
       "  mean: -0.63918, std: 0.01364, params: {'learning_rate': 0.2, 'min_child_weight': 3, 'max_depth': 9},\n",
       "  mean: -0.63497, std: 0.01169, params: {'learning_rate': 0.2, 'min_child_weight': 4, 'max_depth': 9},\n",
       "  mean: -0.63420, std: 0.01000, params: {'learning_rate': 0.2, 'min_child_weight': 5, 'max_depth': 9}],\n",
       " {'learning_rate': 0.05, 'max_depth': 5, 'min_child_weight': 3},\n",
       " -0.60915621719167323)"
      ]
     },
     "execution_count": 21,
     "metadata": {},
     "output_type": "execute_result"
    }
   ],
   "source": [
    "param_test1 = [{\n",
    " 'max_depth':[3,5,7,9],\n",
    " 'min_child_weight':[3,4,5],\n",
    "    'learning_rate':[0.05,0.1,0.15,0.2]\n",
    "}]\n",
    "gsearch1 = GridSearchCV(estimator = xgb.XGBClassifier(learning_rate =0.1, n_estimators=140, max_depth=5,\n",
    " min_child_weight=1, gamma=0, subsample=0.8, colsample_bytree=0.8,\n",
    " objective= 'binary:logistic', nthread=4, scale_pos_weight=1, seed=27), \n",
    "                        param_grid = param_test1, scoring='log_loss',n_jobs=4,iid=False, cv=5)\n",
    "gsearch1.fit(train[predictors],train[target])\n",
    "gsearch1.grid_scores_, gsearch1.best_params_, gsearch1.best_score_"
   ]
  },
  {
   "cell_type": "code",
   "execution_count": 23,
   "metadata": {
    "collapsed": false
   },
   "outputs": [
    {
     "name": "stderr",
     "output_type": "stream",
     "text": [
      "/home/cai/anaconda3/lib/python3.5/site-packages/pandas/core/generic.py:2701: SettingWithCopyWarning: \n",
      "A value is trying to be set on a copy of a slice from a DataFrame.\n",
      "Try using .loc[row_indexer,col_indexer] = value instead\n",
      "\n",
      "See the caveats in the documentation: http://pandas.pydata.org/pandas-docs/stable/indexing.html#indexing-view-versus-copy\n",
      "  self[name] = value\n"
     ]
    }
   ],
   "source": [
    "\n",
    "clf.fit(X_train, y_train)\n",
    "\n",
    "test.shot_made_flag = [i[1] for i in clf.predict_proba(X_test)]\n",
    "\n",
    "test[['shot_id', 'shot_made_flag']].to_csv('sub.csv', index=False)\n",
    "predictions_train = clf.predict_proba(X_train)\n",
    "features_train = pd.DataFrame({'shot_made_flag': predictions_train[:, 1]})\n",
    "features_train[['shot_made_flag']].to_csv('features_train.csv', index=False)\n"
   ]
  },
  {
   "cell_type": "code",
   "execution_count": null,
   "metadata": {
    "collapsed": true
   },
   "outputs": [],
   "source": []
  }
 ],
 "metadata": {
  "kernelspec": {
   "display_name": "Python 3",
   "language": "python",
   "name": "python3"
  },
  "language_info": {
   "codemirror_mode": {
    "name": "ipython",
    "version": 3
   },
   "file_extension": ".py",
   "mimetype": "text/x-python",
   "name": "python",
   "nbconvert_exporter": "python",
   "pygments_lexer": "ipython3",
   "version": "3.5.1"
  }
 },
 "nbformat": 4,
 "nbformat_minor": 0
}
