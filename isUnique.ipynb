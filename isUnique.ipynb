{
  "nbformat": 4,
  "nbformat_minor": 0,
  "metadata": {
    "colab": {
      "name": "isUnique.ipynb",
      "provenance": [],
      "authorship_tag": "ABX9TyOogB4kk1sS+npbjmhfaTu2",
      "include_colab_link": true
    },
    "kernelspec": {
      "name": "python3",
      "display_name": "Python 3"
    }
  },
  "cells": [
    {
      "cell_type": "markdown",
      "metadata": {
        "id": "view-in-github",
        "colab_type": "text"
      },
      "source": [
        "<a href=\"https://colab.research.google.com/github/sweetpand/Algorithms/blob/master/isUnique.ipynb\" target=\"_parent\"><img src=\"https://colab.research.google.com/assets/colab-badge.svg\" alt=\"Open In Colab\"/></a>"
      ]
    },
    {
      "cell_type": "code",
      "metadata": {
        "id": "k1EL7k3q82gB",
        "colab_type": "code",
        "colab": {}
      },
      "source": [
        "unique_str = 'AbCDefG'\n",
        "non_unique_str = 'non Unique STR'"
      ],
      "execution_count": 0,
      "outputs": []
    },
    {
      "cell_type": "code",
      "metadata": {
        "id": "N_3RCuy09qdT",
        "colab_type": "code",
        "colab": {}
      },
      "source": [
        "def normalize(input_str):\n",
        "  input_str = input_str.replace(' ', '')\n",
        "  return input_str.lower()"
      ],
      "execution_count": 0,
      "outputs": []
    },
    {
      "cell_type": "code",
      "metadata": {
        "id": "cEPlr0Md-XHn",
        "colab_type": "code",
        "colab": {}
      },
      "source": [
        "def is_unique_1(input_str):\n",
        "  d = dict()\n",
        "  for i in input_str:\n",
        "    if i in d:\n",
        "      return False\n",
        "    else:\n",
        "      d[i] = 1\n",
        "  return True"
      ],
      "execution_count": 0,
      "outputs": []
    },
    {
      "cell_type": "code",
      "metadata": {
        "id": "-_xstDk8ajuZ",
        "colab_type": "code",
        "colab": {}
      },
      "source": [
        "def is_unique_2(input_str):\n",
        "  return len(set(input_str)) == len(input_str)"
      ],
      "execution_count": 0,
      "outputs": []
    },
    {
      "cell_type": "code",
      "metadata": {
        "id": "3J4PEgAyapMQ",
        "colab_type": "code",
        "colab": {}
      },
      "source": [
        "def is_unique_3(input_str):\n",
        "  alpha = 'abcdeuryfrgdkfdofjior'\n",
        "\n",
        "  for i in input_str:\n",
        "    if i in alpha:\n",
        "      alpha = alpha.replace(i, \"\")\n",
        "    else:\n",
        "      return False\n",
        "  return True\n"
      ],
      "execution_count": 0,
      "outputs": []
    },
    {
      "cell_type": "code",
      "metadata": {
        "id": "zn807MOhauCU",
        "colab_type": "code",
        "colab": {}
      },
      "source": [
        "unique_str = normalize(unique_str)\n",
        "non_unique_str = normalize(non_unique_str)"
      ],
      "execution_count": 0,
      "outputs": []
    },
    {
      "cell_type": "code",
      "metadata": {
        "id": "bBAGNxH0bAim",
        "colab_type": "code",
        "colab": {
          "base_uri": "https://localhost:8080/",
          "height": 51
        },
        "outputId": "1f10fae7-7e29-4306-b074-9a8fc7bcaa42"
      },
      "source": [
        "print(unique_str)\n",
        "print(non_unique_str)"
      ],
      "execution_count": 10,
      "outputs": [
        {
          "output_type": "stream",
          "text": [
            "abcdefg\n",
            "nonuniquestr\n"
          ],
          "name": "stdout"
        }
      ]
    },
    {
      "cell_type": "code",
      "metadata": {
        "id": "ptiIbPCXbHed",
        "colab_type": "code",
        "colab": {
          "base_uri": "https://localhost:8080/",
          "height": 51
        },
        "outputId": "51a67f57-987b-4117-9e2a-2f579ccd13a4"
      },
      "source": [
        "print(is_unique_1(unique_str))\n",
        "print(is_unique_1(non_unique_str))"
      ],
      "execution_count": 11,
      "outputs": [
        {
          "output_type": "stream",
          "text": [
            "True\n",
            "False\n"
          ],
          "name": "stdout"
        }
      ]
    },
    {
      "cell_type": "code",
      "metadata": {
        "id": "zxgqz5hpbTOO",
        "colab_type": "code",
        "colab": {
          "base_uri": "https://localhost:8080/",
          "height": 51
        },
        "outputId": "0c908abe-2d48-4898-c552-e9f5230c2ce3"
      },
      "source": [
        "print(is_unique_2(unique_str))\n",
        "print(is_unique_2(non_unique_str))"
      ],
      "execution_count": 12,
      "outputs": [
        {
          "output_type": "stream",
          "text": [
            "True\n",
            "False\n"
          ],
          "name": "stdout"
        }
      ]
    },
    {
      "cell_type": "code",
      "metadata": {
        "id": "JBq9l79tbWis",
        "colab_type": "code",
        "colab": {
          "base_uri": "https://localhost:8080/",
          "height": 51
        },
        "outputId": "ccdc8bab-61e4-4b99-c816-0833be7d7b9f"
      },
      "source": [
        "print(is_unique_3(unique_str))\n",
        "print(is_unique_3(non_unique_str))"
      ],
      "execution_count": 13,
      "outputs": [
        {
          "output_type": "stream",
          "text": [
            "True\n",
            "False\n"
          ],
          "name": "stdout"
        }
      ]
    }
  ]
}