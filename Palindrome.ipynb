{
  "nbformat": 4,
  "nbformat_minor": 0,
  "metadata": {
    "colab": {
      "name": "Palindrome.ipynb",
      "provenance": [],
      "authorship_tag": "ABX9TyP6x8rCjSK/quyRK8DZNnAI",
      "include_colab_link": true
    },
    "kernelspec": {
      "name": "python3",
      "display_name": "Python 3"
    }
  },
  "cells": [
    {
      "cell_type": "markdown",
      "metadata": {
        "id": "view-in-github",
        "colab_type": "text"
      },
      "source": [
        "<a href=\"https://colab.research.google.com/github/sweetpand/Algorithms/blob/master/Palindrome.ipynb\" target=\"_parent\"><img src=\"https://colab.research.google.com/assets/colab-badge.svg\" alt=\"Open In Colab\"/></a>"
      ]
    },
    {
      "cell_type": "code",
      "metadata": {
        "id": "HeinoF8morQa",
        "colab_type": "code",
        "colab": {}
      },
      "source": [
        "s = \"Was it a cat I saw?\""
      ],
      "execution_count": 0,
      "outputs": []
    },
    {
      "cell_type": "code",
      "metadata": {
        "id": "8lENcSCnpnQs",
        "colab_type": "code",
        "colab": {}
      },
      "source": [
        "s = ''.join([i for i in s if i.isalpha()]).replace(\" \", \"\").lower()"
      ],
      "execution_count": 0,
      "outputs": []
    },
    {
      "cell_type": "code",
      "metadata": {
        "id": "pOoTXiPUpzVM",
        "colab_type": "code",
        "colab": {
          "base_uri": "https://localhost:8080/",
          "height": 34
        },
        "outputId": "569984e5-bca4-4c62-fd9c-d5aab92b0dc4"
      },
      "source": [
        "print(s==s[::-1])"
      ],
      "execution_count": 3,
      "outputs": [
        {
          "output_type": "stream",
          "text": [
            "True\n"
          ],
          "name": "stdout"
        }
      ]
    },
    {
      "cell_type": "code",
      "metadata": {
        "id": "PZ-Vc7KZp22a",
        "colab_type": "code",
        "colab": {}
      },
      "source": [
        "def is_palindrome(s):\n",
        "  i = 0\n",
        "  j = len(s) - 1\n",
        "\n",
        "  while i < j:\n",
        "    while not s[i].isalnum() and i < j:\n",
        "      i += 1\n",
        "    while not s[j].isalnum() and i < j:\n",
        "      j -= 1\n",
        "    if  s[i].lower() != s[j].lower():\n",
        "      return False\n",
        "    i += 1\n",
        "    j -= 1\n",
        "  return True\n",
        "\n",
        "    "
      ],
      "execution_count": 0,
      "outputs": []
    },
    {
      "cell_type": "code",
      "metadata": {
        "id": "FzslvhbAqaV7",
        "colab_type": "code",
        "colab": {
          "base_uri": "https://localhost:8080/",
          "height": 34
        },
        "outputId": "885bce9e-6237-435d-fcb3-631d38368797"
      },
      "source": [
        "print(is_palindrome(s))"
      ],
      "execution_count": 5,
      "outputs": [
        {
          "output_type": "stream",
          "text": [
            "True\n"
          ],
          "name": "stdout"
        }
      ]
    }
  ]
}