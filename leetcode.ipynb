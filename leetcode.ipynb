{
  "nbformat": 4,
  "nbformat_minor": 0,
  "metadata": {
    "colab": {
      "name": "leetcode.ipynb",
      "provenance": [],
      "authorship_tag": "ABX9TyPdUsH0fuiExDH6Ih0s1+J/",
      "include_colab_link": true
    },
    "kernelspec": {
      "name": "python3",
      "display_name": "Python 3"
    }
  },
  "cells": [
    {
      "cell_type": "markdown",
      "metadata": {
        "id": "view-in-github",
        "colab_type": "text"
      },
      "source": [
        "<a href=\"https://colab.research.google.com/github/sweetpand/Algorithms/blob/master/leetcode.ipynb\" target=\"_parent\"><img src=\"https://colab.research.google.com/assets/colab-badge.svg\" alt=\"Open In Colab\"/></a>"
      ]
    },
    {
      "cell_type": "code",
      "metadata": {
        "id": "QJBvd0NT0Akb",
        "colab_type": "code",
        "colab": {}
      },
      "source": [
        "intervals = [[1,3],[2,6],[8,10],[15,18]]"
      ],
      "execution_count": 0,
      "outputs": []
    },
    {
      "cell_type": "code",
      "metadata": {
        "id": "J08tO_GG0RaE",
        "colab_type": "code",
        "colab": {}
      },
      "source": [
        "def merge(intervals):\n",
        "    out = []\n",
        "    for i in sorted(intervals, key=lambda i: i.start):\n",
        "        if out and i.start <= out[-1].end:\n",
        "            out[-1].end = max(out[-1].end, i.end)\n",
        "        else:\n",
        "            out += i,\n",
        "    return out"
      ],
      "execution_count": 0,
      "outputs": []
    },
    {
      "cell_type": "code",
      "metadata": {
        "id": "aLV2E1Ll0wPA",
        "colab_type": "code",
        "colab": {}
      },
      "source": [
        "class Solution(object):\n",
        "    def merge(self, intervals):\n",
        "        \"\"\"\n",
        "        :type intervals: List[Interval]\n",
        "        :rtype: List[Interval]\n",
        "        \"\"\"\n",
        "        intervals.sort(key = lambda x: x.start)\n",
        "        i = 1\n",
        "        while i < len(intervals):\n",
        "            if intervals[i].start <= intervals[i-1].end:\n",
        "                intervals[i-1].end = max(intervals[i-1].end, intervals[i].end)\n",
        "                intervals.pop(i)\n",
        "            else:\n",
        "                i += 1\n",
        "        return intervals"
      ],
      "execution_count": 0,
      "outputs": []
    },
    {
      "cell_type": "code",
      "metadata": {
        "id": "mkwXzi531FYp",
        "colab_type": "code",
        "colab": {}
      },
      "source": [
        "from typing import List\n",
        "class Solution:\n",
        "    def singleNumber(self, nums: List[int]) -> int:\n",
        "        return 2*sum(set(nums-sum(nums)))\n"
      ],
      "execution_count": 0,
      "outputs": []
    },
    {
      "cell_type": "code",
      "metadata": {
        "id": "m_lx4l791ySH",
        "colab_type": "code",
        "colab": {}
      },
      "source": [
        ""
      ],
      "execution_count": 0,
      "outputs": []
    },
    {
      "cell_type": "code",
      "metadata": {
        "id": "IGyTZ9rr1NxF",
        "colab_type": "code",
        "colab": {}
      },
      "source": [
        "\n",
        "def containsDuplicate(self, nums):\n",
        "  return not len(set(nums)) == len(nums)"
      ],
      "execution_count": 0,
      "outputs": []
    },
    {
      "cell_type": "code",
      "metadata": {
        "id": "4Mq7U6vu2SIM",
        "colab_type": "code",
        "colab": {}
      },
      "source": [
        "def containsNearbyDuplicate(self,nums:List[int], k:int) -> bool:\n",
        "  d = {}\n",
        "  t = 0\n",
        "  for i in range(len(nums)):\n",
        "    t = nums\n",
        "    if not t in d or i - d[t] > k:\n",
        "      d[t] = i\n",
        "    else:\n",
        "      return True\n",
        "    return False"
      ],
      "execution_count": 0,
      "outputs": []
    }
  ]
}