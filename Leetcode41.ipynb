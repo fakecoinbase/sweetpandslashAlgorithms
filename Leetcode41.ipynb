{
  "nbformat": 4,
  "nbformat_minor": 0,
  "metadata": {
    "colab": {
      "name": "Leetcode41.ipynb",
      "provenance": [],
      "authorship_tag": "ABX9TyOmX59oeE+VK/lnlrUEeJkq",
      "include_colab_link": true
    },
    "kernelspec": {
      "name": "python3",
      "display_name": "Python 3"
    }
  },
  "cells": [
    {
      "cell_type": "markdown",
      "metadata": {
        "id": "view-in-github",
        "colab_type": "text"
      },
      "source": [
        "<a href=\"https://colab.research.google.com/github/sweetpand/Algorithms/blob/master/Leetcode41.ipynb\" target=\"_parent\"><img src=\"https://colab.research.google.com/assets/colab-badge.svg\" alt=\"Open In Colab\"/></a>"
      ]
    },
    {
      "cell_type": "markdown",
      "metadata": {
        "id": "uR5DBGprzOGi",
        "colab_type": "text"
      },
      "source": [
        "Idea: change nums[n-1] to float('inf') for all n in nums if 1 <= n <= len(nums), meaning that we have seen n in nums. Then we traverse nums once more, and find the first idx such that nums[idx] != float('inf'), then idx+1 will be the first missing positive in nums. If no such idx exists, it means that we have seen 1, 2, ..., len(nums) in nums, hence the first missing positive is len(nums)+1.\n",
        "\n",
        "Time complexity: O(n), space complexity: O(1)."
      ]
    },
    {
      "cell_type": "code",
      "metadata": {
        "id": "s5ug0afDzC32",
        "colab_type": "code",
        "colab": {}
      },
      "source": [
        "class Solution:\n",
        "    def firstMissingPositive(self, nums):\n",
        "        \"\"\"\n",
        "        :type nums: List[int]\n",
        "        :rtype: int\n",
        "        \"\"\"\n",
        "        for i, n in enumerate(nums):\n",
        "            if n < 0:\n",
        "                continue\n",
        "            else:\n",
        "                while n <= len(nums) and n > 0:\n",
        "                    tmp = nums[n-1]\n",
        "                    nums[n-1] = float('inf')\n",
        "                    n = tmp\n",
        "        for i in range(len(nums)):\n",
        "            if nums[i] != float('inf'):\n",
        "                return i+1\n",
        "            \n",
        "        return len(nums)+1"
      ],
      "execution_count": 0,
      "outputs": []
    }
  ]
}