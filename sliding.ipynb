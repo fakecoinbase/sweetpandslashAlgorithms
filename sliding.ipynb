{
  "nbformat": 4,
  "nbformat_minor": 0,
  "metadata": {
    "colab": {
      "name": "sliding.ipynb",
      "provenance": [],
      "authorship_tag": "ABX9TyNruRGNNEXRCBveGuPplc2I",
      "include_colab_link": true
    },
    "kernelspec": {
      "name": "python3",
      "display_name": "Python 3"
    }
  },
  "cells": [
    {
      "cell_type": "markdown",
      "metadata": {
        "id": "view-in-github",
        "colab_type": "text"
      },
      "source": [
        "<a href=\"https://colab.research.google.com/github/sweetpand/Algorithms/blob/master/sliding.ipynb\" target=\"_parent\"><img src=\"https://colab.research.google.com/assets/colab-badge.svg\" alt=\"Open In Colab\"/></a>"
      ]
    },
    {
      "cell_type": "code",
      "metadata": {
        "id": "m1bMItSIpmkf",
        "colab_type": "code",
        "colab": {
          "base_uri": "https://localhost:8080/",
          "height": 34
        },
        "outputId": "9bb9d6b1-fad0-4a2b-b377-dad4d338e29b"
      },
      "source": [
        "def solution(arr):\n",
        "    res=count = 0\n",
        "    flag = False\n",
        "    for i in arr:\n",
        "        if i == 'R':\n",
        "            flag = True\n",
        "            res += count\n",
        "            count = 0\n",
        "        else:\n",
        "            if flag:\n",
        "                count += 1\n",
        "    return res\n",
        "    \n",
        "print(solution('WRRWWR'))\n"
      ],
      "execution_count": 1,
      "outputs": [
        {
          "output_type": "stream",
          "text": [
            "2\n"
          ],
          "name": "stdout"
        }
      ]
    },
    {
      "cell_type": "code",
      "metadata": {
        "id": "wyKid8vSr9kD",
        "colab_type": "code",
        "colab": {}
      },
      "source": [
        "from typing import List"
      ],
      "execution_count": 0,
      "outputs": []
    },
    {
      "cell_type": "code",
      "metadata": {
        "id": "KOoT1bhpsEzz",
        "colab_type": "code",
        "colab": {}
      },
      "source": [
        "nums = [1,3,-1,-3,5,3,6,7]"
      ],
      "execution_count": 0,
      "outputs": []
    },
    {
      "cell_type": "code",
      "metadata": {
        "id": "Dv37yIbosS2m",
        "colab_type": "code",
        "colab": {}
      },
      "source": [
        "k = 3"
      ],
      "execution_count": 0,
      "outputs": []
    },
    {
      "cell_type": "code",
      "metadata": {
        "id": "acPHYsWTrO5C",
        "colab_type": "code",
        "colab": {}
      },
      "source": [
        "def maxSlidingWindow(self, nums: List[int], k: int) -> List[int]:\n",
        "    queue = collections.deque()\n",
        "    res = []\n",
        "    \n",
        "    for i in range(len(nums)):\n",
        "        \n",
        "        if i >= k and i - k == queue[0]:\n",
        "            queue.popleft()\n",
        "        \n",
        "        while queue and nums[i] > nums[queue[-1]]:\n",
        "            queue.pop()\n",
        "        \n",
        "        queue.append(i)\n",
        "        \n",
        "        if i >= k - 1:\n",
        "            res.append(nums[queue[0]])\n",
        "        \n",
        "    return res"
      ],
      "execution_count": 0,
      "outputs": []
    }
  ]
}