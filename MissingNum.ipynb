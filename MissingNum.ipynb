{
  "nbformat": 4,
  "nbformat_minor": 0,
  "metadata": {
    "colab": {
      "name": "MissingNum.ipynb",
      "provenance": [],
      "authorship_tag": "ABX9TyNg+Or623Pi0f/UiyonaryB",
      "include_colab_link": true
    },
    "kernelspec": {
      "name": "python3",
      "display_name": "Python 3"
    }
  },
  "cells": [
    {
      "cell_type": "markdown",
      "metadata": {
        "id": "view-in-github",
        "colab_type": "text"
      },
      "source": [
        "<a href=\"https://colab.research.google.com/github/sweetpand/Algorithms/blob/master/MissingNum.ipynb\" target=\"_parent\"><img src=\"https://colab.research.google.com/assets/colab-badge.svg\" alt=\"Open In Colab\"/></a>"
      ]
    },
    {
      "cell_type": "code",
      "metadata": {
        "id": "deqDqC7aR-EQ",
        "colab_type": "code",
        "colab": {}
      },
      "source": [
        "#Sum of first N numbers less the sum of array is our answer.\n",
        "def missingNumber(self, nums):\n",
        "    n = len(nums)\n",
        "    sum = (n+0)*(n+1)/2\n",
        "    for i in nums:\n",
        "        sum = sum-i\n",
        "    return sum"
      ],
      "execution_count": 0,
      "outputs": []
    },
    {
      "cell_type": "code",
      "metadata": {
        "id": "QdKEPYWfQJWI",
        "colab_type": "code",
        "colab": {}
      },
      "source": [
        "#These only use O(1) extra space.\n",
        "def missingNumber(self, nums):\n",
        "    n = len(nums)\n",
        "    return n * (n+1) / 2 - sum(nums)"
      ],
      "execution_count": 0,
      "outputs": []
    },
    {
      "cell_type": "code",
      "metadata": {
        "id": "uvzGl7XTQP_P",
        "colab_type": "code",
        "colab": {}
      },
      "source": [
        "#These use O(n) extra space.\n",
        "def missingNumber(self, nums):\n",
        "    return reduce(operator.xor, nums + range(len(nums)+1))"
      ],
      "execution_count": 0,
      "outputs": []
    },
    {
      "cell_type": "code",
      "metadata": {
        "id": "kMV65caUQqsB",
        "colab_type": "code",
        "colab": {}
      },
      "source": [
        "#Xoring 0..n results in [n, 1, n+1, 0][n % 4]. Xor-ing with O(1) space\n",
        "def missingNumber(self, nums):\n",
        "    n = len(nums)\n",
        "    return reduce(operator.xor, nums) ^ [n, 1, n+1, 0][n % 4]"
      ],
      "execution_count": 0,
      "outputs": []
    },
    {
      "cell_type": "code",
      "metadata": {
        "id": "3U7cNiZgQ76C",
        "colab_type": "code",
        "colab": {}
      },
      "source": [
        "def missingNumber(self, nums):\n",
        "    return (set(range(len(nums)+1)) - set(nums)).pop()"
      ],
      "execution_count": 0,
      "outputs": []
    },
    {
      "cell_type": "code",
      "metadata": {
        "id": "BJ98XGXzRFyv",
        "colab_type": "code",
        "colab": {}
      },
      "source": [
        "# bit manipulation\n",
        "#There're n+1 numbers to take: 0, 1, 2, 3, ..., n. \n",
        "#But there're only n numbers taken in the array: 0, 1, 2, ..., k-1, k+1, ..., n. \n",
        "#When the XOR operator ^ is used in res ^= i and res ^= num, two same integers would get the result of 0 (x^x = 0). \n",
        "#Finally, the res would only contain the number that couldn't find its pair, which is the missing number.\n",
        "\n",
        "def missingNumber1(self, nums):\n",
        "    res = 0\n",
        "    for i in xrange(len(nums)+1):\n",
        "        res ^= i\n",
        "    for num in nums:\n",
        "        res ^= num\n",
        "    return res\n",
        "  "
      ],
      "execution_count": 0,
      "outputs": []
    },
    {
      "cell_type": "code",
      "metadata": {
        "id": "ZR5hNj6oRbxK",
        "colab_type": "code",
        "colab": {}
      },
      "source": [
        "# math  \n",
        "def missingNumber(self, nums):\n",
        "    return len(nums)*(len(nums)+1)/2 - sum(nums)"
      ],
      "execution_count": 0,
      "outputs": []
    }
  ]
}