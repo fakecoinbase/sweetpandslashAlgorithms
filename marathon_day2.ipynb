{
  "nbformat": 4,
  "nbformat_minor": 0,
  "metadata": {
    "colab": {
      "name": "marathon_day2.ipynb",
      "provenance": [],
      "authorship_tag": "ABX9TyNah8lGqIqLPVbg2Riz0OOS",
      "include_colab_link": true
    },
    "kernelspec": {
      "name": "python3",
      "display_name": "Python 3"
    }
  },
  "cells": [
    {
      "cell_type": "markdown",
      "metadata": {
        "id": "view-in-github",
        "colab_type": "text"
      },
      "source": [
        "<a href=\"https://colab.research.google.com/github/sweetpand/Algorithms/blob/master/marathon_day2.ipynb\" target=\"_parent\"><img src=\"https://colab.research.google.com/assets/colab-badge.svg\" alt=\"Open In Colab\"/></a>"
      ]
    },
    {
      "cell_type": "code",
      "metadata": {
        "id": "qyLWvSiNVoP8",
        "colab_type": "code",
        "colab": {}
      },
      "source": [
        "Task1 Write a Python Program to Check Leap Year or by using the \n",
        "If Statement, Nested If Statement, and Elif Statement in Python with example.         \n",
        "Напишите программу и логику которая проверяет высокосный ли год.  \n",
        "Example: 1)Input:2000 Output: Year is a leap year. \n",
        "2) Input: 1999, Output: Year isn't a leap year."
      ],
      "execution_count": 0,
      "outputs": []
    },
    {
      "cell_type": "code",
      "metadata": {
        "id": "LqJg6PVfW76b",
        "colab_type": "code",
        "colab": {
          "base_uri": "https://localhost:8080/",
          "height": 51
        },
        "outputId": "610507a9-d8d3-48b3-c86f-e4de83bc7580"
      },
      "source": [
        "year = int(input('Enter the year: '))\n",
        "if (year % 4 == 0 ) and (year % 100 != 0) or (year % 400 == 0):\n",
        "    print(year,'Year is leap')\n",
        "else:\n",
        "    print(year, 'Year is not leap')"
      ],
      "execution_count": 2,
      "outputs": [
        {
          "output_type": "stream",
          "text": [
            "Enter the year: 2013\n",
            "2013 Year is not leap\n"
          ],
          "name": "stdout"
        }
      ]
    },
    {
      "cell_type": "markdown",
      "metadata": {
        "id": "nAkMEdu6XGVd",
        "colab_type": "text"
      },
      "source": [
        "Task2 Write a Python program that accepts an integer (n) and computes the value of n*nn*nnn.  Sample value of n is 5\n",
        "Expected Result : 152625           Напишите программу на питоне который принимает integer(n) и вычисляет его по формуле n*nn*nnn.\n"
      ]
    },
    {
      "cell_type": "code",
      "metadata": {
        "id": "FZfwOAmYXMWz",
        "colab_type": "code",
        "colab": {
          "base_uri": "https://localhost:8080/",
          "height": 51
        },
        "outputId": "6e91f2ee-f3e4-4788-dc2e-a6dba71c5de2"
      },
      "source": [
        "a = int(input('Enter the number '))\n",
        "n1 = int( \"%s\" % a )\n",
        "n2 = int( \"%s%s\" % (a,a) )\n",
        "n3 = int( \"%s%s%s\" % (a,a,a) )\n",
        "print (n1*n2*n3)"
      ],
      "execution_count": 4,
      "outputs": [
        {
          "output_type": "stream",
          "text": [
            "Enter the number 5\n",
            "152625\n"
          ],
          "name": "stdout"
        }
      ]
    },
    {
      "cell_type": "markdown",
      "metadata": {
        "id": "haooRB6qZWax",
        "colab_type": "text"
      },
      "source": [
        "Task3 Write a Python program to find whether a given number (accept from the user) is even or odd, print out an appropriate message."
      ]
    },
    {
      "cell_type": "code",
      "metadata": {
        "id": "JnbO_eSeZW93",
        "colab_type": "code",
        "colab": {
          "base_uri": "https://localhost:8080/",
          "height": 51
        },
        "outputId": "ab949fab-226b-4baa-e833-a2c3642d9aed"
      },
      "source": [
        "num = int(input(\"Enter a number: \"))\n",
        "mod = num % 2\n",
        "if mod > 0:\n",
        "    print(\"This is an odd number.\")\n",
        "else:\n",
        "    print(\"This is an even number.\")"
      ],
      "execution_count": 6,
      "outputs": [
        {
          "output_type": "stream",
          "text": [
            "Enter a number: 4\n",
            "This is an even number.\n"
          ],
          "name": "stdout"
        }
      ]
    },
    {
      "cell_type": "markdown",
      "metadata": {
        "id": "cTZHtKUwe2Dy",
        "colab_type": "text"
      },
      "source": [
        "1.Выполнить логические побитовые операции «И», «ИЛИ» и др. над числами 5 и 6. Выполнить над числом 5 побитовый сдвиг вправо и влево на два знака. Объяснить полученный результат."
      ]
    },
    {
      "cell_type": "code",
      "metadata": {
        "id": "eY6rNdPTbLqU",
        "colab_type": "code",
        "colab": {
          "base_uri": "https://localhost:8080/",
          "height": 136
        },
        "outputId": "f9f246fe-04cd-4728-d75b-eb425a1df615"
      },
      "source": [
        "a = 5\n",
        "print(\"%d = %s\" % (a, bin(a)))\n",
        "b = 6\n",
        "print(\"%d = %s\" % (b, bin(b)))\n",
        " \n",
        "print(\"%d & %d = %d (%s)\" % (a,b,a&b,bin(a&b)))\n",
        "print(\"%d | %d = %d (%s)\" % (a,b,a|b,bin(a|b)))\n",
        "print(\"%d ^ %d = %d (%s)\" % (a,b,a^b,bin(a^b)))\n",
        "print(\"%d << 2 = %d (%s)\" % (b,b<<2,bin(b<<2)))\n",
        "print(\"%d >> 2 = %d (%s)\" % (b,b>>2,bin(b>>2)))"
      ],
      "execution_count": 7,
      "outputs": [
        {
          "output_type": "stream",
          "text": [
            "5 = 0b101\n",
            "6 = 0b110\n",
            "5 & 6 = 4 (0b100)\n",
            "5 | 6 = 7 (0b111)\n",
            "5 ^ 6 = 3 (0b11)\n",
            "6 << 2 = 24 (0b11000)\n",
            "6 >> 2 = 1 (0b1)\n"
          ],
          "name": "stdout"
        }
      ]
    },
    {
      "cell_type": "code",
      "metadata": {
        "id": "bppyCsrzd-g3",
        "colab_type": "code",
        "colab": {}
      },
      "source": [
        "\"\"\"\n",
        "Более подробный разбор первой задачи\n",
        "\"\"\"\n",
        "a = 5 \n",
        "b = 6\n",
        "\n",
        "print('a в бинарном формате', bin(a))\n",
        "print('b в бинарном формате', bin(b))\n",
        "\n",
        "print('Бинарный \"И\" оператор: ', a&b)\n",
        "#Бинарный \"И\" оператор, копирует бит в результат только если бит присутствует в обоих операндах.\n",
        "#(a & b) даст нам 4, которое в двоичном формате выглядит так \n",
        "#101 = 5 \n",
        "#110 = 6\n",
        "#----\n",
        "#100 = 4\n",
        "\n",
        "print('Бинарный \"ИЛИ\" оператор: ', a|b)\n",
        "#Бинарный \"ИЛИ\" оператор копирует бит, если тот присутствует в хотя бы в одном операнде.\t\n",
        "#(a | b) даст нам 7, в двоичном формате \n",
        "#101 = 5 \n",
        "#110 = 6\n",
        "#----\n",
        "#111 = 7\n",
        "\n",
        "print('Бинарный \"Исключительное ИЛИ\" оператор: ', a^b)\n",
        "#Бинарный \"Исключительное ИЛИ\" оператор копирует бит только если бит присутствует в одном из операндов, но не в обоих сразу.\n",
        "#(a ^ b) даст нам 3, в двоичном формате\n",
        "#101 = 5 \n",
        "#110 = 6\n",
        "#----\n",
        "#011 = 3\n",
        "\n",
        "print('Побитовый сдвиг влево ', a<<2)\n",
        "#Побитовый сдвиг влево. Значение левого операнда \"сдвигается\" влево на количество бит указанных в правом операнде.\n",
        "#a << 2 в результате даст 20, в двоичном формате\n",
        "#101 = 5 \n",
        "#10100 = 20\n",
        "\n",
        "print('Побитовый сдвиг влево ', a>>2)\n",
        "#Побитовый сдвиг вправо. Значение левого операнда \"сдвигается\" вправо на количество бит указанных в правом операнде.\n",
        "#a >> 2 даст 1, в двоичном формате  0000 1111\n",
        "#101 = 5 \n",
        "#001 = 1"
      ],
      "execution_count": 0,
      "outputs": []
    },
    {
      "cell_type": "markdown",
      "metadata": {
        "id": "P-ua_Tq0eWI1",
        "colab_type": "text"
      },
      "source": [
        " 2.По введенным пользователем координатам двух точек вывести уравнение прямой, проходящей через эти точки."
      ]
    },
    {
      "cell_type": "code",
      "metadata": {
        "id": "B2knO2fGeTD8",
        "colab_type": "code",
        "colab": {
          "base_uri": "https://localhost:8080/",
          "height": 68
        },
        "outputId": "bebd3092-5855-46be-e35e-b244f32abbc6"
      },
      "source": [
        "a = input('Enter the first coordinates x,y: ').split(',')\n",
        "b = input('Enter the the coordinates x,y: ').split(',')\n",
        "\n",
        "A = int(a[1]) - int(b[1])\n",
        "B = int(b[0]) - int(a[0])\n",
        "C = int(a[0]) * int(b[1]) - int(b[0]) * int(a[1])\n",
        "\n",
        "function = '{}x + {}y + {} = 0'.format(A, B, C)\n",
        "print(function)"
      ],
      "execution_count": 14,
      "outputs": [
        {
          "output_type": "stream",
          "text": [
            "Enter the first coordinates x,y: 4,5\n",
            "Enter the the coordinates x,y: 6,7\n",
            "-2x + 2y + -2 = 0\n"
          ],
          "name": "stdout"
        }
      ]
    },
    {
      "cell_type": "markdown",
      "metadata": {
        "id": "wngKyZiffPoT",
        "colab_type": "text"
      },
      "source": [
        "3.Написать программу, которая генерирует в указанных пользователем границах:\n",
        "случайное целое число;\n",
        "случайное вещественное число;\n",
        "случайный символ. Для каждого из трех случаев пользователь задает свои границы диапазона. Например, если надо получить случайный символ от 'a' до 'f', то вводятся эти символы. Программа должна вывести на экран любой символ алфавита от 'a' до 'f' включительно.\n",
        "\n"
      ]
    },
    {
      "cell_type": "code",
      "metadata": {
        "id": "038Axd7-bskK",
        "colab_type": "code",
        "colab": {
          "base_uri": "https://localhost:8080/",
          "height": 119
        },
        "outputId": "10ca6339-c111-4122-f2ef-fec559b92dfc"
      },
      "source": [
        "import random\n",
        "\n",
        "number_range = input('Enter random integer from x to y in form of x,y: ').split(',')\n",
        "rand_int = random.randint(int(number_range[0]), int(number_range[1]))\n",
        "print('Random integer: {}'.format(rand_int))\n",
        "\n",
        "uni_range = input('Enter random float number from x to y in form of x,y: ').split(',')\n",
        "rand_uni = random.uniform(float(uni_range[0]), float(uni_range[1]))\n",
        "print('Random float number: {}'.format(rand_uni))\n",
        "\n",
        "char_range = input('Enter random symbol from x to y in form of x,y: ').split(',')\n",
        "chars = 'abcdefghijklmnopqrstuvwxyzABCDEFGHIJKLMNOPQRSTUVWXYZ'\n",
        "\n",
        "a = chars.index(char_range[0])\n",
        "b = chars.index(char_range[1])\n",
        "\n",
        "rand_uni = random.choice(chars[a:b])\n",
        "print('Random float number: {}'.format(rand_uni)) "
      ],
      "execution_count": 15,
      "outputs": [
        {
          "output_type": "stream",
          "text": [
            "Enter random number from x to y in form of x,y: 3,5\n",
            "Случайное целое число: 5\n",
            "Enter random float number from x to y in form of x,y: 4.5,6,7\n",
            "Случайное вещественное число: 5.242577415898921\n",
            "Enter random symbol from x to y in form of x,y: a,g\n",
            "Случайное вещественное число: f\n"
          ],
          "name": "stdout"
        }
      ]
    },
    {
      "cell_type": "markdown",
      "metadata": {
        "id": "Hf4f8X8egNIt",
        "colab_type": "text"
      },
      "source": [
        "4.1Пользователь вводит две буквы. Определить, на каких местах алфавита они стоят, и сколько между ними находится букв.\n"
      ]
    },
    {
      "cell_type": "code",
      "metadata": {
        "id": "eg4GPMzuc3EJ",
        "colab_type": "code",
        "colab": {
          "base_uri": "https://localhost:8080/",
          "height": 68
        },
        "outputId": "ec264f3d-4379-46cc-c55e-015009e74f47"
      },
      "source": [
        "chars = 'abcdefghijklmnopqrstuvwxyz'\n",
        "\n",
        "char_range = input('Enter the letter from a to z in form x,y: ').split(',')\n",
        "print(char_range)\n",
        "a = chars.index(char_range[0]) + 1\n",
        "b = chars.index(char_range[1]) + 1\n",
        "\n",
        "c = b - a\n",
        "\n",
        "print('First letter is: {} - on {} position,\\\n",
        "      second letter is {} - on {} position.\\\n",
        "      Distance between them {}'.format(char_range[0], a, char_range[1], b, c))"
      ],
      "execution_count": 12,
      "outputs": [
        {
          "output_type": "stream",
          "text": [
            "Enter the letter from a to z in form x,y: r,y\n",
            "['r', 'y']\n",
            "First letter is: r - on 18 position,      second letter is y - on 25 position.      Distance between them 7\n"
          ],
          "name": "stdout"
        }
      ]
    },
    {
      "cell_type": "markdown",
      "metadata": {
        "id": "788R2ouahotk",
        "colab_type": "text"
      },
      "source": [
        "4.2 Пользователь вводит номер буквы в алфавите. Определить, какая это буква.\n"
      ]
    },
    {
      "cell_type": "code",
      "metadata": {
        "id": "rfg8vk4XjB2y",
        "colab_type": "code",
        "colab": {
          "base_uri": "https://localhost:8080/",
          "height": 51
        },
        "outputId": "c7c1a3ab-362e-459f-d23e-15730fff0f09"
      },
      "source": [
        "chars = 'abcdefghijklmnopqrstuvwxyz'\n",
        "charindex = int(input('Enter the number of the letter'))\n",
        "char = chars[charindex-1]\n",
        "print('Letter: {}'.format(char))"
      ],
      "execution_count": 18,
      "outputs": [
        {
          "output_type": "stream",
          "text": [
            "Enter the number of the letter13\n",
            "Letter: m\n"
          ],
          "name": "stdout"
        }
      ]
    },
    {
      "cell_type": "markdown",
      "metadata": {
        "id": "Km5vSik8g3vG",
        "colab_type": "text"
      },
      "source": [
        "5. По длинам трех отрезков, введенных пользователем, определить возможность существования треугольника, составленного из этих отрезков. Если такой треугольник существует, то определить, является ли он разносторонним, равнобедренным или равносторонним.\n",
        "\n"
      ]
    },
    {
      "cell_type": "code",
      "metadata": {
        "id": "XBtO1nC9g09_",
        "colab_type": "code",
        "colab": {
          "base_uri": "https://localhost:8080/",
          "height": 68
        },
        "outputId": "e5dd6b48-e9d4-4f0b-fc49-6f62e797ce58"
      },
      "source": [
        "list_lenght = input('Enter the lengths of the triangle sides through the format x,y,z: ').split(',')\n",
        "a = int(list_lenght[0])\n",
        "b = int(list_lenght[1])\n",
        "c = int(list_lenght[2])\n",
        "print(a,b,c)\n",
        "if (a > 0) & (b > 0) & (c > 0) & ((a+b) > c) & ((a+c) > b) & ((b+c) > a):\n",
        "    match = 0\n",
        "    if (a == b):\n",
        "        match += 1\n",
        "    if (a == c):\n",
        "        match += 1\n",
        "    if (b == c):\n",
        "        match += 1\n",
        "    if match == 3:\n",
        "        print('Its an equilateral triangle')\n",
        "    elif match == 1:\n",
        "        print('Its an isosceles triangle.')\n",
        "    else:\n",
        "        print('Its a triangle of versatility.')\n",
        "else:\n",
        "    print('Its not triangle')"
      ],
      "execution_count": 17,
      "outputs": [
        {
          "output_type": "stream",
          "text": [
            "Enter the lengths of the triangle sides through the format x,y,z: 3,4,5\n",
            "3 4 5\n",
            "Its a triangle of versatility.\n"
          ],
          "name": "stdout"
        }
      ]
    },
    {
      "cell_type": "markdown",
      "metadata": {
        "id": "pKujZ4WzgcIr",
        "colab_type": "text"
      },
      "source": [
        "\n",
        "7.Вводятся три разных числа. Найти, какое из них является средним (больше одного, но меньше другого)."
      ]
    },
    {
      "cell_type": "code",
      "metadata": {
        "id": "IyaHw2nKX6WR",
        "colab_type": "code",
        "colab": {
          "base_uri": "https://localhost:8080/",
          "height": 102
        },
        "outputId": "e7d2d032-5d9e-4ee1-f1fa-8a45a6299571"
      },
      "source": [
        "print('Enter three numbers: ')\n",
        "a = int(input())\n",
        "b = int(input())\n",
        "c = int(input())\n",
        " \n",
        "if (a==b and a==c) or (b==c and b==a) or (c==a and c==b):\n",
        "  print('There equal numbers, try again')\n",
        "elif b < a < c or c < a < b:\n",
        "    print('Medium:', a)\n",
        "elif a < b < c or c < b < a:\n",
        "    print('Medium:', b)\n",
        "elif a < c < b or a < c < b: \n",
        "    print('Medium:', c)\n",
        "else:\n",
        "  print('There equal numbers, try again')"
      ],
      "execution_count": 5,
      "outputs": [
        {
          "output_type": "stream",
          "text": [
            "Enter three numbers: \n",
            "3\n",
            "4\n",
            "5\n",
            "Medium: 4\n"
          ],
          "name": "stdout"
        }
      ]
    }
  ]
}