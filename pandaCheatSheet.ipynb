{
  "nbformat": 4,
  "nbformat_minor": 0,
  "metadata": {
    "colab": {
      "name": "pandaCheatSheet.ipynb",
      "provenance": [],
      "authorship_tag": "ABX9TyPytl2KykzSk2ee+mo02IYL",
      "include_colab_link": true
    },
    "kernelspec": {
      "name": "python3",
      "display_name": "Python 3"
    }
  },
  "cells": [
    {
      "cell_type": "markdown",
      "metadata": {
        "id": "view-in-github",
        "colab_type": "text"
      },
      "source": [
        "<a href=\"https://colab.research.google.com/github/sweetpand/Algorithms/blob/master/pandaCheatSheet.ipynb\" target=\"_parent\"><img src=\"https://colab.research.google.com/assets/colab-badge.svg\" alt=\"Open In Colab\"/></a>"
      ]
    },
    {
      "cell_type": "code",
      "metadata": {
        "id": "sa7nEc3OfmYv",
        "colab_type": "code",
        "colab": {}
      },
      "source": [
        "Contents:\n",
        "1) Setup\n",
        "2) Importing\n",
        "3) Exporting\n",
        "4) Viewing and Inspecting\n",
        "5) Selecting\n",
        "6) Adding / Dropping\n",
        "7) Combining\n",
        "8) Filtering\n",
        "9) Sorting\n",
        "10) Aggregating\n",
        "11) Cleaning\n",
        "12) Other\n",
        "13) Conclusion"
      ],
      "execution_count": 0,
      "outputs": []
    },
    {
      "cell_type": "code",
      "metadata": {
        "id": "1m7klVqZdo8-",
        "colab_type": "code",
        "colab": {}
      },
      "source": [
        "import pandas as pd\n",
        "import numpy as np\n",
        "anime = pd.read_csv('anime-recommendations-database/anime.csv')\n",
        "rating = pd.read_csv('anime-recommendations-database/rating.csv')\n",
        "anime_modified = anime.set_index('name')"
      ],
      "execution_count": 0,
      "outputs": []
    },
    {
      "cell_type": "code",
      "metadata": {
        "id": "7IPlavczeCP4",
        "colab_type": "code",
        "colab": {}
      },
      "source": [
        "anime = pd.read_csv('anime-recommendations-database/anime.csv')"
      ],
      "execution_count": 0,
      "outputs": []
    },
    {
      "cell_type": "code",
      "metadata": {
        "id": "qtVotIFHeEFY",
        "colab_type": "code",
        "colab": {}
      },
      "source": [
        "df = pd.DataFrame([[1,'Bob', 'Builder'],\n",
        "                  [2,'Sally', 'Baker'],\n",
        "                  [3,'Scott', 'Candle Stick Maker']], \n",
        "columns=['id','name', 'occupation'])"
      ],
      "execution_count": 0,
      "outputs": []
    },
    {
      "cell_type": "code",
      "metadata": {
        "id": "scA-ZNJHeGaT",
        "colab_type": "code",
        "colab": {}
      },
      "source": [
        "anime_copy = anime.copy(deep=True)"
      ],
      "execution_count": 0,
      "outputs": []
    },
    {
      "cell_type": "code",
      "metadata": {
        "id": "vZX6vkQFeIoO",
        "colab_type": "code",
        "colab": {}
      },
      "source": [
        "rating[:10].to_csv('saved_ratings.csv', index=False)"
      ],
      "execution_count": 0,
      "outputs": []
    },
    {
      "cell_type": "code",
      "metadata": {
        "id": "Mp-T-91MeNAP",
        "colab_type": "code",
        "colab": {}
      },
      "source": [
        "anime.head(3)\n",
        "rating.tail(1)"
      ],
      "execution_count": 0,
      "outputs": []
    },
    {
      "cell_type": "code",
      "metadata": {
        "id": "nXMK0l5WeNiB",
        "colab_type": "code",
        "colab": {}
      },
      "source": [
        "len(df)\n",
        "#=> 3"
      ],
      "execution_count": 0,
      "outputs": []
    },
    {
      "cell_type": "code",
      "metadata": {
        "id": "7uP_6mYteQBK",
        "colab_type": "code",
        "colab": {}
      },
      "source": [
        "len(ratings['user_id'].unique())"
      ],
      "execution_count": 0,
      "outputs": []
    },
    {
      "cell_type": "code",
      "metadata": {
        "id": "r67irsDEeSP3",
        "colab_type": "code",
        "colab": {}
      },
      "source": [
        "anime.info()"
      ],
      "execution_count": 0,
      "outputs": []
    },
    {
      "cell_type": "code",
      "metadata": {
        "id": "WozSHqzneUhF",
        "colab_type": "code",
        "colab": {}
      },
      "source": [
        "anime.describe()"
      ],
      "execution_count": 0,
      "outputs": []
    },
    {
      "cell_type": "code",
      "metadata": {
        "id": "u2MfNIGCeWur",
        "colab_type": "code",
        "colab": {}
      },
      "source": [
        "anime.type.value_counts()"
      ],
      "execution_count": 0,
      "outputs": []
    },
    {
      "cell_type": "code",
      "metadata": {
        "id": "VDW3y077eYwN",
        "colab_type": "code",
        "colab": {}
      },
      "source": [
        "anime['genre'].tolist()\n",
        "anime['genre']"
      ],
      "execution_count": 0,
      "outputs": []
    },
    {
      "cell_type": "code",
      "metadata": {
        "id": "BwxLWZBJea04",
        "colab_type": "code",
        "colab": {}
      },
      "source": [
        "anime_modified.index.tolist()"
      ],
      "execution_count": 0,
      "outputs": []
    },
    {
      "cell_type": "code",
      "metadata": {
        "id": "Bm1HssqwedF2",
        "colab_type": "code",
        "colab": {}
      },
      "source": [
        "anime.columns.tolist()"
      ],
      "execution_count": 0,
      "outputs": []
    },
    {
      "cell_type": "code",
      "metadata": {
        "id": "oMviODv-egbj",
        "colab_type": "code",
        "colab": {}
      },
      "source": [
        "anime[['name','episodes']]"
      ],
      "execution_count": 0,
      "outputs": []
    },
    {
      "cell_type": "code",
      "metadata": {
        "id": "44u_6PAFekC6",
        "colab_type": "code",
        "colab": {}
      },
      "source": [
        "anime.drop(['anime_id', 'genre', 'members'], axis=1).head()"
      ],
      "execution_count": 0,
      "outputs": []
    },
    {
      "cell_type": "code",
      "metadata": {
        "id": "slm_U0cqep1a",
        "colab_type": "code",
        "colab": {}
      },
      "source": [
        "df = pd.DataFrame([[1,'Bob', 8000],\n",
        "                  [2,'Sally', 9000],\n",
        "                  [3,'Scott', 20]], columns=['id','name', 'power level'])\n",
        "df.append(df.sum(axis=0), ignore_index=True)"
      ],
      "execution_count": 0,
      "outputs": []
    },
    {
      "cell_type": "code",
      "metadata": {
        "id": "g0ZXVQXjesrn",
        "colab_type": "code",
        "colab": {}
      },
      "source": [
        "df1 = anime[0:2]\n",
        "df2 = anime[2:4]\n",
        "pd.concat([df1, df2], ignore_index=True)"
      ],
      "execution_count": 0,
      "outputs": []
    },
    {
      "cell_type": "code",
      "metadata": {
        "id": "0ThoBx7uevgm",
        "colab_type": "code",
        "colab": {}
      },
      "source": [
        "rating.merge(anime, left_on=’anime_id’, right_on=’anime_id’, suffixes=(‘_left’, ‘_right’))"
      ],
      "execution_count": 0,
      "outputs": []
    },
    {
      "cell_type": "code",
      "metadata": {
        "id": "80hoZ3O5eyWN",
        "colab_type": "code",
        "colab": {}
      },
      "source": [
        "anime_modified.loc[['Haikyuu!! Second Season','Gintama']]"
      ],
      "execution_count": 0,
      "outputs": []
    },
    {
      "cell_type": "code",
      "metadata": {
        "id": "ixe9_lvhe2pr",
        "colab_type": "code",
        "colab": {}
      },
      "source": [
        "anime_modified.iloc[0:3]"
      ],
      "execution_count": 0,
      "outputs": []
    },
    {
      "cell_type": "code",
      "metadata": {
        "id": "NHVRLKYQe6QL",
        "colab_type": "code",
        "colab": {}
      },
      "source": [
        "anime[anime['type'].isin(['TV', 'Movie'])]"
      ],
      "execution_count": 0,
      "outputs": []
    },
    {
      "cell_type": "code",
      "metadata": {
        "id": "0Wson4bBe8vX",
        "colab_type": "code",
        "colab": {}
      },
      "source": [
        "anime[1:3]"
      ],
      "execution_count": 0,
      "outputs": []
    },
    {
      "cell_type": "code",
      "metadata": {
        "id": "ClwDXDcbfBCI",
        "colab_type": "code",
        "colab": {}
      },
      "source": [
        "anime[anime['rating'] > 8]"
      ],
      "execution_count": 0,
      "outputs": []
    },
    {
      "cell_type": "code",
      "metadata": {
        "id": "nOy_4EjhfDlC",
        "colab_type": "code",
        "colab": {}
      },
      "source": [
        "anime.sort_values('rating', ascending=False)"
      ],
      "execution_count": 0,
      "outputs": []
    },
    {
      "cell_type": "code",
      "metadata": {
        "id": "bEbh3udwfF5o",
        "colab_type": "code",
        "colab": {}
      },
      "source": [
        "anime.groupby('type').count()"
      ],
      "execution_count": 0,
      "outputs": []
    },
    {
      "cell_type": "code",
      "metadata": {
        "id": "kyN_7NbwfK_o",
        "colab_type": "code",
        "colab": {}
      },
      "source": [
        "anime.groupby([\"type\"]).agg({\n",
        "  \"rating\": \"sum\",\n",
        "  \"episodes\": \"count\",\n",
        "  \"name\": \"last\"\n",
        "}).reset_index()"
      ],
      "execution_count": 0,
      "outputs": []
    },
    {
      "cell_type": "code",
      "metadata": {
        "id": "ZXpTgFD1fRn_",
        "colab_type": "code",
        "colab": {}
      },
      "source": [
        "tmp_df = rating.copy()\n",
        "tmp_df.sort_values('user_id', ascending=True, inplace=True)\n",
        "tmp_df = tmp_df[tmp_df.user_id < 10] \n",
        "tmp_df = tmp_df[tmp_df.anime_id < 30]\n",
        "tmp_df = tmp_df[tmp_df.rating != -1]\n",
        "pd.pivot_table(tmp_df, values='rating', index=['user_id'], columns=['anime_id'], aggfunc=np.sum, fill_value=0)"
      ],
      "execution_count": 0,
      "outputs": []
    },
    {
      "cell_type": "code",
      "metadata": {
        "id": "g0KewMR_fVS7",
        "colab_type": "code",
        "colab": {}
      },
      "source": [
        "pivot = pd.pivot_table(tmp_df, values='rating', index=['user_id'], columns=['anime_id'], aggfunc=np.sum)\n",
        "pivot.fillna(0)"
      ],
      "execution_count": 0,
      "outputs": []
    },
    {
      "cell_type": "code",
      "metadata": {
        "id": "pmG7-OKRfYkZ",
        "colab_type": "code",
        "colab": {}
      },
      "source": [
        "anime.sample(frac=0.25)"
      ],
      "execution_count": 0,
      "outputs": []
    },
    {
      "cell_type": "code",
      "metadata": {
        "id": "Ma8sOa3Vfebr",
        "colab_type": "code",
        "colab": {}
      },
      "source": [
        "for idx,row in anime[:2].iterrows():\n",
        "    print(idx, row)"
      ],
      "execution_count": 0,
      "outputs": []
    },
    {
      "cell_type": "code",
      "metadata": {
        "id": "spnFBSThfglD",
        "colab_type": "code",
        "colab": {}
      },
      "source": [
        "jupyter notebook — NotebookApp.iopub_data_rate_limit=1.0e10"
      ],
      "execution_count": 0,
      "outputs": []
    }
  ]
}