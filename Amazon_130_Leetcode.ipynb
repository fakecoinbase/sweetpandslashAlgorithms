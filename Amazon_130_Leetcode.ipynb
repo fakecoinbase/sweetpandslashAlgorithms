{
  "nbformat": 4,
  "nbformat_minor": 0,
  "metadata": {
    "colab": {
      "name": "Amazon.130.Leetcode.ipynb",
      "provenance": [],
      "authorship_tag": "ABX9TyMkGLw0ILnYJc6otsiO4Tll",
      "include_colab_link": true
    },
    "kernelspec": {
      "name": "python3",
      "display_name": "Python 3"
    }
  },
  "cells": [
    {
      "cell_type": "markdown",
      "metadata": {
        "id": "view-in-github",
        "colab_type": "text"
      },
      "source": [
        "<a href=\"https://colab.research.google.com/github/sweetpand/Algorithms/blob/master/Amazon_130_Leetcode.ipynb\" target=\"_parent\"><img src=\"https://colab.research.google.com/assets/colab-badge.svg\" alt=\"Open In Colab\"/></a>"
      ]
    },
    {
      "cell_type": "markdown",
      "metadata": {
        "id": "1E9t7j7k1VKo",
        "colab_type": "text"
      },
      "source": [
        "\n",
        "\n",
        "```\n",
        "Given a 2D board containing 'X' and 'O' (the letter O), capture all regions surrounded by 'X'.\n",
        "\n",
        "A region is captured by flipping all 'O's into 'X's in that surrounded region.\n",
        "\n",
        "Example:\n",
        "\n",
        "X X X X\n",
        "X O O X\n",
        "X X O X\n",
        "X O X X\n",
        "After running your function, the board should be:\n",
        "\n",
        "X X X X\n",
        "X X X X\n",
        "X X X X\n",
        "X O X X\n",
        "Explanation:\n",
        "\n",
        "Surrounded regions shouldn’t be on the border, which means that any 'O' on the border of the board are not flipped to 'X'. Any 'O' that is not on the border and it is not connected to an 'O' on the border will be flipped to 'X'. Two cells are connected if they are adjacent cells connected horizontally or vertically.\n",
        "```\n",
        "\n"
      ]
    },
    {
      "cell_type": "markdown",
      "metadata": {
        "id": "rbwCun3B8lJK",
        "colab_type": "text"
      },
      "source": [
        "Solution 1. Using BFS"
      ]
    },
    {
      "cell_type": "code",
      "metadata": {
        "id": "lnMYCgRM0yXM",
        "colab_type": "code",
        "colab": {}
      },
      "source": [
        "from typing import List\n",
        "from collections import deque\n",
        "class Solution:\n",
        "    paths = [[-1, 0], [1, 0], [0, -1], [0, 1]]    \n",
        "    def solve(self, board: List[List[str]]) -> None:\n",
        "        if not board or not board[0]:\n",
        "            return []\n",
        "        m = len(board)\n",
        "        n = len(board[0])\n",
        "        q = deque()\n",
        "        visited = [[0]*n for _ in range(m)]\n",
        "        for i in range(m):\n",
        "            if board[i][0] == 'O':\n",
        "                q.append([i, 0])\n",
        "                visited[i][0] = 1\n",
        "            if board[i][n-1] == 'O':\n",
        "                q.append([i, n-1])\n",
        "                visited[i][n-1] = 1\n",
        "        for i in range(n):\n",
        "            if board[0][i] == 'O':\n",
        "                q.append([0, i])\n",
        "                visited[0][i] = 1\n",
        "            if board[m-1][i] == 'O':\n",
        "                q.append([m - 1, i])\n",
        "                visited[m - 1][i] = 1\n",
        "        while q:\n",
        "            x, y = q.popleft()\n",
        "            board[x][y] = 'F'\n",
        "            for a, b in self.paths:\n",
        "                nx, ny = x + a, y + b\n",
        "                if 0 <= nx < m and 0 <= ny < n and board[nx][ny] == 'O' and not visited[nx][ny]:\n",
        "                    q.append([nx, ny])\n",
        "                    visited[nx][ny] = 1\n",
        "        for i in range(m):\n",
        "            for j in range(n):\n",
        "                if board[i][j] == 'O':\n",
        "                    board[i][j] = 'X'\n",
        "                if board[i][j] == 'F':\n",
        "                    board[i][j] = 'O'"
      ],
      "execution_count": 0,
      "outputs": []
    },
    {
      "cell_type": "markdown",
      "metadata": {
        "id": "UHMRyuE_8q67",
        "colab_type": "text"
      },
      "source": [
        "Solution 2. Using DFS (depth first search)"
      ]
    },
    {
      "cell_type": "code",
      "metadata": {
        "id": "75ZrAevG8wvl",
        "colab_type": "code",
        "colab": {}
      },
      "source": [
        "from typing import List\n",
        "class Solution:\n",
        "    paths = [[-1, 0], [1, 0], [0, -1], [0, 1]]\n",
        "\n",
        "    def dfs(self, board, i, j, m, n):\n",
        "        if 0 <= i < m and 0 <= j < n and board[i][j] == 'O':\n",
        "            board[i][j] = 'F'\n",
        "            for x, y in self.paths:\n",
        "                ni, nj = i + x, j + y\n",
        "                board = self.dfs(board, ni, nj, m, n)\n",
        "        return board\n",
        "    \n",
        "    def solve(self, board: List[List[str]]) -> None:\n",
        "        \"\"\"\n",
        "        Do not return anything, modify board in-place instead.\n",
        "        \"\"\"\n",
        "        if not board or not board[0]:\n",
        "            return []\n",
        "        m = len(board)\n",
        "        n = len(board[0])\n",
        "        # print(board)\n",
        "        if m == 0 or n == 0:\n",
        "            return []\n",
        "        for i in range(m):\n",
        "            if board[i][0] == 'O':\n",
        "                board = self.dfs(board, i, 0, m, n)\n",
        "            if board[i][n -1] == 'O':\n",
        "                board = self.dfs(board, i, n - 1, m, n)\n",
        "        for i in range(n):\n",
        "            if board[0][i] == 'O':\n",
        "                board = self.dfs(board, 0, i, m, n)\n",
        "            if board[m-1][i] == 'O':\n",
        "                board = self.dfs(board, m - 1, i, m, n)\n",
        "        for i in range(m):\n",
        "            for j in range(n):\n",
        "                if board[i][j] == 'O':\n",
        "                    board[i][j] = 'X'\n",
        "                if board[i][j] == 'F':\n",
        "                    board[i][j] = 'O'"
      ],
      "execution_count": 0,
      "outputs": []
    }
  ]
}