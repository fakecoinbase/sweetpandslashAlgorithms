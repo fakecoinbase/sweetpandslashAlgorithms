{
  "nbformat": 4,
  "nbformat_minor": 0,
  "metadata": {
    "colab": {
      "name": "Snap_39.ipynb",
      "provenance": [],
      "authorship_tag": "ABX9TyNMOElEoLh2ae+QFZDvVEyW",
      "include_colab_link": true
    },
    "kernelspec": {
      "name": "python3",
      "display_name": "Python 3"
    }
  },
  "cells": [
    {
      "cell_type": "markdown",
      "metadata": {
        "id": "view-in-github",
        "colab_type": "text"
      },
      "source": [
        "<a href=\"https://colab.research.google.com/github/sweetpand/Algorithms/blob/master/Snap_39.ipynb\" target=\"_parent\"><img src=\"https://colab.research.google.com/assets/colab-badge.svg\" alt=\"Open In Colab\"/></a>"
      ]
    },
    {
      "cell_type": "markdown",
      "metadata": {
        "id": "7Yz0VlqbZdCU",
        "colab_type": "text"
      },
      "source": [
        "\n",
        "\n",
        "```\n",
        "This question was asked by: Snapchat\n",
        "Write a function that takes in a list of dictionaries with a key and list of integers and returns a dictionary with the standard deviation of each list.\n",
        "\n",
        "Note that this should be done without using the numpy built in functions.\n",
        "\n",
        "Example:\n",
        "\n",
        "input = [\n",
        "    {\n",
        "        'key': 'list1',\n",
        "        'values': [4,5,2,3,4,5,2,3],\n",
        "    },\n",
        "    {\n",
        "        'key': 'list2',\n",
        "        'values': [1,1,34,12,40,3,9,7],\n",
        "    }\n",
        "]\n",
        "\n",
        "output -> {'list1': 1.12, 'list2': 14.19}\n",
        "```\n",
        "\n"
      ]
    }
  ]
}