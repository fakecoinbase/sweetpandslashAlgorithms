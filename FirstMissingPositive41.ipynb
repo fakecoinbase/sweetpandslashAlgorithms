{
  "nbformat": 4,
  "nbformat_minor": 0,
  "metadata": {
    "colab": {
      "name": "FirstMissingPositive41.ipynb",
      "provenance": [],
      "authorship_tag": "ABX9TyMSjUkX69wK8BlIK0xcxx6D",
      "include_colab_link": true
    },
    "kernelspec": {
      "name": "python3",
      "display_name": "Python 3"
    }
  },
  "cells": [
    {
      "cell_type": "markdown",
      "metadata": {
        "id": "view-in-github",
        "colab_type": "text"
      },
      "source": [
        "<a href=\"https://colab.research.google.com/github/sweetpand/Algorithms/blob/master/FirstMissingPositive41.ipynb\" target=\"_parent\"><img src=\"https://colab.research.google.com/assets/colab-badge.svg\" alt=\"Open In Colab\"/></a>"
      ]
    },
    {
      "cell_type": "markdown",
      "metadata": {
        "id": "u77F2zhHVH7r",
        "colab_type": "text"
      },
      "source": [
        "Given an unsorted integer array, find the smallest missing positive integer.\n",
        "\n",
        "Input: [1,2,0]\n",
        "Output: 3\n",
        "\n",
        "Input: [3,4,-1,1]\n",
        "Output: 2\n",
        "\n",
        "Input: [7,8,9,11,12]\n",
        "Output: 1"
      ]
    },
    {
      "cell_type": "code",
      "metadata": {
        "id": "SNko5AAvRHgO",
        "colab_type": "code",
        "colab": {}
      },
      "source": [
        "def firstMissingPositive_Step1_2(A):\n",
        "    length=len(A)\n",
        "    #base Case\n",
        "    if 1 not in A:\n",
        "        return 1\n",
        "    elif length==1:\n",
        "        return 2\n",
        "    #replace negative intgers and numbers greater than length with 1 \n",
        "    for i in range(length):\n",
        "        if A[i] <=0 or A[i]>length:\n",
        "            A[i]=1\n",
        "    \n",
        "    return(A)"
      ],
      "execution_count": 0,
      "outputs": []
    },
    {
      "cell_type": "code",
      "metadata": {
        "id": "mBHnzh2UROby",
        "colab_type": "code",
        "colab": {
          "base_uri": "https://localhost:8080/",
          "height": 34
        },
        "outputId": "014d8efa-a684-4a06-8ada-d2c36517fa5c"
      },
      "source": [
        "A=[3,4,-1,1,-2]\n",
        "firstMissingPositive_Step1_2(A)"
      ],
      "execution_count": 10,
      "outputs": [
        {
          "output_type": "execute_result",
          "data": {
            "text/plain": [
              "[3, 4, 1, 1, 1]"
            ]
          },
          "metadata": {
            "tags": []
          },
          "execution_count": 10
        }
      ]
    },
    {
      "cell_type": "code",
      "metadata": {
        "id": "KFb_Y0kCRZ_p",
        "colab_type": "code",
        "colab": {}
      },
      "source": [
        "def firstMissingPositive(A):\n",
        "    length=len(A)\n",
        "    #base Case\n",
        "    if 1 not in A:\n",
        "        return 1\n",
        "    elif length==1:\n",
        "        return 2\n",
        "    #replace negative intgers and numbers greater than length with 1 \n",
        "    for i in range(length):\n",
        "        if A[i] <=0 or A[i]>length:\n",
        "            A[i]=1\n",
        "    #Lets use index as hash key and number as sign decector => \n",
        "    # if num [i] =  +ve => i is misisng \n",
        "    # If num[i] = -ve => i is in Array\n",
        "    for i in range(length):\n",
        "        temp=abs(A[i])\n",
        "        #handle duplicates do it only once\n",
        "        if temp == length:\n",
        "            A[0]=-abs(A[0])\n",
        "        else:\n",
        "            A[temp]=-abs(A[temp])\n",
        "    #index of the first positive number is equal to first missing positive\n",
        "    for i in range(1,length):\n",
        "        if A[i] > 0:\n",
        "            return i\n",
        "    if A[0]>0:\n",
        "        return length"
      ],
      "execution_count": 0,
      "outputs": []
    },
    {
      "cell_type": "code",
      "metadata": {
        "id": "oye1WD8nRuRH",
        "colab_type": "code",
        "colab": {
          "base_uri": "https://localhost:8080/",
          "height": 34
        },
        "outputId": "abbf3c41-f184-43fd-ae58-dab0b0634ba7"
      },
      "source": [
        "A=[3,4,-1,1]\n",
        "firstMissingPositive(A)"
      ],
      "execution_count": 13,
      "outputs": [
        {
          "output_type": "execute_result",
          "data": {
            "text/plain": [
              "2"
            ]
          },
          "metadata": {
            "tags": []
          },
          "execution_count": 13
        }
      ]
    },
    {
      "cell_type": "code",
      "metadata": {
        "id": "G1IppdYHR2zO",
        "colab_type": "code",
        "colab": {
          "base_uri": "https://localhost:8080/",
          "height": 34
        },
        "outputId": "66fa58f1-bae8-4d24-fce8-0937541f7108"
      },
      "source": [
        "A=[1,2,0]\n",
        "firstMissingPositive(A)"
      ],
      "execution_count": 14,
      "outputs": [
        {
          "output_type": "execute_result",
          "data": {
            "text/plain": [
              "3"
            ]
          },
          "metadata": {
            "tags": []
          },
          "execution_count": 14
        }
      ]
    },
    {
      "cell_type": "code",
      "metadata": {
        "id": "kzjcsvBmR6Tt",
        "colab_type": "code",
        "colab": {
          "base_uri": "https://localhost:8080/",
          "height": 34
        },
        "outputId": "4cb8123b-28c4-4bc1-e630-a68f91469018"
      },
      "source": [
        "A=[7,8,9,11,12]\n",
        "firstMissingPositive(A)"
      ],
      "execution_count": 15,
      "outputs": [
        {
          "output_type": "execute_result",
          "data": {
            "text/plain": [
              "1"
            ]
          },
          "metadata": {
            "tags": []
          },
          "execution_count": 15
        }
      ]
    },
    {
      "cell_type": "markdown",
      "metadata": {
        "id": "e4w_U9w1R-ly",
        "colab_type": "text"
      },
      "source": [
        "Time Complexity: O(N).\n",
        "\n",
        "space Complexity: O(1)\n"
      ]
    },
    {
      "cell_type": "markdown",
      "metadata": {
        "id": "P0a9cGOb-bmO",
        "colab_type": "text"
      },
      "source": [
        "Solution using extra space: O(N) time and space.\n",
        "\n",
        "\n",
        "If the length of the nums array is N, then the first missing positive will be between 1 to N+1. Think Why N+1? We can have in the array 1 to N.\n",
        "Take an temp array of size N and for any number x in nums such that 1<=x<=N, mark temp[x-1]. Then simply walk the temp array and report the first unmarked index."
      ]
    },
    {
      "cell_type": "code",
      "metadata": {
        "id": "aM34v4Rz9-JQ",
        "colab_type": "code",
        "colab": {}
      },
      "source": [
        "class Solution(object):\n",
        "    def firstMissingPositive(nums):\n",
        "        \"\"\"\n",
        "        :type nums: List[int]\n",
        "        :rtype: int\n",
        "        \"\"\"\n",
        "        temp, N = [None]*len(nums), len(nums)\n",
        "        for x in nums:\n",
        "            if 1<=x<=N:\n",
        "                temp[x-1] = x\n",
        "        for i in range(N):\n",
        "            if temp[i] == None:\n",
        "                return i+1\n",
        "        return N+1"
      ],
      "execution_count": 0,
      "outputs": []
    },
    {
      "cell_type": "code",
      "metadata": {
        "id": "wabRzCHPQ03j",
        "colab_type": "code",
        "colab": {
          "base_uri": "https://localhost:8080/",
          "height": 34
        },
        "outputId": "06498adb-ebe9-4af8-c150-3d69a90b598c"
      },
      "source": [
        "A=[3,4,-1,1,-2]\n",
        "Solution.firstMissingPositive(A)"
      ],
      "execution_count": 4,
      "outputs": [
        {
          "output_type": "execute_result",
          "data": {
            "text/plain": [
              "2"
            ]
          },
          "metadata": {
            "tags": []
          },
          "execution_count": 4
        }
      ]
    },
    {
      "cell_type": "markdown",
      "metadata": {
        "id": "bCijzaWu-ulI",
        "colab_type": "text"
      },
      "source": [
        "Optimized solution with O(1) Space\n",
        "\n",
        "Simply traverse the nums array and put any number within [1, N] in their right place. For example if 2 is in that input, then put 2 at index 1.\n",
        "Now traverse this \"shuffled\" array again. You expect 1 at 0th index. Otherwise it is missing. Then you expect 2 at 1st index and so on.\n",
        "Above idea can be a little tricky. What about cases like [1] and [1,1] - i.e. 1 is in its place or there are duplicates - we need to advance pointer regardless.\n"
      ]
    },
    {
      "cell_type": "code",
      "metadata": {
        "id": "ijhEwnEH-gff",
        "colab_type": "code",
        "colab": {}
      },
      "source": [
        "class Solution(object):\n",
        "    def firstMissingPositive(nums):\n",
        "        \"\"\"\n",
        "        :type nums: List[int]\n",
        "        :rtype: int\n",
        "        \"\"\"\n",
        "        N, i = len(nums), 0\n",
        "        while i < N:\n",
        "            while 1<=nums[i]<=N:\n",
        "                idx_expected = nums[i]-1\n",
        "                if nums[i] == nums[idx_expected]:\n",
        "                    break\n",
        "                nums[i], nums[idx_expected] = nums[idx_expected], nums[i]\n",
        "            i = i + 1\n",
        "        for i in range(N):\n",
        "            if nums[i] != i+1:\n",
        "                return i+1\n",
        "        return N+1"
      ],
      "execution_count": 0,
      "outputs": []
    },
    {
      "cell_type": "markdown",
      "metadata": {
        "id": "1cM4IwdIVGmk",
        "colab_type": "text"
      },
      "source": [
        ""
      ]
    },
    {
      "cell_type": "code",
      "metadata": {
        "id": "riWdGDwKRDfA",
        "colab_type": "code",
        "colab": {
          "base_uri": "https://localhost:8080/",
          "height": 34
        },
        "outputId": "d6c98a60-ab29-439d-ca75-3bbf02e7577a"
      },
      "source": [
        "A=[3,4,-1,1,-2]\n",
        "Solution.firstMissingPositive(A)"
      ],
      "execution_count": 7,
      "outputs": [
        {
          "output_type": "execute_result",
          "data": {
            "text/plain": [
              "2"
            ]
          },
          "metadata": {
            "tags": []
          },
          "execution_count": 7
        }
      ]
    },
    {
      "cell_type": "code",
      "metadata": {
        "id": "JZ6KGwiWRGEW",
        "colab_type": "code",
        "colab": {}
      },
      "source": [
        ""
      ],
      "execution_count": 0,
      "outputs": []
    }
  ]
}