{
  "nbformat": 4,
  "nbformat_minor": 0,
  "metadata": {
    "colab": {
      "name": "pretrain.ipynb",
      "provenance": [],
      "authorship_tag": "ABX9TyPgXxHS39xhudPh5v6XTWXE",
      "include_colab_link": true
    },
    "kernelspec": {
      "name": "python3",
      "display_name": "Python 3"
    }
  },
  "cells": [
    {
      "cell_type": "markdown",
      "metadata": {
        "id": "view-in-github",
        "colab_type": "text"
      },
      "source": [
        "<a href=\"https://colab.research.google.com/github/sweetpand/Algorithms/blob/master/pretrain.ipynb\" target=\"_parent\"><img src=\"https://colab.research.google.com/assets/colab-badge.svg\" alt=\"Open In Colab\"/></a>"
      ]
    },
    {
      "cell_type": "code",
      "metadata": {
        "id": "xsCCYfUsRZKG",
        "colab_type": "code",
        "colab": {}
      },
      "source": [
        "import torchvision.models as models\n",
        "\n",
        "import torch\n",
        "import torch.nn as nn\n",
        "import torch.nn.functional as F\n",
        "from torchvision import transforms \n",
        "\n",
        "import numpy as np\n",
        "from torch.autograd import Variable\n",
        "\n",
        "import pandas as pd\n",
        "from sklearn.model_selection import train_test_split\n",
        "\n",
        "from PIL import Image\n",
        "import argparse\n",
        "import sys, os, shutil, random"
      ],
      "execution_count": 0,
      "outputs": []
    },
    {
      "cell_type": "code",
      "metadata": {
        "id": "zqcBazqBSODI",
        "colab_type": "code",
        "colab": {}
      },
      "source": [
        "x = np.random.randn(1, 3, 299, 299)"
      ],
      "execution_count": 0,
      "outputs": []
    },
    {
      "cell_type": "code",
      "metadata": {
        "id": "SwgCFgY-SPJH",
        "colab_type": "code",
        "colab": {}
      },
      "source": [
        "x = Variable(torch.from_numpy(x).float(), requires_grad=False).cuda()"
      ],
      "execution_count": 0,
      "outputs": []
    },
    {
      "cell_type": "code",
      "metadata": {
        "id": "nR4yv_-YSWyF",
        "colab_type": "code",
        "colab": {}
      },
      "source": [
        "class inception_v3(nn.Module):\n",
        "    \"\"\"docstring for inception_v3\"\"\"\n",
        "    def __init__(self):\n",
        "        super(inception_v3, self).__init__()\n",
        "        self.model = models.inception_v3(pretrained=True)\n",
        "        self.model.fc = nn.Linear(2048, 512)\n",
        "        self.model.AuxLogits.fc = nn.Linear(768, 512)\n",
        "        self.linear = nn.Linear(1024, 1)\n",
        "    def forward(self, x, xx):\n",
        "        #print(self.model(x)[0].size(), self.model(x)[1].size())\n",
        "        x = self.model(x)[0] + self.model(x)[1]\n",
        "        xx = self.model(xx)[0] + self.model(xx)[1]\n",
        "        xxx= F.sigmoid(self.linear(torch.cat([x, xx], dim=1)))\n",
        "        return xxx"
      ],
      "execution_count": 0,
      "outputs": []
    },
    {
      "cell_type": "code",
      "metadata": {
        "id": "TvNlZIm8SdsV",
        "colab_type": "code",
        "colab": {}
      },
      "source": [
        "model = inception_v3()\n",
        "model = model.cuda()"
      ],
      "execution_count": 0,
      "outputs": []
    },
    {
      "cell_type": "code",
      "metadata": {
        "id": "AtAHInTfSexp",
        "colab_type": "code",
        "colab": {}
      },
      "source": [
        "model(x, x)"
      ],
      "execution_count": 0,
      "outputs": []
    },
    {
      "cell_type": "code",
      "metadata": {
        "id": "sE6fTG2rSha6",
        "colab_type": "code",
        "colab": {}
      },
      "source": [
        "image = Image.open(\"resized_train/4.jpg\")"
      ],
      "execution_count": 0,
      "outputs": []
    },
    {
      "cell_type": "code",
      "metadata": {
        "id": "Qry5KnRZSl9p",
        "colab_type": "code",
        "colab": {}
      },
      "source": [
        "image = torch.from_numpy(np.array(image).transpose(2, 0, 1)).float()"
      ],
      "execution_count": 0,
      "outputs": []
    },
    {
      "cell_type": "code",
      "metadata": {
        "id": "xPShOb0lSo6d",
        "colab_type": "code",
        "colab": {}
      },
      "source": [
        "norm = transforms.Normalize(mean=0, std=1)"
      ],
      "execution_count": 0,
      "outputs": []
    },
    {
      "cell_type": "code",
      "metadata": {
        "id": "d64yFJ3vSss_",
        "colab_type": "code",
        "colab": {}
      },
      "source": [
        "norm(image)"
      ],
      "execution_count": 0,
      "outputs": []
    },
    {
      "cell_type": "code",
      "metadata": {
        "id": "H0ox-s1mSvJP",
        "colab_type": "code",
        "colab": {}
      },
      "source": [
        "transform = transforms.Compose([\n",
        "    transforms.RandomCrop(size=(100, 100))\n",
        "])"
      ],
      "execution_count": 0,
      "outputs": []
    },
    {
      "cell_type": "code",
      "metadata": {
        "id": "Y4Qhln6VSx0M",
        "colab_type": "code",
        "colab": {}
      },
      "source": [
        "transform(image)"
      ],
      "execution_count": 0,
      "outputs": []
    },
    {
      "cell_type": "code",
      "metadata": {
        "id": "6QEp9wV6S0Uv",
        "colab_type": "code",
        "colab": {}
      },
      "source": [
        ""
      ],
      "execution_count": 0,
      "outputs": []
    }
  ]
}