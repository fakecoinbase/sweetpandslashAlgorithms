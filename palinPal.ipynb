{
  "nbformat": 4,
  "nbformat_minor": 0,
  "metadata": {
    "colab": {
      "name": "palinPal.ipynb",
      "provenance": [],
      "authorship_tag": "ABX9TyP/1ytYO15fW9oBw1lQSjQ7",
      "include_colab_link": true
    },
    "kernelspec": {
      "name": "python3",
      "display_name": "Python 3"
    }
  },
  "cells": [
    {
      "cell_type": "markdown",
      "metadata": {
        "id": "view-in-github",
        "colab_type": "text"
      },
      "source": [
        "<a href=\"https://colab.research.google.com/github/sweetpand/Algorithms/blob/master/palinPal.ipynb\" target=\"_parent\"><img src=\"https://colab.research.google.com/assets/colab-badge.svg\" alt=\"Open In Colab\"/></a>"
      ]
    },
    {
      "cell_type": "code",
      "metadata": {
        "id": "Mf7uRm_XpG4l",
        "colab_type": "code",
        "colab": {}
      },
      "source": [
        "palin_perm = 'Tact Coa'\n",
        "not_palin_perm = 'This is not a palindrome permutation'"
      ],
      "execution_count": 0,
      "outputs": []
    },
    {
      "cell_type": "code",
      "metadata": {
        "id": "OT5eAPObpZk0",
        "colab_type": "code",
        "colab": {}
      },
      "source": [
        "# TO: O(n)\n",
        "# SC: O(n)\n",
        "def is_palin_perm(input_str):\n",
        "  input_str = input_str.replace(\" \", \"\")\n",
        "  input_str = input_str.lower()\n",
        "\n",
        "  d = dict()\n",
        "\n",
        "  for i in input_str:\n",
        "    if i in d:\n",
        "      d[i] += 1\n",
        "    else:\n",
        "      d[i] = 1\n",
        "  odd_count = 0\n",
        "  for k, v in d.items():\n",
        "    if v % 2 != 0 and odd_count == 0:\n",
        "      odd_count += 1\n",
        "    elif v % 2 != 0 and odd_count != 0:\n",
        "      return False\n",
        "  return True"
      ],
      "execution_count": 0,
      "outputs": []
    },
    {
      "cell_type": "code",
      "metadata": {
        "id": "Sf0dUBqJqbaw",
        "colab_type": "code",
        "colab": {
          "base_uri": "https://localhost:8080/",
          "height": 34
        },
        "outputId": "af9dc369-70a2-4ef8-d08e-7b5ea10274bd"
      },
      "source": [
        "print(is_palin_perm(palin_perm))"
      ],
      "execution_count": 5,
      "outputs": [
        {
          "output_type": "stream",
          "text": [
            "True\n"
          ],
          "name": "stdout"
        }
      ]
    }
  ]
}