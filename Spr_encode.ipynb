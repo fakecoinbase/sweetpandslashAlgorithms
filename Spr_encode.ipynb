{
  "nbformat": 4,
  "nbformat_minor": 0,
  "metadata": {
    "colab": {
      "name": "Spr_encode.ipynb",
      "provenance": [],
      "authorship_tag": "ABX9TyO39bC2irSSUTc9w6I+i7ek",
      "include_colab_link": true
    },
    "kernelspec": {
      "name": "python3",
      "display_name": "Python 3"
    }
  },
  "cells": [
    {
      "cell_type": "markdown",
      "metadata": {
        "id": "view-in-github",
        "colab_type": "text"
      },
      "source": [
        "<a href=\"https://colab.research.google.com/github/sweetpand/Algorithms/blob/master/Spr_encode.ipynb\" target=\"_parent\"><img src=\"https://colab.research.google.com/assets/colab-badge.svg\" alt=\"Open In Colab\"/></a>"
      ]
    },
    {
      "cell_type": "code",
      "metadata": {
        "id": "7SBIWjCNJTz6",
        "colab_type": "code",
        "colab": {}
      },
      "source": [
        "def spreadsheet_encode_column(col):\n",
        "  num = 0\n",
        "  count = len(col) - 1\n",
        "  for s in col:\n",
        "    num += 26**count * (ord(s) - ord('A') + 1)\n",
        "    count -= 1\n",
        "  return num"
      ],
      "execution_count": 0,
      "outputs": []
    },
    {
      "cell_type": "code",
      "metadata": {
        "id": "YBlE1Tb-J7h0",
        "colab_type": "code",
        "colab": {
          "base_uri": "https://localhost:8080/",
          "height": 34
        },
        "outputId": "fae62f8f-65d1-4c76-f5a6-f2a71eef1f5a"
      },
      "source": [
        "print(spreadsheet_encode_column(\"ABB\"))"
      ],
      "execution_count": 5,
      "outputs": [
        {
          "output_type": "stream",
          "text": [
            "730\n"
          ],
          "name": "stdout"
        }
      ]
    }
  ]
}