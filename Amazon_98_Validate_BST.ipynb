{
  "nbformat": 4,
  "nbformat_minor": 0,
  "metadata": {
    "colab": {
      "name": "Amazon.98.Validate_BST.ipynb",
      "provenance": [],
      "authorship_tag": "ABX9TyOZTn/G/nsf9E+l9/CyXkns",
      "include_colab_link": true
    },
    "kernelspec": {
      "name": "python3",
      "display_name": "Python 3"
    }
  },
  "cells": [
    {
      "cell_type": "markdown",
      "metadata": {
        "id": "view-in-github",
        "colab_type": "text"
      },
      "source": [
        "<a href=\"https://colab.research.google.com/github/sweetpand/Algorithms/blob/master/Amazon_98_Validate_BST.ipynb\" target=\"_parent\"><img src=\"https://colab.research.google.com/assets/colab-badge.svg\" alt=\"Open In Colab\"/></a>"
      ]
    },
    {
      "cell_type": "markdown",
      "metadata": {
        "id": "Vr0U6sHYDogw",
        "colab_type": "text"
      },
      "source": [
        "\n",
        "\n",
        "```\n",
        "Given a binary tree, determine if it is a valid binary search tree (BST).\n",
        "\n",
        "Assume a BST is defined as follows:\n",
        "\n",
        "The left subtree of a node contains only nodes with keys less than the node's key.\n",
        "The right subtree of a node contains only nodes with keys greater than the node's key.\n",
        "Both the left and right subtrees must also be binary search trees.\n",
        " \n",
        "\n",
        "Example 1:\n",
        "\n",
        "    2\n",
        "   / \\\n",
        "  1   3\n",
        "\n",
        "Input: [2,1,3]\n",
        "Output: true\n",
        "Example 2:\n",
        "\n",
        "    5\n",
        "   / \\\n",
        "  1   4\n",
        "     / \\\n",
        "    3   6\n",
        "\n",
        "Input: [5,1,4,null,null,3,6]\n",
        "Output: false\n",
        "Explanation: The root node's value is 5 but its right child's value is 4.\n",
        "```\n",
        "\n"
      ]
    },
    {
      "cell_type": "code",
      "metadata": {
        "id": "GGcN_x-DEFbV",
        "colab_type": "code",
        "colab": {}
      },
      "source": [
        "# recursively\n",
        "def isValidBST1(self, root):\n",
        "    Min, Max = -(1<<31)-1, (1<<31)\n",
        "    return self.helper(root, Min, Max)\n",
        "    \n",
        "def helper(self, root, Min, Max):\n",
        "    if not root: # root is None\n",
        "        return True\n",
        "    if not root.left and not root.right: # root has no leaf\n",
        "        if Min < root.val < Max:\n",
        "            return True\n",
        "        else:\n",
        "            return False\n",
        "    if not root.left and root.right: # root only has right leaf\n",
        "        return root.val < root.right.val and self.helper(root.right, root.val, Max)\n",
        "    elif root.left and not root.right: # root only has left leaf\n",
        "        return root.val > root.left.val and self.helper(root.left, Min, root.val)\n",
        "    else: # root has both left and right leaves\n",
        "        return root.left.val < root.val < root.right.val and self.helper(root.left, Min, root.val) and self.helper(root.right, root.val, Max)\n",
        "\n",
        "# iteratively, in-order traversal\n",
        "# O(n) time and O(n)+O(lgn) space\n",
        "def isValidBST(self, root):\n",
        "    stack, res = [], []\n",
        "    while True:\n",
        "        while root:\n",
        "            stack.append(root)\n",
        "            root = root.left\n",
        "        # if root is None or all the nodes have \n",
        "        # been traversed and have no confliction \n",
        "        if not stack:\n",
        "            return True\n",
        "        node = stack.pop()\n",
        "        # res stores the current values in in-order \n",
        "        # traversal order, node.val should larger than\n",
        "        # the last element in res\n",
        "        if res and node.val <= res[-1]:\n",
        "            return False\n",
        "        res.append(node.val)\n",
        "        root = node.right"
      ],
      "execution_count": 0,
      "outputs": []
    },
    {
      "cell_type": "code",
      "metadata": {
        "id": "plwbWiyKD-Tu",
        "colab_type": "code",
        "colab": {}
      },
      "source": [
        "def isValidBST(self, root):\n",
        "    res, self.flag = [], True\n",
        "    self.helper(root, res)\n",
        "    return self.flag\n",
        "    \n",
        "def helper(self, root, res):\n",
        "    if root:\n",
        "        self.helper(root.left, res)\n",
        "        if res and root.val <= res[-1]:\n",
        "            self.flag = False\n",
        "            return\n",
        "        res.append(root.val)\n",
        "        self.helper(root.right, res)"
      ],
      "execution_count": 0,
      "outputs": []
    },
    {
      "cell_type": "code",
      "metadata": {
        "id": "kypd_Z_FDRFj",
        "colab_type": "code",
        "colab": {}
      },
      "source": [
        "def isValidBST(self, root):\n",
        "    return self.helper(root, float(\"-inf\"), float(\"inf\"))\n",
        "    \n",
        "def helper(self, root, low, high):\n",
        "    if not root:\n",
        "        return True\n",
        "    if not root.left and not root.right:\n",
        "        return low < root.val < high\n",
        "    return low < root.val < high and self.helper(root.left, low, root.val) and self.helper(root.right, root.val, high)"
      ],
      "execution_count": 0,
      "outputs": []
    }
  ]
}