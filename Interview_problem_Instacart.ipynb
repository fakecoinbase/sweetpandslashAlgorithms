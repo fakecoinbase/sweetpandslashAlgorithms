{
  "nbformat": 4,
  "nbformat_minor": 0,
  "metadata": {
    "colab": {
      "name": "Interview_problem_Instacart.ipynb",
      "provenance": [],
      "authorship_tag": "ABX9TyOUZneB/XbJINw/2EiQ8t+E",
      "include_colab_link": true
    },
    "kernelspec": {
      "name": "python3",
      "display_name": "Python 3"
    }
  },
  "cells": [
    {
      "cell_type": "markdown",
      "metadata": {
        "id": "view-in-github",
        "colab_type": "text"
      },
      "source": [
        "<a href=\"https://colab.research.google.com/github/sweetpand/Algorithms/blob/master/Interview_problem_Instacart.ipynb\" target=\"_parent\"><img src=\"https://colab.research.google.com/assets/colab-badge.svg\" alt=\"Open In Colab\"/></a>"
      ]
    },
    {
      "cell_type": "markdown",
      "metadata": {
        "id": "ZOKGiJX8RlOI",
        "colab_type": "text"
      },
      "source": [
        "\n",
        "\n",
        "```\n",
        "This question was asked by: Instacart\n",
        "Given a list of stop words, write a function that takes a string and returns a string stripped of the stop words.\n",
        "\n",
        "Example:\n",
        "\n",
        "stopwords = [\n",
        "    'I', \n",
        "    'as', \n",
        "    'to', \n",
        "    'you', \n",
        "    'your', \n",
        "    'but', \n",
        "    'be', \n",
        "    'a',\n",
        "]\n",
        "\n",
        "paragraph = 'I want to figure out how I can be a better data scientist'\n",
        "\n",
        "Output: \n",
        "\n",
        "stripped_paragraph = 'want figure out how can better data scientist'\n",
        " \n",
        "\n",
        "Check your solution against other data scientists\n",
        "Forwarded this problem by a friend? Subscribe here\n",
        "Want an in-depth guide to every problem? Sign up for premium access!\n",
        "\n",
        "```\n",
        "\n"
      ]
    },
    {
      "cell_type": "code",
      "metadata": {
        "id": "yK56JCrURed0",
        "colab_type": "code",
        "colab": {}
      },
      "source": [
        "stopwords = [\n",
        "    'I', \n",
        "    'as', \n",
        "    'to', \n",
        "    'you', \n",
        "    'your', \n",
        "    'but', \n",
        "    'be', \n",
        "    'a',\n",
        "]"
      ],
      "execution_count": 0,
      "outputs": []
    },
    {
      "cell_type": "code",
      "metadata": {
        "id": "zrGd1j_pRymM",
        "colab_type": "code",
        "colab": {}
      },
      "source": [
        "query = 'I want to figure out how I can be a better data scientist'"
      ],
      "execution_count": 0,
      "outputs": []
    },
    {
      "cell_type": "code",
      "metadata": {
        "id": "_hU8CCOlR0b9",
        "colab_type": "code",
        "colab": {}
      },
      "source": [
        "querywords = query.split()"
      ],
      "execution_count": 0,
      "outputs": []
    },
    {
      "cell_type": "code",
      "metadata": {
        "id": "spa54ioDSB53",
        "colab_type": "code",
        "colab": {
          "base_uri": "https://localhost:8080/",
          "height": 34
        },
        "outputId": "e471b07e-61b6-4cf8-ec59-f83814e1f4b4"
      },
      "source": [
        "resultwords  = [word for word in querywords if not word in stopwords]\n",
        "result = ' '.join(resultwords)\n",
        "print(result)"
      ],
      "execution_count": 18,
      "outputs": [
        {
          "output_type": "stream",
          "text": [
            "want figure out how can better data scientist\n"
          ],
          "name": "stdout"
        }
      ]
    }
  ]
}