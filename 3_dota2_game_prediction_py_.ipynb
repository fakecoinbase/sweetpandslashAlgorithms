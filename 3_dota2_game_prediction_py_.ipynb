{
  "nbformat": 4,
  "nbformat_minor": 0,
  "metadata": {
    "colab": {
      "name": "3-dota2_game_prediction.py .ipynb",
      "provenance": [],
      "authorship_tag": "ABX9TyOjkYKInjcIkSsMckM1lm1l",
      "include_colab_link": true
    },
    "kernelspec": {
      "name": "python3",
      "display_name": "Python 3"
    }
  },
  "cells": [
    {
      "cell_type": "markdown",
      "metadata": {
        "id": "view-in-github",
        "colab_type": "text"
      },
      "source": [
        "<a href=\"https://colab.research.google.com/github/sweetpand/Algorithms/blob/master/3_dota2_game_prediction_py_.ipynb\" target=\"_parent\"><img src=\"https://colab.research.google.com/assets/colab-badge.svg\" alt=\"Open In Colab\"/></a>"
      ]
    },
    {
      "cell_type": "code",
      "metadata": {
        "id": "EUWi-JxTpwmH",
        "colab_type": "code",
        "colab": {}
      },
      "source": [
        "import sys\n",
        "from numpy import *\n",
        "\n",
        "txt = 'Data/dota2_train.txt'\n",
        "\n",
        "# Train on dota2_train (n = 15,000)\n",
        "train = loadtxt(txt, delimiter = ',', \n",
        "\tdtype = {'names': ('hero1', 'hero2', 'hero3', 'hero4', 'hero5', 'hero6', 'hero7', 'hero8', 'hero9', 'hero10', 'outcome'),\n",
        "\t         'formats': ('S10', 'S10', 'S10', 'S10', 'S10', 'S10', 'S10', 'S10', 'S10', 'S10', 'i1')})\n",
        "\n",
        "\n",
        "\n",
        "def predict_game(heros):\n",
        "\tresult = 1\n",
        "\treturn(result)\n",
        "\n",
        "stdin = sys.stdin.readlines()\n",
        "\n",
        "# Get arguments using stdin\n",
        "N = int(stdin[0])\n",
        "\n",
        "for i in range(N):\n",
        "\tinput = stdin[i]\n",
        "\tresult = predict_game(input)\n",
        "\tprint(result)"
      ],
      "execution_count": 0,
      "outputs": []
    },
    {
      "cell_type": "code",
      "metadata": {
        "id": "-2BswVnjun7X",
        "colab_type": "code",
        "colab": {}
      },
      "source": [
        "from sklearn import tree\n",
        "\n",
        "# Open the file and read in data from that.\n",
        "training_data_file = open(\"trainingdata.txt\")\n",
        "theList = []\n",
        "for entry in training_data_file:\n",
        "    entry = entry.strip()\n",
        "    theList.append(entry)\n",
        "training_data_file.close()\n",
        "\n",
        "# Initialize a dictionary\n",
        "db = dict()\n",
        "\n",
        "# Iterate through each line in theList\n",
        "i = 0\n",
        "count = 0\n",
        "\n",
        "# Each champion is assigned a unique id\n",
        "for item in theList:\n",
        "    if '1' in item:\n",
        "        champions = item.split(',')\n",
        "        champions.pop()\n",
        "        for j in range(5):\n",
        "            if champions[j] not in db:\n",
        "                db[champions[j]] = count\n",
        "                count += 1\n",
        "\n",
        "    else:\n",
        "        champions = item.split(',')\n",
        "        champions.pop()\n",
        "        j = 5\n",
        "        for j in range(5, 10):\n",
        "            if champions[j] not in db:\n",
        "                db[champions[j]] = count\n",
        "                count += 1\n",
        "\n",
        "dataChampions = []\n",
        "dataWinners = []\n",
        "\n",
        "for item in theList:\n",
        "    data = []\n",
        "    champions = item.split(',')\n",
        "    winner = champions.pop()\n",
        "    dataWinners.append(winner)\n",
        "    j = 0\n",
        "    for j in range(len(champions)):\n",
        "        data.append(db[champions[j]])\n",
        "        j += 1\n",
        "    dataChampions.append(data)\n",
        "\n",
        "# Import the classifier\n",
        "my_classifier = tree.DecisionTreeClassifier()\n",
        "\n",
        "# Train the classifier\n",
        "my_classifier.fit(dataChampions, dataWinners)\n",
        "\n",
        "# Test the algorithm\n",
        "inp = int(input())\n",
        "inputList = []\n",
        "\n",
        "for k in range(inp):\n",
        "    line = input()\n",
        "    inputList.append(line)\n",
        "\n",
        "testChampions = []\n",
        "\n",
        "for item in inputList:\n",
        "    stringChampions = item.split(',')\n",
        "    intChampions = []\n",
        "    for z in range(10):\n",
        "        intChampions.append(db[stringChampions[z]])\n",
        "    testChampions.append(intChampions)\n",
        "\n",
        "predictions = my_classifier.predict(testChampions)\n",
        "\n",
        "# Print the results\n",
        "for prediction in predictions:\n",
        "    print(prediction)"
      ],
      "execution_count": 0,
      "outputs": []
    },
    {
      "cell_type": "code",
      "metadata": {
        "id": "iIZlrFoIurh4",
        "colab_type": "code",
        "colab": {}
      },
      "source": [
        ""
      ],
      "execution_count": 0,
      "outputs": []
    }
  ]
}